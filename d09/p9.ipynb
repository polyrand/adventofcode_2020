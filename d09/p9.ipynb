{
 "cells": [
  {
   "cell_type": "code",
   "execution_count": 13,
   "metadata": {},
   "outputs": [],
   "source": [
    "import itertools"
   ]
  },
  {
   "cell_type": "code",
   "execution_count": 11,
   "metadata": {},
   "outputs": [],
   "source": [
    "with open(\"input.txt\") as f:\n",
    "    data = f.read().split(\"\\n\")"
   ]
  },
  {
   "cell_type": "code",
   "execution_count": 59,
   "metadata": {},
   "outputs": [
    {
     "name": "stdout",
     "output_type": "stream",
     "text": [
      "Resultado 138879426\n"
     ]
    }
   ],
   "source": [
    "for idx, num in enumerate(data):\n",
    "\n",
    "    if idx <= 24:\n",
    "        continue\n",
    "\n",
    "    to_try = itertools.combinations(data[idx - 25 : idx], 2)\n",
    "\n",
    "    results = []\n",
    "\n",
    "    result = int(num)\n",
    "\n",
    "    for n1, n2 in to_try:\n",
    "\n",
    "        n1 = int(n1)\n",
    "        n2 = int(n2)\n",
    "\n",
    "        if n1 + n2 == result:\n",
    "            results.append(True)\n",
    "        else:\n",
    "            results.append(False)\n",
    "\n",
    "    if not any(results):\n",
    "        print(f\"Resultado {num}\")"
   ]
  },
  {
   "cell_type": "code",
   "execution_count": 79,
   "metadata": {},
   "outputs": [],
   "source": [
    "invalid_num = 138879426"
   ]
  },
  {
   "cell_type": "code",
   "execution_count": 85,
   "metadata": {},
   "outputs": [
    {
     "name": "stdout",
     "output_type": "stream",
     "text": [
      "456\n",
      "16\n",
      "572\n",
      "0\n"
     ]
    }
   ],
   "source": [
    "for i in range(len(data)):\n",
    "    # print(f\"working with {i}\")\n",
    "\n",
    "    accum = 0\n",
    "\n",
    "    movement = 0\n",
    "\n",
    "    accum += int(data[i])\n",
    "\n",
    "    while accum < invalid_num:\n",
    "\n",
    "        movement += 1\n",
    "\n",
    "        accum += int(data[i + movement])\n",
    "\n",
    "    if accum == invalid_num:\n",
    "        print(i)\n",
    "        print(movement)"
   ]
  },
  {
   "cell_type": "code",
   "execution_count": 92,
   "metadata": {},
   "outputs": [],
   "source": [
    "nums_add = data[456:456+17]"
   ]
  },
  {
   "cell_type": "code",
   "execution_count": 95,
   "metadata": {},
   "outputs": [],
   "source": [
    "total = 0\n",
    "\n",
    "for n in nums_add:\n",
    "    total += int(n)\n",
    "    \n",
    "assert total == invalid_num"
   ]
  },
  {
   "cell_type": "code",
   "execution_count": 96,
   "metadata": {},
   "outputs": [],
   "source": [
    "parsed_nums = [int(n) for n in nums_add]"
   ]
  },
  {
   "cell_type": "code",
   "execution_count": 100,
   "metadata": {},
   "outputs": [
    {
     "data": {
      "text/plain": [
       "23761694"
      ]
     },
     "execution_count": 100,
     "metadata": {},
     "output_type": "execute_result"
    }
   ],
   "source": [
    "max(parsed_nums) + min(parsed_nums)"
   ]
  },
  {
   "cell_type": "code",
   "execution_count": null,
   "metadata": {},
   "outputs": [],
   "source": []
  }
 ],
 "metadata": {
  "kernelspec": {
   "display_name": "testing",
   "language": "python",
   "name": "testing"
  },
  "language_info": {
   "codemirror_mode": {
    "name": "ipython",
    "version": 3
   },
   "file_extension": ".py",
   "mimetype": "text/x-python",
   "name": "python",
   "nbconvert_exporter": "python",
   "pygments_lexer": "ipython3",
   "version": "3.8.3"
  }
 },
 "nbformat": 4,
 "nbformat_minor": 4
}
