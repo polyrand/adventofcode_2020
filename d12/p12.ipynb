{
 "cells": [
  {
   "cell_type": "code",
   "execution_count": null,
   "metadata": {},
   "outputs": [],
   "source": [
    "from dataclasses import dataclass\n",
    "\n",
    "from enum import Enum, auto"
   ]
  },
  {
   "cell_type": "code",
   "execution_count": 2,
   "metadata": {},
   "outputs": [],
   "source": [
    "class Movement(Enum):\n",
    "    north = auto()\n",
    "    south = auto()\n",
    "    east = auto()\n",
    "    west = auto()\n",
    "    left = auto()\n",
    "    right = auto()\n",
    "    forward = auto()"
   ]
  },
  {
   "cell_type": "code",
   "execution_count": 3,
   "metadata": {},
   "outputs": [],
   "source": [
    "class FacingDirection(Enum):\n",
    "    east = auto()\n",
    "    west = auto()\n",
    "    south = auto()\n",
    "    north = auto()"
   ]
  },
  {
   "cell_type": "code",
   "execution_count": 4,
   "metadata": {},
   "outputs": [],
   "source": [
    "@dataclass\n",
    "class Action:\n",
    "    movement: Movement\n",
    "    num: int"
   ]
  },
  {
   "cell_type": "code",
   "execution_count": 5,
   "metadata": {},
   "outputs": [],
   "source": [
    "with open(\"input.txt\") as f:\n",
    "    data = f.read().split(\"\\n\")"
   ]
  },
  {
   "cell_type": "code",
   "execution_count": 6,
   "metadata": {},
   "outputs": [],
   "source": [
    "e = data[0]"
   ]
  },
  {
   "cell_type": "code",
   "execution_count": 7,
   "metadata": {},
   "outputs": [],
   "source": [
    "def parse_instruction(ins: str) -> Action:\n",
    "    \n",
    "    mov = ins[0]\n",
    "    \n",
    "    num = int(ins[1:])\n",
    "    \n",
    "    if mov == \"R\":\n",
    "        movement = Movement.right\n",
    "        \n",
    "    elif mov == \"L\":\n",
    "        movement = Movement.left\n",
    "        \n",
    "    elif mov == \"F\":\n",
    "        movement = Movement.forward\n",
    "        \n",
    "    elif mov == \"S\":\n",
    "        movement = Movement.south\n",
    "        \n",
    "    elif mov == \"N\":\n",
    "        movement = Movement.north\n",
    "        \n",
    "    elif mov == \"E\":\n",
    "        movement = Movement.east\n",
    "        \n",
    "    elif mov == \"W\":\n",
    "        movement = Movement.west\n",
    "        \n",
    "    return Action(movement, num)\n",
    "        \n",
    "\n",
    "    print(mov, num)"
   ]
  },
  {
   "cell_type": "code",
   "execution_count": 8,
   "metadata": {},
   "outputs": [
    {
     "data": {
      "text/plain": [
       "180"
      ]
     },
     "execution_count": 8,
     "metadata": {},
     "output_type": "execute_result"
    }
   ],
   "source": [
    "(-180)%360"
   ]
  },
  {
   "cell_type": "code",
   "execution_count": 9,
   "metadata": {},
   "outputs": [
    {
     "data": {
      "text/plain": [
       "90"
      ]
     },
     "execution_count": 9,
     "metadata": {},
     "output_type": "execute_result"
    }
   ],
   "source": [
    "parse_instruction(\"R90\").num"
   ]
  },
  {
   "cell_type": "code",
   "execution_count": 10,
   "metadata": {},
   "outputs": [],
   "source": [
    "class Boat:\n",
    "    def __init__(self, x: int = 0, y: int = 0, degrees: int = 0):\n",
    "\n",
    "        self.x = x\n",
    "        self.y = y\n",
    "        self.degrees = degrees\n",
    "\n",
    "    def move_forward(self, num):\n",
    "\n",
    "        if self.degrees == 0:\n",
    "            self.move_east(num)\n",
    "            \n",
    "        elif self.degrees == 180:\n",
    "            self.move_west(num)\n",
    "            \n",
    "        elif self.degrees == 270:\n",
    "            self.move_north(num)\n",
    "            \n",
    "        elif self.degrees == 90:\n",
    "            self.move_south(num)\n",
    "\n",
    "    def move_north(self, num):\n",
    "        self.y += num\n",
    "\n",
    "    def move_east(self, num):\n",
    "        self.x += num\n",
    "\n",
    "    def move_west(self, num):\n",
    "        self.x -= num\n",
    "\n",
    "    def move_south(self, num):\n",
    "        self.y -= num\n",
    "\n",
    "    def turn_left(self, num):\n",
    "        new_degrees = self.degrees - num\n",
    "        new_degrees = new_degrees % 360\n",
    "        self.degrees = new_degrees\n",
    "\n",
    "    def turn_right(self, num):\n",
    "        \n",
    "        new_degrees = self.degrees + num\n",
    "        \n",
    "        new_degrees = new_degrees % 360\n",
    "        \n",
    "        self.degrees = new_degrees\n",
    "\n",
    "    def __repr__(self):\n",
    "\n",
    "        return f\"<Boat x: {self.x}, y: {self.y}, degrees: {self.degrees}>\""
   ]
  },
  {
   "cell_type": "code",
   "execution_count": 15,
   "metadata": {},
   "outputs": [],
   "source": [
    "b = Boat()\n",
    "\n",
    "print(b)\n",
    "\n",
    "b.move_south(2)\n",
    "\n",
    "b.move_east(4)\n",
    "\n",
    "b.move_south(10)\n",
    "\n",
    "print(b)\n",
    "\n",
    "b.turn_right(90)\n",
    "\n",
    "print(b)\n",
    "\n",
    "b.turn_left(180)\n",
    "\n",
    "print(b)\n",
    "\n",
    "b = Boat()\n",
    "\n",
    "print(b)"
   ]
  },
  {
   "cell_type": "code",
   "execution_count": 16,
   "metadata": {},
   "outputs": [],
   "source": [
    "for i in data:\n",
    "    instruction = parse_instruction(i)\n",
    "    \n",
    "    if instruction.movement == Movement.west:\n",
    "        b.move_west(instruction.num)\n",
    "        \n",
    "    elif instruction.movement == Movement.east:\n",
    "        b.move_east(instruction.num)\n",
    "        \n",
    "    elif instruction.movement == Movement.south:\n",
    "        b.move_south(instruction.num)\n",
    "        \n",
    "    elif instruction.movement == Movement.north:\n",
    "        b.move_north(instruction.num)\n",
    "        \n",
    "    elif instruction.movement == Movement.right:\n",
    "        b.turn_right(instruction.num)\n",
    "        \n",
    "    elif instruction.movement == Movement.left:\n",
    "        b.turn_left(instruction.num)\n",
    "        \n",
    "    elif instruction.movement == Movement.forward:\n",
    "        b.move_forward(instruction.num)"
   ]
  },
  {
   "cell_type": "code",
   "execution_count": 17,
   "metadata": {},
   "outputs": [
    {
     "name": "stdout",
     "output_type": "stream",
     "text": [
      "<Boat x: 24, y: -415, degrees: 90>\n"
     ]
    }
   ],
   "source": [
    "print(b)"
   ]
  },
  {
   "cell_type": "code",
   "execution_count": 18,
   "metadata": {},
   "outputs": [
    {
     "name": "stdout",
     "output_type": "stream",
     "text": [
      "439\n"
     ]
    }
   ],
   "source": [
    "result = abs(b.x) + abs(b.y)\n",
    "\n",
    "print(result)"
   ]
  },
  {
   "cell_type": "markdown",
   "metadata": {},
   "source": [
    "## Part 2"
   ]
  },
  {
   "cell_type": "code",
   "execution_count": 19,
   "metadata": {},
   "outputs": [],
   "source": [
    "class Waypoint:\n",
    "    def __init__(self, x: int = 10, y: int = 1):\n",
    "\n",
    "        self.x = x\n",
    "        self.y = y\n",
    "\n",
    "    def move_north(self, num):\n",
    "\n",
    "        self.y += num\n",
    "\n",
    "    def move_east(self, num):\n",
    "\n",
    "        self.x += num\n",
    "\n",
    "    def move_west(self, num):\n",
    "\n",
    "        self.x -= num\n",
    "\n",
    "    def move_south(self, num):\n",
    "\n",
    "        self.y -= num\n",
    "\n",
    "    def turn_left(self, num):\n",
    "\n",
    "        assert num in [90, 180, 270]\n",
    "\n",
    "        rotation = int(num / 90)\n",
    "\n",
    "        for _ in range(rotation):\n",
    "            new_x = -self.y\n",
    "            new_y = self.x\n",
    "            self.x = new_x\n",
    "            self.y = new_y\n",
    "\n",
    "    def turn_right(self, num):\n",
    "\n",
    "        assert num in [90, 180, 270]\n",
    "\n",
    "        rotation = int(num / 90)\n",
    "\n",
    "        for _ in range(rotation):\n",
    "            new_x = self.y\n",
    "            new_y = -self.x\n",
    "            self.x = new_x\n",
    "            self.y = new_y\n",
    "\n",
    "    def __repr__(self):\n",
    "\n",
    "        return f\"<Waypoint x: {self.x}, y: {self.y}>\""
   ]
  },
  {
   "cell_type": "code",
   "execution_count": 24,
   "metadata": {},
   "outputs": [],
   "source": [
    "w = Waypoint()\n",
    "\n",
    "w.move_north(3)\n",
    "\n",
    "print(w)\n",
    "\n",
    "w.turn_left(180)\n",
    "\n",
    "print(w)"
   ]
  },
  {
   "cell_type": "code",
   "execution_count": 25,
   "metadata": {},
   "outputs": [],
   "source": [
    "class Boat:\n",
    "    def __init__(self, x: int = 0, y: int = 0, waypoint: Waypoint = None):\n",
    "\n",
    "        self.x = x\n",
    "        self.y = y\n",
    "        self.waypoint = waypoint\n",
    "\n",
    "    def move_forward(self, num):\n",
    "\n",
    "        self.x += num * self.waypoint.x\n",
    "        self.y += num * self.waypoint.y\n",
    "\n",
    "    def move_north(self, num):\n",
    "        self.waypoint.move_north(num)\n",
    "\n",
    "    def move_east(self, num):\n",
    "        self.waypoint.move_east(num)\n",
    "\n",
    "    def move_west(self, num):\n",
    "        self.waypoint.move_west(num)\n",
    "\n",
    "    def move_south(self, num):\n",
    "        self.waypoint.move_south(num)\n",
    "\n",
    "    def turn_left(self, num):\n",
    "        self.waypoint.turn_left(num)\n",
    "\n",
    "    def turn_right(self, num):\n",
    "        self.waypoint.turn_right(num)\n",
    "\n",
    "    def __repr__(self):\n",
    "\n",
    "        return f\"<Boat x: {self.x}, y: {self.y}>\""
   ]
  },
  {
   "cell_type": "code",
   "execution_count": 26,
   "metadata": {},
   "outputs": [],
   "source": [
    "del b \n",
    "del w"
   ]
  },
  {
   "cell_type": "code",
   "execution_count": 27,
   "metadata": {},
   "outputs": [],
   "source": [
    "w = Waypoint()\n",
    "b = Boat(0, 0, w)"
   ]
  },
  {
   "cell_type": "code",
   "execution_count": 28,
   "metadata": {},
   "outputs": [],
   "source": [
    "for i in data:\n",
    "    instruction = parse_instruction(i)\n",
    "    \n",
    "    if instruction.movement == Movement.west:\n",
    "        b.move_west(instruction.num)\n",
    "        \n",
    "    elif instruction.movement == Movement.east:\n",
    "        b.move_east(instruction.num)\n",
    "        \n",
    "    elif instruction.movement == Movement.south:\n",
    "        b.move_south(instruction.num)\n",
    "        \n",
    "    elif instruction.movement == Movement.north:\n",
    "        b.move_north(instruction.num)\n",
    "        \n",
    "    elif instruction.movement == Movement.right:\n",
    "        b.turn_right(instruction.num)\n",
    "        \n",
    "    elif instruction.movement == Movement.left:\n",
    "        b.turn_left(instruction.num)\n",
    "        \n",
    "    elif instruction.movement == Movement.forward:\n",
    "        b.move_forward(instruction.num)"
   ]
  },
  {
   "cell_type": "code",
   "execution_count": 31,
   "metadata": {},
   "outputs": [
    {
     "name": "stdout",
     "output_type": "stream",
     "text": [
      "12385\n"
     ]
    }
   ],
   "source": [
    "result = abs(b.x) + abs(b.y)\n",
    "\n",
    "print(result)"
   ]
  },
  {
   "cell_type": "markdown",
   "metadata": {},
   "source": [
    "data = \"\"\"\n",
    "F10\n",
    "N3\n",
    "F7\n",
    "R90\n",
    "F11\n",
    "\"\"\".strip().split(\"\\n\")"
   ]
  }
 ],
 "metadata": {
  "kernelspec": {
   "display_name": "testing",
   "language": "python",
   "name": "testing"
  },
  "language_info": {
   "codemirror_mode": {
    "name": "ipython",
    "version": 3
   },
   "file_extension": ".py",
   "mimetype": "text/x-python",
   "name": "python",
   "nbconvert_exporter": "python",
   "pygments_lexer": "ipython3",
   "version": "3.8.3"
  }
 },
 "nbformat": 4,
 "nbformat_minor": 4
}
