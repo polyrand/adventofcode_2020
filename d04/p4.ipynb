{
 "cells": [
  {
   "cell_type": "code",
   "execution_count": 1,
   "metadata": {},
   "outputs": [],
   "source": [
    "with open(\"input.txt\") as f:\n",
    "    data = f.read().split(\"\\n\\n\")"
   ]
  },
  {
   "cell_type": "code",
   "execution_count": 2,
   "metadata": {},
   "outputs": [],
   "source": [
    "fields = [\"byr\", \"iyr\", \"eyr\", \"hgt\", \"hcl\", \"ecl\", \"pid\", \"cid\"]\n",
    "fields_valid = [\"byr\", \"iyr\", \"eyr\", \"hgt\", \"hcl\", \"ecl\", \"pid\"]"
   ]
  },
  {
   "cell_type": "code",
   "execution_count": 3,
   "metadata": {},
   "outputs": [],
   "source": [
    "def validate_passport(content: str):\n",
    "    for f in fields_valid:\n",
    "        if f not in content:\n",
    "            return False\n",
    "\n",
    "    return True"
   ]
  },
  {
   "cell_type": "code",
   "execution_count": 4,
   "metadata": {},
   "outputs": [
    {
     "data": {
      "text/plain": [
       "210"
      ]
     },
     "execution_count": 4,
     "metadata": {},
     "output_type": "execute_result"
    }
   ],
   "source": [
    "sum([validate_passport(c) for c in data])"
   ]
  },
  {
   "cell_type": "code",
   "execution_count": 5,
   "metadata": {},
   "outputs": [],
   "source": [
    "import re"
   ]
  },
  {
   "cell_type": "code",
   "execution_count": 6,
   "metadata": {},
   "outputs": [],
   "source": [
    "def validate_byr(string):\n",
    "    pat = r\"byr:(\\d{4})\\b\"\n",
    "\n",
    "    pat = re.compile(pat)\n",
    "    m = pat.search(string)\n",
    "\n",
    "\n",
    "    if m and (1920 <= int(m.group(1)) <= 2002):\n",
    "        return True\n",
    "\n",
    "    return False"
   ]
  },
  {
   "cell_type": "code",
   "execution_count": 7,
   "metadata": {},
   "outputs": [],
   "source": [
    "def validate_iyr(string):\n",
    "    pat = r\"iyr:(\\d{4})\\b\"\n",
    "\n",
    "    pat = re.compile(pat)\n",
    "    m = pat.search(string)\n",
    "    \n",
    "\n",
    "    if m and (2010 <= int(m.group(1)) <= 2020):\n",
    "        return True\n",
    "\n",
    "    return False"
   ]
  },
  {
   "cell_type": "code",
   "execution_count": 8,
   "metadata": {},
   "outputs": [],
   "source": [
    "def validate_eyr(string):\n",
    "    pat = r\"eyr:(\\d{4})\\b\"\n",
    "\n",
    "    pat = re.compile(pat)\n",
    "    m = pat.search(string)\n",
    "\n",
    "    if m and (2020 <= int(m.group(1)) <= 2030):\n",
    "        return True\n",
    "\n",
    "    return False"
   ]
  },
  {
   "cell_type": "code",
   "execution_count": 9,
   "metadata": {},
   "outputs": [],
   "source": [
    "def validate_hgt(string):\n",
    "    pat = r\"hgt:(\\d+)(cm|in)\\b\"\n",
    "\n",
    "    pat = re.compile(pat)\n",
    "    m = pat.search(string)\n",
    "\n",
    "    if not m:\n",
    "        return False\n",
    "\n",
    "    num = int(m.groups()[0])\n",
    "\n",
    "    measure = m.groups()[1].lower()\n",
    "\n",
    "    if measure == \"in\" and (59 <= num <= 76):\n",
    "        return True\n",
    "    if measure == \"cm\" and (150 <= num <= 193):\n",
    "        return True\n",
    "\n",
    "    return False"
   ]
  },
  {
   "cell_type": "code",
   "execution_count": 10,
   "metadata": {},
   "outputs": [
    {
     "data": {
      "text/plain": [
       "True"
      ]
     },
     "execution_count": 10,
     "metadata": {},
     "output_type": "execute_result"
    }
   ],
   "source": [
    "validate_hgt(\"hgt:60in\")"
   ]
  },
  {
   "cell_type": "code",
   "execution_count": 11,
   "metadata": {},
   "outputs": [],
   "source": [
    "def validate_hcl(string):\n",
    "    pat = r\"hcl:#[0-9a-f]{6}\\b\"\n",
    "\n",
    "    pat = re.compile(pat)\n",
    "    m = pat.search(string)\n",
    "    \n",
    "    if m:\n",
    "        return True\n",
    "    \n",
    "    return False"
   ]
  },
  {
   "cell_type": "code",
   "execution_count": 12,
   "metadata": {},
   "outputs": [
    {
     "data": {
      "text/plain": [
       "True"
      ]
     },
     "execution_count": 12,
     "metadata": {},
     "output_type": "execute_result"
    }
   ],
   "source": [
    "validate_hcl(\"hcl:#b6a652\")"
   ]
  },
  {
   "cell_type": "code",
   "execution_count": 13,
   "metadata": {},
   "outputs": [],
   "source": [
    "def validate_ecl(string):\n",
    "    pat = r\"ecl:(amb|blu|brn|gry|grn|hzl|oth){1}\\b\"\n",
    "\n",
    "    pat = re.compile(pat)\n",
    "    m = pat.search(string)\n",
    "    \n",
    "    if m:\n",
    "        return True\n",
    "    \n",
    "    return False"
   ]
  },
  {
   "cell_type": "code",
   "execution_count": 14,
   "metadata": {},
   "outputs": [
    {
     "data": {
      "text/plain": [
       "True"
      ]
     },
     "execution_count": 14,
     "metadata": {},
     "output_type": "execute_result"
    }
   ],
   "source": [
    "validate_ecl(\"ecl:blu\")"
   ]
  },
  {
   "cell_type": "code",
   "execution_count": 15,
   "metadata": {},
   "outputs": [],
   "source": [
    "def validate_pid(string):\n",
    "    pat = r\"pid:\\d{9}\\b\"\n",
    "\n",
    "    pat = re.compile(pat)\n",
    "    m = pat.search(string)\n",
    "    \n",
    "    if m:\n",
    "        return True\n",
    "    \n",
    "    return False"
   ]
  },
  {
   "cell_type": "code",
   "execution_count": 16,
   "metadata": {},
   "outputs": [
    {
     "data": {
      "text/plain": [
       "True"
      ]
     },
     "execution_count": 16,
     "metadata": {},
     "output_type": "execute_result"
    }
   ],
   "source": [
    "validate_pid(\"pid:123123121\")"
   ]
  },
  {
   "cell_type": "code",
   "execution_count": 17,
   "metadata": {},
   "outputs": [],
   "source": [
    "def validate_all(content):\n",
    "\n",
    "    if (\n",
    "        validate_passport(content)\n",
    "        and validate_byr(content)\n",
    "        and validate_iyr(content)\n",
    "        and validate_pid(content)\n",
    "        and validate_ecl(content)\n",
    "        and validate_hcl(content)\n",
    "        and validate_hgt(content)\n",
    "        and validate_eyr(content)\n",
    "        and validate_pid(content)\n",
    "    ):\n",
    "        return True\n",
    "\n",
    "    return False"
   ]
  },
  {
   "cell_type": "code",
   "execution_count": 18,
   "metadata": {},
   "outputs": [
    {
     "data": {
      "text/plain": [
       "False"
      ]
     },
     "execution_count": 18,
     "metadata": {},
     "output_type": "execute_result"
    }
   ],
   "source": [
    "validate_all(\"\"\"byr:1943\n",
    "pid:980352645\n",
    "iyr:2015 hgt:66cm eyr:2023 hcl:#b665a2 ecl:gry\"\"\")"
   ]
  },
  {
   "cell_type": "code",
   "execution_count": 19,
   "metadata": {},
   "outputs": [
    {
     "data": {
      "text/plain": [
       "131"
      ]
     },
     "execution_count": 19,
     "metadata": {},
     "output_type": "execute_result"
    }
   ],
   "source": [
    "sum([validate_all(c) for c in data])"
   ]
  },
  {
   "cell_type": "code",
   "execution_count": 20,
   "metadata": {},
   "outputs": [],
   "source": [
    "e1 = \"\"\"\n",
    "pid:087499704 hgt:74in ecl:grn iyr:2012 eyr:2030 byr:1980\n",
    "hcl:#623a2f\n",
    "\n",
    "eyr:2029 ecl:blu cid:129 byr:1989\n",
    "iyr:2014 pid:896056539 hcl:#a97842 hgt:165cm\n",
    "\n",
    "hcl:#888785\n",
    "hgt:164cm byr:2001 iyr:2015 cid:88\n",
    "pid:545766238 ecl:hzl\n",
    "eyr:2022\n",
    "\n",
    "iyr:2010 hgt:158cm hcl:#b6652a ecl:blu byr:1944 eyr:2021 pid:093154719\n",
    "\"\"\".strip()\n",
    "\n",
    "\n",
    "assert sum([validate_all(c) for c in e1.split(\"\\n\\n\")]) == 4"
   ]
  },
  {
   "cell_type": "code",
   "execution_count": 21,
   "metadata": {},
   "outputs": [],
   "source": [
    "e2 = \"\"\"\n",
    "eyr:1972 cid:100\n",
    "hcl:#18171d ecl:amb hgt:170 pid:186cm iyr:2018 byr:1926\n",
    "\n",
    "iyr:2019\n",
    "hcl:#602927 eyr:1967 hgt:170cm\n",
    "ecl:grn pid:012533040 byr:1946\n",
    "\n",
    "hcl:dab227 iyr:2012\n",
    "ecl:brn hgt:182cm pid:021572410 eyr:2020 byr:1992 cid:277\n",
    "\n",
    "hgt:59cm ecl:zzz\n",
    "eyr:2038 hcl:74454a iyr:2023\n",
    "pid:3556412378 byr:2007\n",
    "\"\"\".strip()\n",
    "\n",
    "assert sum([validate_all(c) for c in e2.split(\"\\n\\n\")]) == 0"
   ]
  },
  {
   "cell_type": "code",
   "execution_count": 22,
   "metadata": {},
   "outputs": [],
   "source": [
    "#byr (Birth Year) - four digits; at least 1920 and at most 2002.\n",
    "#iyr (Issue Year) - four digits; at least 2010 and at most 2020.\n",
    "#eyr (Expiration Year) - four digits; at least 2020 and at most 2030.\n",
    "#hgt (Height) - a number followed by either cm or in:\n",
    "#If cm, the number must be at least 150 and at most 193.\n",
    "#If in, the number must be at least 59 and at most 76.\n",
    "# hcl (Hair Color) - a # followed by exactly six characters 0-9 or a-f.\n",
    "#ecl (Eye Color) - exactly one of: amb blu brn gry grn hzl oth.\n",
    "# pid (Passport ID) - a nine-digit number, including leading zeroes.\n",
    "# cid (Country ID) - ignored, missing or not."
   ]
  }
 ],
 "metadata": {
  "kernelspec": {
   "display_name": "testing",
   "language": "python",
   "name": "testing"
  },
  "language_info": {
   "codemirror_mode": {
    "name": "ipython",
    "version": 3
   },
   "file_extension": ".py",
   "mimetype": "text/x-python",
   "name": "python",
   "nbconvert_exporter": "python",
   "pygments_lexer": "ipython3",
   "version": "3.8.3"
  }
 },
 "nbformat": 4,
 "nbformat_minor": 4
}
