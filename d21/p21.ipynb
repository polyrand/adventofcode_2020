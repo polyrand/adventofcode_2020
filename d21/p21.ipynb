{
 "cells": [
  {
   "cell_type": "code",
   "execution_count": 1,
   "metadata": {},
   "outputs": [],
   "source": [
    "import re\n",
    "from collections import defaultdict"
   ]
  },
  {
   "cell_type": "code",
   "execution_count": 2,
   "metadata": {},
   "outputs": [],
   "source": [
    "with open(\"input.txt\") as f:\n",
    "    data = f.read().split(\"\\n\")"
   ]
  },
  {
   "cell_type": "code",
   "execution_count": 3,
   "metadata": {},
   "outputs": [],
   "source": [
    "def foodtuple(food: str):\n",
    "\n",
    "    alergens = tuple(food.split(\" (contains \")[1][:-1].split(\", \"))\n",
    "\n",
    "    ingredients = tuple(food.split(\" (contains \")[0].split())\n",
    "\n",
    "    return ingredients, alergens"
   ]
  },
  {
   "cell_type": "code",
   "execution_count": 4,
   "metadata": {},
   "outputs": [],
   "source": [
    "foods = [foodtuple(f) for f in data]"
   ]
  },
  {
   "cell_type": "code",
   "execution_count": 6,
   "metadata": {},
   "outputs": [
    {
     "data": {
      "text/plain": [
       "('shellfish', 'sesame')"
      ]
     },
     "execution_count": 6,
     "metadata": {},
     "output_type": "execute_result"
    }
   ],
   "source": [
    "foods[0][1]"
   ]
  },
  {
   "cell_type": "code",
   "execution_count": 7,
   "metadata": {},
   "outputs": [
    {
     "data": {
      "text/plain": [
       "{'dairy', 'fish', 'nuts', 'peanuts', 'sesame', 'shellfish', 'soy', 'wheat'}"
      ]
     },
     "execution_count": 7,
     "metadata": {},
     "output_type": "execute_result"
    }
   ],
   "source": [
    "alergens = set()\n",
    "\n",
    "for f in foods:\n",
    "\n",
    "    for al in f[1]:\n",
    "\n",
    "        alergens.add(al)\n",
    "        \n",
    "alergens"
   ]
  },
  {
   "cell_type": "code",
   "execution_count": 8,
   "metadata": {},
   "outputs": [
    {
     "name": "stdout",
     "output_type": "stream",
     "text": [
      "dairy\n",
      "fish\n",
      "shellfish\n",
      "wheat\n",
      "nuts\n",
      "soy\n",
      "peanuts\n",
      "sesame\n"
     ]
    }
   ],
   "source": [
    "possibilities = {}\n",
    "\n",
    "for alergen in alergens:\n",
    "    \n",
    "    print(alergen)\n",
    "\n",
    "    l = []\n",
    "\n",
    "    for food in foods:\n",
    "\n",
    "        if alergen in food[1]:\n",
    "            \n",
    "\n",
    "            l.append(set(food[0]))\n",
    "\n",
    "    possibilities[alergen] = set.intersection(*l)"
   ]
  },
  {
   "cell_type": "code",
   "execution_count": 9,
   "metadata": {},
   "outputs": [
    {
     "data": {
      "text/plain": [
       "{'dairy': {'tmp', 'ttkn'},\n",
       " 'fish': {'mkpmkx', 'pdpgm', 'ttkn'},\n",
       " 'shellfish': {'flnhl', 'mkpmkx'},\n",
       " 'wheat': {'cdslv', 'flnhl', 'ttkn'},\n",
       " 'nuts': {'cdslv', 'tmp'},\n",
       " 'soy': {'pdpgm', 'tmp', 'ttkn', 'vxzpfp'},\n",
       " 'peanuts': {'cdslv', 'tmp', 'zrvtg'},\n",
       " 'sesame': {'ttkn'}}"
      ]
     },
     "execution_count": 9,
     "metadata": {},
     "output_type": "execute_result"
    }
   ],
   "source": [
    "possibilities"
   ]
  },
  {
   "cell_type": "code",
   "execution_count": 10,
   "metadata": {},
   "outputs": [],
   "source": [
    "def sort_dict_len(d: dict):\n",
    "\n",
    "    return {k: d[k] for k in sorted(d, key=lambda x: len(d[x]))}"
   ]
  },
  {
   "cell_type": "code",
   "execution_count": 11,
   "metadata": {},
   "outputs": [
    {
     "data": {
      "text/plain": [
       "{'sesame': {'ttkn'},\n",
       " 'dairy': {'tmp', 'ttkn'},\n",
       " 'shellfish': {'flnhl', 'mkpmkx'},\n",
       " 'nuts': {'cdslv', 'tmp'},\n",
       " 'fish': {'mkpmkx', 'pdpgm', 'ttkn'},\n",
       " 'wheat': {'cdslv', 'flnhl', 'ttkn'},\n",
       " 'peanuts': {'cdslv', 'tmp', 'zrvtg'},\n",
       " 'soy': {'pdpgm', 'tmp', 'ttkn', 'vxzpfp'}}"
      ]
     },
     "execution_count": 11,
     "metadata": {},
     "output_type": "execute_result"
    }
   ],
   "source": [
    "sorted_als = sort_dict_len(possibilities)\n",
    "\n",
    "sorted_als"
   ]
  },
  {
   "cell_type": "code",
   "execution_count": 12,
   "metadata": {},
   "outputs": [],
   "source": [
    "old = possibilities.copy()\n",
    "\n",
    "while True:\n",
    "\n",
    "    already_selected = set()\n",
    "\n",
    "    old = sort_dict_len(old)\n",
    "\n",
    "    new = {}\n",
    "\n",
    "    for k, v in old.items():\n",
    "        if len(v) == 1:\n",
    "            value = list(v)[0]\n",
    "            new[k] = v\n",
    "            already_selected.add(value)\n",
    "\n",
    "        else:\n",
    "            to_consider = set.difference(v, already_selected)\n",
    "            if len(to_consider) == 1:\n",
    "                value = list(to_consider)[0]\n",
    "                new[k] = to_consider\n",
    "                already_selected.add(value)\n",
    "            else:\n",
    "                new[k] = to_consider\n",
    "\n",
    "    old = new.copy()\n",
    "\n",
    "    if all([len(v) == 1 for v in new.values()]):\n",
    "        break"
   ]
  },
  {
   "cell_type": "code",
   "execution_count": 13,
   "metadata": {},
   "outputs": [
    {
     "data": {
      "text/plain": [
       "{'sesame': {'ttkn'},\n",
       " 'dairy': {'tmp'},\n",
       " 'nuts': {'cdslv'},\n",
       " 'wheat': {'flnhl'},\n",
       " 'peanuts': {'zrvtg'},\n",
       " 'shellfish': {'mkpmkx'},\n",
       " 'fish': {'pdpgm'},\n",
       " 'soy': {'vxzpfp'}}"
      ]
     },
     "execution_count": 13,
     "metadata": {},
     "output_type": "execute_result"
    }
   ],
   "source": [
    "old"
   ]
  },
  {
   "cell_type": "code",
   "execution_count": 16,
   "metadata": {},
   "outputs": [],
   "source": [
    "als = []\n",
    "\n",
    "for k, v in old.items():\n",
    "\n",
    "    als.append(list(v)[0])"
   ]
  },
  {
   "cell_type": "code",
   "execution_count": 17,
   "metadata": {},
   "outputs": [],
   "source": [
    "assert sorted(als) == sorted(list(set(als)))"
   ]
  },
  {
   "cell_type": "markdown",
   "metadata": {},
   "source": [
    "## Part 1"
   ]
  },
  {
   "cell_type": "code",
   "execution_count": 18,
   "metadata": {},
   "outputs": [],
   "source": [
    "sa = set(als)"
   ]
  },
  {
   "cell_type": "code",
   "execution_count": 20,
   "metadata": {},
   "outputs": [],
   "source": [
    "sa;"
   ]
  },
  {
   "cell_type": "code",
   "execution_count": 23,
   "metadata": {},
   "outputs": [
    {
     "data": {
      "text/plain": [
       "2410"
      ]
     },
     "execution_count": 23,
     "metadata": {},
     "output_type": "execute_result"
    }
   ],
   "source": [
    "total = 0\n",
    "\n",
    "for f in foods:\n",
    "    \n",
    "    for ingredient in f[0]:\n",
    "        \n",
    "        if ingredient not in sa:\n",
    "            \n",
    "            total += 1\n",
    "            \n",
    "total # 2410"
   ]
  },
  {
   "cell_type": "markdown",
   "metadata": {},
   "source": [
    "## Part 2"
   ]
  },
  {
   "cell_type": "code",
   "execution_count": 24,
   "metadata": {},
   "outputs": [
    {
     "data": {
      "text/plain": [
       "{'ttkn': 'sesame',\n",
       " 'tmp': 'dairy',\n",
       " 'cdslv': 'nuts',\n",
       " 'flnhl': 'wheat',\n",
       " 'zrvtg': 'peanuts',\n",
       " 'mkpmkx': 'shellfish',\n",
       " 'pdpgm': 'fish',\n",
       " 'vxzpfp': 'soy'}"
      ]
     },
     "execution_count": 24,
     "metadata": {},
     "output_type": "execute_result"
    }
   ],
   "source": [
    "trans = {list(v)[0]:k for k,v in new.items()}\n",
    "\n",
    "trans"
   ]
  },
  {
   "cell_type": "code",
   "execution_count": 25,
   "metadata": {},
   "outputs": [
    {
     "data": {
      "text/plain": [
       "'tmp,pdpgm,cdslv,zrvtg,ttkn,mkpmkx,vxzpfp,flnhl'"
      ]
     },
     "execution_count": 25,
     "metadata": {},
     "output_type": "execute_result"
    }
   ],
   "source": [
    "\",\".join(sorted(trans, key = lambda x: trans[x][0])) # 'tmp,pdpgm,cdslv,zrvtg,ttkn,mkpmkx,vxzpfp,flnhl'"
   ]
  }
 ],
 "metadata": {
  "kernelspec": {
   "display_name": "testing",
   "language": "python",
   "name": "testing"
  },
  "language_info": {
   "codemirror_mode": {
    "name": "ipython",
    "version": 3
   },
   "file_extension": ".py",
   "mimetype": "text/x-python",
   "name": "python",
   "nbconvert_exporter": "python",
   "pygments_lexer": "ipython3",
   "version": "3.8.3"
  }
 },
 "nbformat": 4,
 "nbformat_minor": 4
}
