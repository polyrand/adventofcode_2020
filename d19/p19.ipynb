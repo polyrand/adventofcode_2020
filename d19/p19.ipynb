{
 "cells": [
  {
   "cell_type": "code",
   "execution_count": 1,
   "metadata": {},
   "outputs": [],
   "source": [
    "with open(\"input.txt\") as f:\n",
    "    data = f.read()"
   ]
  },
  {
   "cell_type": "code",
   "execution_count": 2,
   "metadata": {},
   "outputs": [],
   "source": [
    "rules = data.split(\"\\n\\n\")[0].split(\"\\n\")\n",
    "messages = data.split(\"\\n\\n\")[1].split(\"\\n\")"
   ]
  },
  {
   "cell_type": "code",
   "execution_count": 3,
   "metadata": {},
   "outputs": [
    {
     "data": {
      "text/plain": [
       "['26 127', '132 49']"
      ]
     },
     "execution_count": 3,
     "metadata": {},
     "output_type": "execute_result"
    }
   ],
   "source": [
    "\"26 127 | 132 49\".split(\" | \")"
   ]
  },
  {
   "cell_type": "code",
   "execution_count": 4,
   "metadata": {},
   "outputs": [],
   "source": [
    "rules_unparsed = dict([(int(r.split(\": \")[0]), r.split(\": \")[1]) for r in rules])\n",
    "\n",
    "rules_unparsed;"
   ]
  },
  {
   "cell_type": "code",
   "execution_count": 5,
   "metadata": {},
   "outputs": [],
   "source": [
    "def tokenize_rule(rule: str):\n",
    "    \n",
    "    res = []\n",
    "    \n",
    "    for t in rule.split():\n",
    "        if t == \"|\":\n",
    "            res.append(t)\n",
    "        elif t in {'\"a\"', '\"b\"'}:\n",
    "            res.append(list(t)[1])\n",
    "        else:\n",
    "            res.append(int(t))\n",
    "            \n",
    "    return res"
   ]
  },
  {
   "cell_type": "code",
   "execution_count": 6,
   "metadata": {},
   "outputs": [],
   "source": [
    "rules_tokenized = {k:tokenize_rule(v) for k,v in rules_unparsed.items()}"
   ]
  },
  {
   "cell_type": "code",
   "execution_count": 7,
   "metadata": {},
   "outputs": [],
   "source": [
    "rules_tokenized;"
   ]
  },
  {
   "cell_type": "code",
   "execution_count": 8,
   "metadata": {},
   "outputs": [],
   "source": [
    "def parse_rule(rule_num):\n",
    "\n",
    "    rule = rules_tokenized[rule_num]\n",
    "\n",
    "    res = []\n",
    "    res2 = []\n",
    "\n",
    "    seen = False\n",
    "\n",
    "    for idx, token in enumerate(rule):\n",
    "\n",
    "        if isinstance(token, int):\n",
    "            if seen is False:\n",
    "                res.append(parse_rule(token))\n",
    "            else:\n",
    "                res2.append(parse_rule(token))\n",
    "\n",
    "        elif token == \"|\":\n",
    "            seen = True\n",
    "\n",
    "        elif token in {\"a\", \"b\"}:\n",
    "            return token\n",
    "\n",
    "        else:\n",
    "            raise ValueError(f\"Wrong token found '{token}'\")\n",
    "            \n",
    "    if res2:\n",
    "        \n",
    "        result = \"(\" + \"(\" + \"\".join(res) + \")\" + \"|\" + \"(\" + \"\".join(res2) + \")\" + \")\"\n",
    "        \n",
    "        return result\n",
    "    else:\n",
    "        return f\"({''.join(res)})\""
   ]
  },
  {
   "cell_type": "code",
   "execution_count": 9,
   "metadata": {},
   "outputs": [],
   "source": [
    "pattern = parse_rule(0) # \"^\" +  + \"$\""
   ]
  },
  {
   "cell_type": "code",
   "execution_count": 10,
   "metadata": {},
   "outputs": [],
   "source": [
    "import re"
   ]
  },
  {
   "cell_type": "code",
   "execution_count": 11,
   "metadata": {},
   "outputs": [
    {
     "data": {
      "text/plain": [
       "474"
      ]
     },
     "execution_count": 11,
     "metadata": {},
     "output_type": "execute_result"
    }
   ],
   "source": [
    "len(messages)"
   ]
  },
  {
   "cell_type": "code",
   "execution_count": 12,
   "metadata": {},
   "outputs": [],
   "source": [
    "total = 0"
   ]
  },
  {
   "cell_type": "code",
   "execution_count": 13,
   "metadata": {},
   "outputs": [],
   "source": [
    "for s in messages:\n",
    "    if re.fullmatch(pattern, s):\n",
    "        total += 1"
   ]
  },
  {
   "cell_type": "code",
   "execution_count": 14,
   "metadata": {},
   "outputs": [
    {
     "data": {
      "text/plain": [
       "187"
      ]
     },
     "execution_count": 14,
     "metadata": {},
     "output_type": "execute_result"
    }
   ],
   "source": [
    "total"
   ]
  },
  {
   "cell_type": "markdown",
   "metadata": {},
   "source": [
    "## Part 2"
   ]
  },
  {
   "cell_type": "code",
   "execution_count": 15,
   "metadata": {},
   "outputs": [],
   "source": [
    "with open(\"input_part2.txt\") as f:\n",
    "    data = f.read()"
   ]
  },
  {
   "cell_type": "code",
   "execution_count": 16,
   "metadata": {},
   "outputs": [],
   "source": [
    "rules = data.split(\"\\n\\n\")[0].split(\"\\n\")\n",
    "messages = data.split(\"\\n\\n\")[1].split(\"\\n\")"
   ]
  },
  {
   "cell_type": "code",
   "execution_count": 17,
   "metadata": {},
   "outputs": [
    {
     "data": {
      "text/plain": [
       "['26 127', '132 49']"
      ]
     },
     "execution_count": 17,
     "metadata": {},
     "output_type": "execute_result"
    }
   ],
   "source": [
    "\"26 127 | 132 49\".split(\" | \")"
   ]
  },
  {
   "cell_type": "code",
   "execution_count": 18,
   "metadata": {},
   "outputs": [],
   "source": [
    "rules_unparsed = dict([(int(r.split(\": \")[0]), r.split(\": \")[1]) for r in rules])\n",
    "\n",
    "rules_unparsed;"
   ]
  },
  {
   "cell_type": "code",
   "execution_count": 19,
   "metadata": {},
   "outputs": [],
   "source": [
    "def tokenize_rule(rule: str):\n",
    "    \n",
    "    res = []\n",
    "    \n",
    "    for t in rule.split():\n",
    "        if t == \"|\":\n",
    "            res.append(t)\n",
    "        elif t in {'\"a\"', '\"b\"'}:\n",
    "            res.append(list(t)[1])\n",
    "        else:\n",
    "            res.append(int(t))\n",
    "            \n",
    "    return res"
   ]
  },
  {
   "cell_type": "code",
   "execution_count": 20,
   "metadata": {},
   "outputs": [],
   "source": [
    "rules_tokenized = {k:tokenize_rule(v) for k,v in rules_unparsed.items()}"
   ]
  },
  {
   "cell_type": "code",
   "execution_count": 21,
   "metadata": {},
   "outputs": [],
   "source": [
    "max_msg_len = max([len(e) for e in messages])"
   ]
  },
  {
   "cell_type": "code",
   "execution_count": 22,
   "metadata": {},
   "outputs": [],
   "source": [
    "pattern = \"|\".join(\n",
    "    f\"({parse_rule(42)}){{{i + 1},}}({parse_rule(31)}){{{i}}}\"\n",
    "    for i in range(1, (max_msg_len + 1))\n",
    ")"
   ]
  },
  {
   "cell_type": "markdown",
   "metadata": {},
   "source": [
    "From https://github.com/ednl/aoc2020/blob/main/day19.py:\n",
    "\n",
    "```\n",
    "My rule 0 = 8 11\n",
    "New rule 8 = 42 | 42 42 | 42 42 42 | ...\n",
    "New rule 11 = 42 31 | 42 42 31 31 | 42 42 42 31 31 31 | ...\n",
    "\n",
    "So, my rule 0 = 42{n} 31{m}, where n>m and m>0\n",
    "```\n",
    "\n",
    "Implementation adapted from:\n",
    "\n",
    "* https://github.com/ephemient/aoc2020/blob/main/py/src/aoc2020/day19.py"
   ]
  },
  {
   "cell_type": "code",
   "execution_count": 23,
   "metadata": {},
   "outputs": [],
   "source": [
    "# faster than the oter one because length //= 2\n",
    "pattern = \"|\".join(\n",
    "    f\"({parse_rule(42)}){{{i + 1},}}({parse_rule(31)}){{{i}}}\"\n",
    "    for i in range(1, (max_msg_len + 1) // 2)\n",
    ") "
   ]
  },
  {
   "cell_type": "code",
   "execution_count": 24,
   "metadata": {},
   "outputs": [
    {
     "data": {
      "text/plain": [
       "44"
      ]
     },
     "execution_count": 24,
     "metadata": {},
     "output_type": "execute_result"
    }
   ],
   "source": [
    "(max_msg_len + 1) // 2"
   ]
  },
  {
   "cell_type": "code",
   "execution_count": 25,
   "metadata": {},
   "outputs": [],
   "source": [
    "pattern;"
   ]
  },
  {
   "cell_type": "code",
   "execution_count": 26,
   "metadata": {},
   "outputs": [],
   "source": [
    "import re"
   ]
  },
  {
   "cell_type": "code",
   "execution_count": 27,
   "metadata": {},
   "outputs": [
    {
     "data": {
      "text/plain": [
       "474"
      ]
     },
     "execution_count": 27,
     "metadata": {},
     "output_type": "execute_result"
    }
   ],
   "source": [
    "len(messages)"
   ]
  },
  {
   "cell_type": "code",
   "execution_count": 28,
   "metadata": {},
   "outputs": [],
   "source": [
    "total = 0"
   ]
  },
  {
   "cell_type": "code",
   "execution_count": 29,
   "metadata": {},
   "outputs": [],
   "source": [
    "pat = re.compile(pattern)"
   ]
  },
  {
   "cell_type": "code",
   "execution_count": 30,
   "metadata": {},
   "outputs": [],
   "source": [
    "for s in messages:\n",
    "    if pat.fullmatch(s):\n",
    "        total += 1"
   ]
  },
  {
   "cell_type": "code",
   "execution_count": 31,
   "metadata": {},
   "outputs": [
    {
     "data": {
      "text/plain": [
       "392"
      ]
     },
     "execution_count": 31,
     "metadata": {},
     "output_type": "execute_result"
    }
   ],
   "source": [
    "total"
   ]
  }
 ],
 "metadata": {
  "kernelspec": {
   "display_name": "testing",
   "language": "python",
   "name": "testing"
  },
  "language_info": {
   "codemirror_mode": {
    "name": "ipython",
    "version": 3
   },
   "file_extension": ".py",
   "mimetype": "text/x-python",
   "name": "python",
   "nbconvert_exporter": "python",
   "pygments_lexer": "ipython3",
   "version": "3.8.3"
  }
 },
 "nbformat": 4,
 "nbformat_minor": 4
}
