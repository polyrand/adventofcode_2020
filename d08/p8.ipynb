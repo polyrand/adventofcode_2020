{
 "cells": [
  {
   "cell_type": "code",
   "execution_count": 1,
   "metadata": {},
   "outputs": [],
   "source": [
    "with open(\"input.txt\") as f:\n",
    "    data = f.read().split(\"\\n\")"
   ]
  },
  {
   "cell_type": "code",
   "execution_count": 7,
   "metadata": {},
   "outputs": [],
   "source": [
    "instructions = list(enumerate(data))"
   ]
  },
  {
   "cell_type": "code",
   "execution_count": 8,
   "metadata": {},
   "outputs": [],
   "source": [
    "e = instructions[0]"
   ]
  },
  {
   "cell_type": "code",
   "execution_count": 21,
   "metadata": {},
   "outputs": [
    {
     "data": {
      "text/plain": [
       "'8'"
      ]
     },
     "execution_count": 21,
     "metadata": {},
     "output_type": "execute_result"
    }
   ],
   "source": [
    "e[1][5:]"
   ]
  },
  {
   "cell_type": "code",
   "execution_count": 127,
   "metadata": {},
   "outputs": [],
   "source": [
    "def process_list(instructions: list, idx: int = 0):\n",
    "\n",
    "    global accumulator\n",
    "\n",
    "    for elem in instructions[idx:]:\n",
    "\n",
    "        i = elem[0]\n",
    "        action = elem[1]\n",
    "\n",
    "        if i in seen:\n",
    "            print(f\"Last index {i}\")\n",
    "            print(f\"Result: {accumulator}\")\n",
    "            return\n",
    "\n",
    "        seen.add(i)\n",
    "\n",
    "        if action[:3] == \"acc\":\n",
    "\n",
    "            op = action[4]\n",
    "            num = int(action[5:])\n",
    "\n",
    "            if op == \"+\":\n",
    "                accumulator += num\n",
    "\n",
    "            elif op == \"-\":\n",
    "                accumulator -= num\n",
    "\n",
    "            else:\n",
    "                raise ValueError(f\"Unrecognized op -> {op}\")\n",
    "\n",
    "        elif action[:3] == \"jmp\":\n",
    "\n",
    "            last_processed[\"jmp\"] = elem\n",
    "            processed[i] = elem\n",
    "\n",
    "            if i == None:  # 338:\n",
    "                continue\n",
    "\n",
    "            op = action[4]\n",
    "            num = int(action[5:])\n",
    "\n",
    "            if op == \"+\":\n",
    "                return process_list(instructions, idx=i + num)\n",
    "\n",
    "            elif op == \"-\":\n",
    "\n",
    "                return process_list(instructions, idx=i - num)\n",
    "\n",
    "            else:\n",
    "                raise ValueError(f\"Unrecognized op -> {op}\")\n",
    "\n",
    "        elif action[:3] == \"nop\":\n",
    "\n",
    "            last_processed[\"nop\"] = elem\n",
    "            processed[i] = elem\n",
    "\n",
    "            if i == None:  # 306:\n",
    "                op = action[4]\n",
    "                num = int(action[5:])\n",
    "\n",
    "                if op == \"+\":\n",
    "                    return process_list(instructions, idx=i + num)\n",
    "\n",
    "                elif op == \"-\":\n",
    "\n",
    "                    return process_list(instructions, idx=i - num)\n",
    "\n",
    "                else:\n",
    "                    raise ValueError(f\"Unrecognized op -> {op}\")\n",
    "\n",
    "            continue\n",
    "\n",
    "        else:\n",
    "            raise ValueError(f\"Unrecognized action -> {action[:3]}\")"
   ]
  },
  {
   "cell_type": "code",
   "execution_count": 128,
   "metadata": {},
   "outputs": [
    {
     "name": "stdout",
     "output_type": "stream",
     "text": [
      "Last index 151\n",
      "Result: 1671\n",
      "\n",
      "Accumulator: 1671\n",
      "\n",
      "Last processed: {'nop': (306, 'nop -127'), 'jmp': (338, 'jmp -187')}\n",
      "\n"
     ]
    }
   ],
   "source": [
    "accumulator = 0\n",
    "\n",
    "seen = set()\n",
    "\n",
    "last_processed = {}\n",
    "processed = {}\n",
    "\n",
    "process_list(instructions)\n",
    "\n",
    "print(\n",
    "    f\"\"\"\n",
    "Accumulator: {accumulator}\n",
    "\n",
    "Last processed: {last_processed}\n",
    "\"\"\"\n",
    ")"
   ]
  },
  {
   "cell_type": "code",
   "execution_count": 82,
   "metadata": {},
   "outputs": [],
   "source": [
    "to_mod = set(processed.values())"
   ]
  },
  {
   "cell_type": "code",
   "execution_count": 106,
   "metadata": {},
   "outputs": [],
   "source": [
    "table = str.maketrans(\"jmno\", \"nojm\")\n",
    "\n",
    "def invert_instruction(inst: str) -> str:\n",
    "    \n",
    "    return inst.translate(table)"
   ]
  },
  {
   "cell_type": "code",
   "execution_count": 130,
   "metadata": {},
   "outputs": [],
   "source": [
    "def brute_force(instructions: list, idx: int = 0):\n",
    "\n",
    "    global accumulator\n",
    "\n",
    "    for elem in instructions[idx:]:\n",
    "\n",
    "        i = elem[0]\n",
    "        action = elem[1]\n",
    "\n",
    "        if i == len(instructions) - 1:\n",
    "            # print(elem)\n",
    "            print(f\"== Result: {accumulator} ==\")\n",
    "            return\n",
    "\n",
    "        if i in seen:\n",
    "            # print(f\"Last index {i}\")\n",
    "            # print(\"Result not found\\n\")\n",
    "            return\n",
    "\n",
    "        seen.add(i)\n",
    "\n",
    "        if action[:3] == \"acc\":\n",
    "\n",
    "            op = action[4]\n",
    "            num = int(action[5:])\n",
    "\n",
    "            if op == \"+\":\n",
    "                accumulator += num\n",
    "\n",
    "            elif op == \"-\":\n",
    "                accumulator -= num\n",
    "\n",
    "            else:\n",
    "                raise ValueError(f\"Unrecognized op -> {op}\")\n",
    "\n",
    "        elif action[:3] == \"jmp\":\n",
    "\n",
    "            op = action[4]\n",
    "            num = int(action[5:])\n",
    "\n",
    "            if op == \"+\":\n",
    "                return brute_force(instructions, idx=i + num)\n",
    "\n",
    "            elif op == \"-\":\n",
    "\n",
    "                return brute_force(instructions, idx=i - num)\n",
    "\n",
    "            else:\n",
    "                raise ValueError(f\"Unrecognized op -> {op}\")\n",
    "\n",
    "        elif action[:3] == \"nop\":\n",
    "\n",
    "            continue"
   ]
  },
  {
   "cell_type": "code",
   "execution_count": 131,
   "metadata": {},
   "outputs": [
    {
     "name": "stdout",
     "output_type": "stream",
     "text": [
      "== Result: 892 ==\n"
     ]
    }
   ],
   "source": [
    "for idx, op in to_mod:\n",
    "    new_instructions = instructions.copy()\n",
    "    \n",
    "    # print(f\"Inverting {op} -> {invert_instruction(op)}\")\n",
    "    new_instructions[idx] = invert_instruction(op)\n",
    "\n",
    "    accumulator = 0\n",
    "\n",
    "    seen = set()\n",
    "\n",
    "    last_processed = {}\n",
    "\n",
    "    brute_force(new_instructions)"
   ]
  },
  {
   "cell_type": "code",
   "execution_count": null,
   "metadata": {},
   "outputs": [],
   "source": []
  },
  {
   "cell_type": "code",
   "execution_count": null,
   "metadata": {},
   "outputs": [],
   "source": []
  },
  {
   "cell_type": "code",
   "execution_count": null,
   "metadata": {},
   "outputs": [],
   "source": []
  },
  {
   "cell_type": "code",
   "execution_count": null,
   "metadata": {},
   "outputs": [],
   "source": []
  },
  {
   "cell_type": "code",
   "execution_count": 71,
   "metadata": {},
   "outputs": [
    {
     "name": "stdout",
     "output_type": "stream",
     "text": [
      "\n",
      "Accumulator: 39\n",
      "\n",
      "Last processed: {'jmp': (437, 'jmp +313'), 'nop': (2, 'nop -584')}\n",
      "\n"
     ]
    }
   ],
   "source": [
    "accumulator = 0\n",
    "\n",
    "seen = set()\n",
    "\n",
    "last_processed = {}\n",
    "\n",
    "process_list(list(enumerate(list(reversed(data)))))\n",
    "\n",
    "print(\n",
    "    f\"\"\"\n",
    "Accumulator: {accumulator}\n",
    "\n",
    "Last processed: {last_processed}\n",
    "\"\"\"\n",
    ")"
   ]
  },
  {
   "cell_type": "code",
   "execution_count": 57,
   "metadata": {},
   "outputs": [
    {
     "ename": "AssertionError",
     "evalue": "",
     "output_type": "error",
     "traceback": [
      "\u001b[0;31m---------------------------------------------------------------------------\u001b[0m",
      "\u001b[0;31mAssertionError\u001b[0m                            Traceback (most recent call last)",
      "\u001b[0;32m<ipython-input-57-5d8b2bed4bbe>\u001b[0m in \u001b[0;36m<module>\u001b[0;34m\u001b[0m\n\u001b[1;32m      1\u001b[0m \u001b[0mlast_index\u001b[0m \u001b[0;34m=\u001b[0m \u001b[0;36m631\u001b[0m\u001b[0;34m\u001b[0m\u001b[0;34m\u001b[0m\u001b[0m\n\u001b[0;32m----> 2\u001b[0;31m \u001b[0;32massert\u001b[0m \u001b[0mlast_index\u001b[0m \u001b[0;34m==\u001b[0m \u001b[0mlen\u001b[0m\u001b[0;34m(\u001b[0m\u001b[0minstructions\u001b[0m\u001b[0;34m)\u001b[0m\u001b[0;34m\u001b[0m\u001b[0;34m\u001b[0m\u001b[0m\n\u001b[0m",
      "\u001b[0;31mAssertionError\u001b[0m: "
     ]
    }
   ],
   "source": [
    "last_index = 631\n",
    "assert last_index == len(instructions)"
   ]
  },
  {
   "cell_type": "code",
   "execution_count": null,
   "metadata": {},
   "outputs": [],
   "source": []
  }
 ],
 "metadata": {
  "kernelspec": {
   "display_name": "testing",
   "language": "python",
   "name": "testing"
  },
  "language_info": {
   "codemirror_mode": {
    "name": "ipython",
    "version": 3
   },
   "file_extension": ".py",
   "mimetype": "text/x-python",
   "name": "python",
   "nbconvert_exporter": "python",
   "pygments_lexer": "ipython3",
   "version": "3.8.3"
  }
 },
 "nbformat": 4,
 "nbformat_minor": 4
}
