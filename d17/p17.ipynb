{
 "cells": [
  {
   "cell_type": "code",
   "execution_count": 1,
   "metadata": {},
   "outputs": [],
   "source": [
    "import numpy as np"
   ]
  },
  {
   "cell_type": "markdown",
   "metadata": {},
   "source": [
    "## Part 1"
   ]
  },
  {
   "cell_type": "code",
   "execution_count": 2,
   "metadata": {},
   "outputs": [],
   "source": [
    "initial_grid = \"\"\"\n",
    "...#..#.\n",
    "#..#...#\n",
    ".....###\n",
    "##....##\n",
    "......##\n",
    "........\n",
    ".#......\n",
    "##...#..\n",
    "\"\"\".strip().replace(\".\", \"0\").replace(\"#\", \"1\")"
   ]
  },
  {
   "cell_type": "code",
   "execution_count": 3,
   "metadata": {},
   "outputs": [],
   "source": [
    "int_list = []\n",
    "\n",
    "for row in initial_grid.split(\"\\n\"):\n",
    "    \n",
    "    int_list.append([int(e) for e in list(row)])"
   ]
  },
  {
   "cell_type": "code",
   "execution_count": 4,
   "metadata": {},
   "outputs": [],
   "source": [
    "start = np.asarray(int_list)"
   ]
  },
  {
   "cell_type": "code",
   "execution_count": 5,
   "metadata": {},
   "outputs": [
    {
     "data": {
      "text/plain": [
       "(8, 8)"
      ]
     },
     "execution_count": 5,
     "metadata": {},
     "output_type": "execute_result"
    }
   ],
   "source": [
    "start.shape"
   ]
  },
  {
   "cell_type": "code",
   "execution_count": 6,
   "metadata": {},
   "outputs": [
    {
     "data": {
      "text/plain": [
       "dtype('int64')"
      ]
     },
     "execution_count": 6,
     "metadata": {},
     "output_type": "execute_result"
    }
   ],
   "source": [
    "start.dtype"
   ]
  },
  {
   "cell_type": "code",
   "execution_count": 7,
   "metadata": {},
   "outputs": [
    {
     "data": {
      "text/plain": [
       "array([[0, 0, 0, 1, 0, 0, 1, 0],\n",
       "       [1, 0, 0, 1, 0, 0, 0, 1],\n",
       "       [0, 0, 0, 0, 0, 1, 1, 1],\n",
       "       [1, 1, 0, 0, 0, 0, 1, 1],\n",
       "       [0, 0, 0, 0, 0, 0, 1, 1],\n",
       "       [0, 0, 0, 0, 0, 0, 0, 0],\n",
       "       [0, 1, 0, 0, 0, 0, 0, 0],\n",
       "       [1, 1, 0, 0, 0, 1, 0, 0]])"
      ]
     },
     "execution_count": 7,
     "metadata": {},
     "output_type": "execute_result"
    }
   ],
   "source": [
    "start"
   ]
  },
  {
   "cell_type": "code",
   "execution_count": 8,
   "metadata": {},
   "outputs": [],
   "source": [
    "grid = np.empty((30, 30, 20), dtype=\"int64\")"
   ]
  },
  {
   "cell_type": "code",
   "execution_count": 9,
   "metadata": {},
   "outputs": [
    {
     "data": {
      "text/plain": [
       "(30, 30, 20)"
      ]
     },
     "execution_count": 9,
     "metadata": {},
     "output_type": "execute_result"
    }
   ],
   "source": [
    "grid.shape"
   ]
  },
  {
   "cell_type": "code",
   "execution_count": 10,
   "metadata": {},
   "outputs": [],
   "source": [
    "grid[\n",
    "    int((grid.shape[1] / 2) - 4) : int((grid.shape[0] / 2) + 4),\n",
    "    int((grid.shape[1] / 2) - 4) : int((grid.shape[0] / 2) + 4),\n",
    "    int(grid.shape[2] / 2),\n",
    "] = start"
   ]
  },
  {
   "cell_type": "markdown",
   "metadata": {},
   "source": [
    "grid[\n",
    "    int((grid.shape[1] / 2) - 4) : int((grid.shape[0] / 2) + 4),\n",
    "    int((grid.shape[1] / 2) - 4) : int((grid.shape[0] / 2) + 4),\n",
    "    int(grid.shape[2] / 2),\n",
    "] = start"
   ]
  },
  {
   "cell_type": "code",
   "execution_count": 11,
   "metadata": {},
   "outputs": [],
   "source": [
    "# grid[11:19, 11:19, 10] == start"
   ]
  },
  {
   "cell_type": "code",
   "execution_count": 12,
   "metadata": {},
   "outputs": [
    {
     "data": {
      "text/plain": [
       "(19.0, 11.0)"
      ]
     },
     "execution_count": 12,
     "metadata": {},
     "output_type": "execute_result"
    }
   ],
   "source": [
    "(grid.shape[0]/2) + 4, (grid.shape[1]/2) - 4"
   ]
  },
  {
   "cell_type": "code",
   "execution_count": 13,
   "metadata": {},
   "outputs": [],
   "source": [
    "def nn(grid, coord: tuple, dist: int = 1):\n",
    "\n",
    "    res = []\n",
    "\n",
    "    x = coord[0]\n",
    "    x_lo = x - dist if x - dist >= 0 else 0\n",
    "    x_hi = x + dist if x + dist <= grid.shape[0] - 1 else grid.shape[0] - 1\n",
    "\n",
    "    y = coord[1]\n",
    "    y_lo = y - dist if y - dist >= 0 else 0\n",
    "    y_hi = y + dist if y + dist <= grid.shape[1] - 1 else grid.shape[1] - 1\n",
    "\n",
    "    z = coord[2]\n",
    "    z_lo = z - dist if z - dist >= 0 else 0\n",
    "    z_hi = z + dist if z + dist <= grid.shape[2] - 1 else grid.shape[2] - 1\n",
    "\n",
    "    for xx in set([x, x_hi, x_lo]):\n",
    "        for yy in set([y, y_hi, y_lo]):\n",
    "            for zz in set([z, z_hi, z_lo]):\n",
    "                res.append(grid[xx, yy, zz])\n",
    "\n",
    "    res.remove(grid[x, y, z])\n",
    "\n",
    "    return np.asarray(res)"
   ]
  },
  {
   "cell_type": "code",
   "execution_count": 14,
   "metadata": {},
   "outputs": [
    {
     "data": {
      "text/plain": [
       "array([0, 0, 0, 0, 0, 0, 0, 0, 0, 0, 0, 0, 0, 0, 0, 0, 0])"
      ]
     },
     "execution_count": 14,
     "metadata": {},
     "output_type": "execute_result"
    }
   ],
   "source": [
    "nn(grid, (0,1,2))"
   ]
  },
  {
   "cell_type": "code",
   "execution_count": 15,
   "metadata": {},
   "outputs": [],
   "source": [
    "def get_counts(arr):\n",
    "\n",
    "    unique_counts = np.unique(arr, return_counts=True)\n",
    "\n",
    "    return dict(\n",
    "        zip(\n",
    "            unique_counts[0],\n",
    "            unique_counts[1],\n",
    "        )\n",
    "    )"
   ]
  },
  {
   "cell_type": "code",
   "execution_count": 16,
   "metadata": {},
   "outputs": [
    {
     "data": {
      "text/plain": [
       "{0: 24, 1: 2}"
      ]
     },
     "execution_count": 16,
     "metadata": {},
     "output_type": "execute_result"
    }
   ],
   "source": [
    "get_counts(nn(grid, (11,18,10)))"
   ]
  },
  {
   "cell_type": "markdown",
   "metadata": {},
   "source": [
    "* If a cube is **active** and *exactly 2 or 3 of its neighbors* are *also active*, the cube *remains active*. Otherwise, the cube *becomes inactive*.\n",
    "\n",
    "* If a cube is **inactive** but *exactly 3* of its neighbors are *active*, the cube *becomes active*. Otherwise, the cube *remains inactive*."
   ]
  },
  {
   "cell_type": "code",
   "execution_count": 18,
   "metadata": {},
   "outputs": [],
   "source": [
    "from tqdm import tqdm"
   ]
  },
  {
   "cell_type": "code",
   "execution_count": 19,
   "metadata": {},
   "outputs": [
    {
     "name": "stdout",
     "output_type": "stream",
     "text": [
      "0\n"
     ]
    },
    {
     "name": "stderr",
     "output_type": "stream",
     "text": [
      "18000it [00:04, 3746.48it/s]         \n",
      "356it [00:00, 3556.52it/s]           "
     ]
    },
    {
     "name": "stdout",
     "output_type": "stream",
     "text": [
      "1\n"
     ]
    },
    {
     "name": "stderr",
     "output_type": "stream",
     "text": [
      "18000it [00:03, 4755.52it/s]\n",
      "650it [00:00, 6496.49it/s]           "
     ]
    },
    {
     "name": "stdout",
     "output_type": "stream",
     "text": [
      "2\n"
     ]
    },
    {
     "name": "stderr",
     "output_type": "stream",
     "text": [
      "18000it [00:02, 6192.46it/s]\n",
      "251it [00:00, 1930.43it/s]           "
     ]
    },
    {
     "name": "stdout",
     "output_type": "stream",
     "text": [
      "3\n"
     ]
    },
    {
     "name": "stderr",
     "output_type": "stream",
     "text": [
      "18000it [00:03, 5829.85it/s]\n",
      "694it [00:00, 6937.16it/s]           "
     ]
    },
    {
     "name": "stdout",
     "output_type": "stream",
     "text": [
      "4\n"
     ]
    },
    {
     "name": "stderr",
     "output_type": "stream",
     "text": [
      "18000it [00:02, 6414.19it/s]\n",
      "715it [00:00, 7112.45it/s]           "
     ]
    },
    {
     "name": "stdout",
     "output_type": "stream",
     "text": [
      "5\n"
     ]
    },
    {
     "name": "stderr",
     "output_type": "stream",
     "text": [
      "18000it [00:02, 6093.34it/s]\n"
     ]
    }
   ],
   "source": [
    "state_1 = grid.copy()\n",
    "state_2 = np.empty_like(state_1)\n",
    "\n",
    "# it = np.nditer(state_1, flags=[\"multi_index\"])\n",
    "\n",
    "\n",
    "for l in range(6):\n",
    "\n",
    "    print(l)\n",
    "\n",
    "    it = np.nditer(state_1, flags=[\"multi_index\"])\n",
    "\n",
    "    for x in tqdm(it):\n",
    "\n",
    "        # print(f\"Value:{x} Index:{it.multi_index}\")\n",
    "\n",
    "        cell_value = x\n",
    "\n",
    "        current_idx = it.multi_index\n",
    "\n",
    "        neighbours = nn(state_1, current_idx)\n",
    "\n",
    "        cts = get_counts(neighbours)\n",
    "\n",
    "        if cell_value == 1:\n",
    "            if (1 in cts) and (cts[1] in {2, 3}):\n",
    "                state_2[current_idx] = 1\n",
    "            else:\n",
    "                state_2[current_idx] = 0\n",
    "\n",
    "        elif cell_value == 0:\n",
    "            if (1 in cts) and (cts[1] == 3):\n",
    "                state_2[current_idx] = 1\n",
    "            else:\n",
    "                state_2[current_idx] = 0\n",
    "\n",
    "        else:\n",
    "            raise ValueError(f\"Incorrec cell value {cell_value}\")\n",
    "\n",
    "    state_1 = state_2.copy()\n",
    "    state_2 = np.empty_like(state_1)\n",
    "    it = np.nditer(state_1, flags=[\"multi_index\"])"
   ]
  },
  {
   "cell_type": "code",
   "execution_count": 20,
   "metadata": {},
   "outputs": [],
   "source": [
    "# np.equal(state_2, state_1)"
   ]
  },
  {
   "cell_type": "code",
   "execution_count": 21,
   "metadata": {},
   "outputs": [
    {
     "data": {
      "text/plain": [
       "(array([0, 1]), array([17760,   240]))"
      ]
     },
     "execution_count": 21,
     "metadata": {},
     "output_type": "execute_result"
    }
   ],
   "source": [
    "np.unique(state_1, return_counts=True)"
   ]
  },
  {
   "cell_type": "markdown",
   "metadata": {},
   "source": [
    "## Part 2"
   ]
  },
  {
   "cell_type": "code",
   "execution_count": 1,
   "metadata": {},
   "outputs": [],
   "source": [
    "import numpy as np"
   ]
  },
  {
   "cell_type": "code",
   "execution_count": 2,
   "metadata": {},
   "outputs": [],
   "source": [
    "initial_grid = \"\"\"\n",
    "...#..#.\n",
    "#..#...#\n",
    ".....###\n",
    "##....##\n",
    "......##\n",
    "........\n",
    ".#......\n",
    "##...#..\n",
    "\"\"\".strip().replace(\".\", \"0\").replace(\"#\", \"1\")"
   ]
  },
  {
   "cell_type": "code",
   "execution_count": 3,
   "metadata": {},
   "outputs": [],
   "source": [
    "int_list = []\n",
    "\n",
    "for row in initial_grid.split(\"\\n\"):\n",
    "    \n",
    "    int_list.append([int(e) for e in list(row)])"
   ]
  },
  {
   "cell_type": "code",
   "execution_count": 4,
   "metadata": {},
   "outputs": [],
   "source": [
    "start = np.asarray(int_list)"
   ]
  },
  {
   "cell_type": "code",
   "execution_count": 5,
   "metadata": {},
   "outputs": [
    {
     "data": {
      "text/plain": [
       "(8, 8)"
      ]
     },
     "execution_count": 5,
     "metadata": {},
     "output_type": "execute_result"
    }
   ],
   "source": [
    "start.shape"
   ]
  },
  {
   "cell_type": "code",
   "execution_count": 7,
   "metadata": {},
   "outputs": [
    {
     "data": {
      "text/plain": [
       "dtype('int64')"
      ]
     },
     "execution_count": 7,
     "metadata": {},
     "output_type": "execute_result"
    }
   ],
   "source": [
    "start.dtype"
   ]
  },
  {
   "cell_type": "code",
   "execution_count": 8,
   "metadata": {},
   "outputs": [
    {
     "data": {
      "text/plain": [
       "array([[0, 0, 0, 1, 0, 0, 1, 0],\n",
       "       [1, 0, 0, 1, 0, 0, 0, 1],\n",
       "       [0, 0, 0, 0, 0, 1, 1, 1],\n",
       "       [1, 1, 0, 0, 0, 0, 1, 1],\n",
       "       [0, 0, 0, 0, 0, 0, 1, 1],\n",
       "       [0, 0, 0, 0, 0, 0, 0, 0],\n",
       "       [0, 1, 0, 0, 0, 0, 0, 0],\n",
       "       [1, 1, 0, 0, 0, 1, 0, 0]])"
      ]
     },
     "execution_count": 8,
     "metadata": {},
     "output_type": "execute_result"
    }
   ],
   "source": [
    "start"
   ]
  },
  {
   "cell_type": "code",
   "execution_count": 9,
   "metadata": {},
   "outputs": [],
   "source": [
    "grid = np.zeros((22, 22, 14, 14), dtype=\"int64\")"
   ]
  },
  {
   "cell_type": "code",
   "execution_count": 10,
   "metadata": {},
   "outputs": [
    {
     "data": {
      "text/plain": [
       "14"
      ]
     },
     "execution_count": 10,
     "metadata": {},
     "output_type": "execute_result"
    }
   ],
   "source": [
    "grid.shape[3]"
   ]
  },
  {
   "cell_type": "code",
   "execution_count": 11,
   "metadata": {},
   "outputs": [],
   "source": [
    "grid[\n",
    "    int((grid.shape[1] / 2) - 4) : int((grid.shape[0] / 2) + 4),\n",
    "    int((grid.shape[1] / 2) - 4) : int((grid.shape[0] / 2) + 4),\n",
    "    int(grid.shape[2] / 2),\n",
    "    int(grid.shape[3] / 2),\n",
    "] = start"
   ]
  },
  {
   "cell_type": "code",
   "execution_count": 12,
   "metadata": {},
   "outputs": [
    {
     "data": {
      "text/plain": [
       "(array([0, 1]), array([94846,    18]))"
      ]
     },
     "execution_count": 12,
     "metadata": {},
     "output_type": "execute_result"
    }
   ],
   "source": [
    "np.unique(grid, return_counts=True)"
   ]
  },
  {
   "cell_type": "code",
   "execution_count": 13,
   "metadata": {},
   "outputs": [
    {
     "data": {
      "text/plain": [
       "7"
      ]
     },
     "execution_count": 13,
     "metadata": {},
     "output_type": "execute_result"
    }
   ],
   "source": [
    "int((grid.shape[1] / 2) - 4)"
   ]
  },
  {
   "cell_type": "code",
   "execution_count": 16,
   "metadata": {},
   "outputs": [],
   "source": [
    "def nn(grid, coord: tuple, dist: int = 1):\n",
    "\n",
    "    res = []\n",
    "\n",
    "    x = coord[0]\n",
    "    x_lo = x - dist if x - dist >= 0 else 0\n",
    "    x_hi = x + dist if x + dist <= grid.shape[0] - 1 else grid.shape[0] - 1\n",
    "\n",
    "    y = coord[1]\n",
    "    y_lo = y - dist if y - dist >= 0 else 0\n",
    "    y_hi = y + dist if y + dist <= grid.shape[1] - 1 else grid.shape[1] - 1\n",
    "\n",
    "    z = coord[2]\n",
    "    z_lo = z - dist if z - dist >= 0 else 0\n",
    "    z_hi = z + dist if z + dist <= grid.shape[2] - 1 else grid.shape[2] - 1\n",
    "    \n",
    "    w = coord[3]\n",
    "    w_lo = w - dist if w - dist >= 0 else 0\n",
    "    w_hi = w + dist if w + dist <= grid.shape[3] - 1 else grid.shape[3] - 1\n",
    "\n",
    "    for xx in set([x, x_hi, x_lo]):\n",
    "        for yy in set([y, y_hi, y_lo]):\n",
    "            for zz in set([z, z_hi, z_lo]):\n",
    "                for ww in set([w, w_hi, w_lo]):\n",
    "                    res.append(grid[xx, yy, zz, ww])\n",
    "\n",
    "    res.remove(grid[x, y, z, w])\n",
    "\n",
    "    return np.asarray(res)"
   ]
  },
  {
   "cell_type": "code",
   "execution_count": 17,
   "metadata": {},
   "outputs": [
    {
     "data": {
      "text/plain": [
       "array([0, 0, 0, 0, 0, 0, 0, 0, 0, 0, 0, 0, 0, 0, 0, 0, 0, 0, 0, 0, 0, 0,\n",
       "       0, 0, 0, 0, 0, 0, 0, 0, 0, 0, 0, 0, 0, 0, 0, 0, 0, 0, 0, 0, 0, 0,\n",
       "       0, 0, 0, 0, 0, 0, 0, 0, 0])"
      ]
     },
     "execution_count": 17,
     "metadata": {},
     "output_type": "execute_result"
    }
   ],
   "source": [
    "nn(grid, (0,1,2,2))"
   ]
  },
  {
   "cell_type": "code",
   "execution_count": 18,
   "metadata": {},
   "outputs": [],
   "source": [
    "def get_counts(arr):\n",
    "\n",
    "    unique_counts = np.unique(arr, return_counts=True)\n",
    "\n",
    "    return dict(\n",
    "        zip(\n",
    "            unique_counts[0],\n",
    "            unique_counts[1],\n",
    "        )\n",
    "    )"
   ]
  },
  {
   "cell_type": "code",
   "execution_count": 19,
   "metadata": {},
   "outputs": [
    {
     "data": {
      "text/plain": [
       "{0: 80}"
      ]
     },
     "execution_count": 19,
     "metadata": {},
     "output_type": "execute_result"
    }
   ],
   "source": [
    "get_counts(nn(grid, (7, 7, 3, 3)))"
   ]
  },
  {
   "cell_type": "markdown",
   "metadata": {},
   "source": [
    "* If a cube is **active** and *exactly 2 or 3 of its neighbors* are *also active*, the cube *remains active*. Otherwise, the cube *becomes inactive*.\n",
    "\n",
    "* If a cube is **inactive** but *exactly 3* of its neighbors are *active*, the cube *becomes active*. Otherwise, the cube *remains inactive*."
   ]
  },
  {
   "cell_type": "code",
   "execution_count": 20,
   "metadata": {},
   "outputs": [],
   "source": [
    "from tqdm import tqdm"
   ]
  },
  {
   "cell_type": "code",
   "execution_count": 21,
   "metadata": {},
   "outputs": [
    {
     "name": "stderr",
     "output_type": "stream",
     "text": [
      "114it [00:00, 1136.38it/s]           "
     ]
    },
    {
     "name": "stdout",
     "output_type": "stream",
     "text": [
      "0\n"
     ]
    },
    {
     "name": "stderr",
     "output_type": "stream",
     "text": [
      "94864it [00:18, 5071.55it/s]\n",
      "982it [00:00, 9814.30it/s]           "
     ]
    },
    {
     "name": "stdout",
     "output_type": "stream",
     "text": [
      "1\n"
     ]
    },
    {
     "name": "stderr",
     "output_type": "stream",
     "text": [
      "94864it [00:14, 6524.59it/s]\n",
      "877it [00:00, 8768.77it/s]           "
     ]
    },
    {
     "name": "stdout",
     "output_type": "stream",
     "text": [
      "2\n"
     ]
    },
    {
     "name": "stderr",
     "output_type": "stream",
     "text": [
      "94864it [00:14, 6520.27it/s]\n",
      "792it [00:00, 7904.65it/s]           "
     ]
    },
    {
     "name": "stdout",
     "output_type": "stream",
     "text": [
      "3\n"
     ]
    },
    {
     "name": "stderr",
     "output_type": "stream",
     "text": [
      "94864it [00:13, 6894.87it/s]\n",
      "2027it [00:00, 10054.15it/s]         "
     ]
    },
    {
     "name": "stdout",
     "output_type": "stream",
     "text": [
      "4\n"
     ]
    },
    {
     "name": "stderr",
     "output_type": "stream",
     "text": [
      "94864it [00:13, 7251.90it/s]\n",
      "1621it [00:00, 7595.81it/s]          "
     ]
    },
    {
     "name": "stdout",
     "output_type": "stream",
     "text": [
      "5\n"
     ]
    },
    {
     "name": "stderr",
     "output_type": "stream",
     "text": [
      "94864it [00:14, 6739.37it/s]\n"
     ]
    }
   ],
   "source": [
    "state_1 = grid.copy()\n",
    "state_2 = np.empty_like(state_1)\n",
    "\n",
    "# it = np.nditer(state_1, flags=[\"multi_index\"])\n",
    "\n",
    "\n",
    "for l in range(6):\n",
    "\n",
    "    print(l)\n",
    "\n",
    "    it = np.nditer(state_1, flags=[\"multi_index\"])\n",
    "\n",
    "    for x in tqdm(it):\n",
    "\n",
    "        # print(f\"Value:{x} Index:{it.multi_index}\")\n",
    "\n",
    "        cell_value = x\n",
    "\n",
    "        current_idx = it.multi_index\n",
    "\n",
    "        neighbours = nn(state_1, current_idx)\n",
    "\n",
    "        cts = get_counts(neighbours)\n",
    "\n",
    "        if cell_value == 1:\n",
    "            if (1 in cts) and (cts[1] in {2, 3}):\n",
    "                state_2[current_idx] = 1\n",
    "            else:\n",
    "                state_2[current_idx] = 0\n",
    "\n",
    "        elif cell_value == 0:\n",
    "            if (1 in cts) and (cts[1] == 3):\n",
    "                state_2[current_idx] = 1\n",
    "            else:\n",
    "                state_2[current_idx] = 0\n",
    "\n",
    "        else:\n",
    "            raise ValueError(f\"Incorrec cell value {cell_value}\")\n",
    "\n",
    "    state_1 = state_2.copy()\n",
    "    state_2 = np.empty_like(state_1)\n",
    "    it = np.nditer(state_1, flags=[\"multi_index\"])"
   ]
  },
  {
   "cell_type": "code",
   "execution_count": 23,
   "metadata": {},
   "outputs": [
    {
     "data": {
      "text/plain": [
       "(array([0, 1]), array([93684,  1180]))"
      ]
     },
     "execution_count": 23,
     "metadata": {},
     "output_type": "execute_result"
    }
   ],
   "source": [
    "np.unique(state_1, return_counts=True)"
   ]
  }
 ],
 "metadata": {
  "kernelspec": {
   "display_name": "testing",
   "language": "python",
   "name": "testing"
  },
  "language_info": {
   "codemirror_mode": {
    "name": "ipython",
    "version": 3
   },
   "file_extension": ".py",
   "mimetype": "text/x-python",
   "name": "python",
   "nbconvert_exporter": "python",
   "pygments_lexer": "ipython3",
   "version": "3.8.3"
  }
 },
 "nbformat": 4,
 "nbformat_minor": 4
}
