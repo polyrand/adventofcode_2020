{
 "cells": [
  {
   "cell_type": "code",
   "execution_count": 1,
   "metadata": {},
   "outputs": [],
   "source": [
    "import numpy as np\n",
    "import re\n",
    "import time\n",
    "\n",
    "import matplotlib.pyplot as plt\n",
    "from matplotlib.colors import ListedColormap\n",
    "\n",
    "%matplotlib inline\n",
    "%config InlineBackend.figure_format='retina'\n",
    "\n",
    "plt.rcParams[\"figure.figsize\"] = [10, 10]\n",
    "plt.rcParams[\"figure.dpi\"] = 100  # 200 e.g. is really fine, but slower\n",
    "\n",
    "from functools import partial\n",
    "\n",
    "from IPython.display import clear_output\n",
    "\n",
    "\n",
    "# time to sleep for visual debuggin\n",
    "sleepy = 0.0"
   ]
  },
  {
   "cell_type": "code",
   "execution_count": 2,
   "metadata": {},
   "outputs": [],
   "source": [
    "Ngrey = 256\n",
    "greys = np.linspace(0, 1, Ngrey)\n",
    "\n",
    "colors = [[g, g, g] for g in greys]\n",
    "\n",
    "red = [1, 0, 0]\n",
    "# green = [0, 1, 0]\n",
    "# blue = [0, 0, 1]\n",
    "\n",
    "# colors[9] = green\n",
    "# colors[100] = blue\n",
    "colors[255] = red\n",
    "\n",
    "mymap = ListedColormap(colors)"
   ]
  },
  {
   "cell_type": "code",
   "execution_count": 3,
   "metadata": {},
   "outputs": [],
   "source": [
    "imr = partial(plt.imshow, cmap=mymap)"
   ]
  },
  {
   "cell_type": "code",
   "execution_count": 4,
   "metadata": {},
   "outputs": [],
   "source": [
    "im = partial(plt.imshow, cmap=\"gray\")"
   ]
  },
  {
   "cell_type": "code",
   "execution_count": 5,
   "metadata": {},
   "outputs": [],
   "source": [
    "def grid_to_array(grid: list):\n",
    "    \n",
    "    # grid = grid.strip().replace(\".\", \"0\").replace(\"#\", \"1\")\n",
    "    \n",
    "    int_list = []\n",
    "\n",
    "    for row in grid: # initial_grid.split(\"\\n\"):\n",
    "        \n",
    "        row = row.strip().replace(\".\", \"0\").replace(\"#\", \"1\")\n",
    "\n",
    "        int_list.append([int(e) for e in list(row)])\n",
    "        \n",
    "    return np.asarray(int_list)"
   ]
  },
  {
   "cell_type": "code",
   "execution_count": 6,
   "metadata": {},
   "outputs": [],
   "source": [
    "with open(\"input.txt\") as f:\n",
    "    data = f.read().split(\"\\n\\n\")"
   ]
  },
  {
   "cell_type": "code",
   "execution_count": 7,
   "metadata": {},
   "outputs": [],
   "source": [
    "def tile_to_tuple(tile: str):\n",
    "\n",
    "    tile_num = re.search(r\"Tile\\s(\\d+):\\n\", tile).group(1)\n",
    "\n",
    "    tile_array = tile.split(\"\\n\")[1:]\n",
    "\n",
    "    tile_array = grid_to_array(tile_array)\n",
    "\n",
    "    return tile_num, tile_array"
   ]
  },
  {
   "cell_type": "code",
   "execution_count": 8,
   "metadata": {},
   "outputs": [],
   "source": [
    "tiles = dict([tile_to_tuple(t) for t in data])"
   ]
  },
  {
   "cell_type": "markdown",
   "metadata": {},
   "source": [
    "I need to find 4 tiles that only have 2 matching sides, those will be the corners."
   ]
  },
  {
   "cell_type": "code",
   "execution_count": 9,
   "metadata": {},
   "outputs": [],
   "source": [
    "arr = tiles[\"2411\"]"
   ]
  },
  {
   "cell_type": "code",
   "execution_count": 10,
   "metadata": {},
   "outputs": [],
   "source": [
    "upper = arr[0, :]\n",
    "lower = arr[-1, :]\n",
    "right = arr[:, -1]\n",
    "left = arr[:, 0]"
   ]
  },
  {
   "cell_type": "code",
   "execution_count": 11,
   "metadata": {},
   "outputs": [
    {
     "data": {
      "text/plain": [
       "array([[1, 0, 1, 0, 0, 1, 1, 0, 1, 0],\n",
       "       [1, 0, 0, 0, 0, 0, 0, 0, 1, 0],\n",
       "       [0, 1, 0, 1, 0, 0, 0, 1, 1, 0],\n",
       "       [0, 0, 0, 1, 0, 0, 0, 0, 0, 0],\n",
       "       [0, 0, 0, 0, 0, 0, 0, 1, 0, 1],\n",
       "       [1, 0, 1, 0, 0, 0, 0, 0, 1, 1],\n",
       "       [0, 0, 1, 0, 0, 0, 1, 0, 0, 1],\n",
       "       [0, 0, 0, 0, 0, 0, 0, 0, 1, 1],\n",
       "       [0, 0, 0, 1, 0, 0, 0, 0, 1, 1],\n",
       "       [1, 0, 1, 1, 0, 1, 0, 0, 1, 1]])"
      ]
     },
     "execution_count": 11,
     "metadata": {},
     "output_type": "execute_result"
    }
   ],
   "source": [
    "np.fliplr(arr)"
   ]
  },
  {
   "cell_type": "code",
   "execution_count": 12,
   "metadata": {},
   "outputs": [],
   "source": [
    "def find_array_borders(arr, listify=True):\n",
    "    \n",
    "    upper = list(arr[0, :])\n",
    "    lower = list(arr[-1, :])\n",
    "    right = list(arr[:, -1])\n",
    "    left = list(arr[:, 0])\n",
    "    \n",
    "    if not listify:\n",
    "        upper = arr[0, :]\n",
    "        lower = arr[-1, :]\n",
    "        right = arr[:, -1]\n",
    "        left = arr[:, 0]\n",
    "    \n",
    "    return upper, lower, right, left"
   ]
  },
  {
   "cell_type": "code",
   "execution_count": 13,
   "metadata": {},
   "outputs": [],
   "source": [
    "# set([(1,0), (0,1), (0,1)])"
   ]
  },
  {
   "cell_type": "code",
   "execution_count": 14,
   "metadata": {},
   "outputs": [],
   "source": [
    "def find_b(arr):\n",
    "\n",
    "    borders = []\n",
    "\n",
    "    for a in [arr, np.fliplr(arr), np.flipud(arr)]:\n",
    "\n",
    "        borders.append(list(a[0, :]))\n",
    "        borders.append(list(a[-1, :]))\n",
    "        borders.append(list(a[:, -1]))\n",
    "        borders.append(list(a[:, 0]))\n",
    "        \n",
    "    return borders"
   ]
  },
  {
   "cell_type": "code",
   "execution_count": 15,
   "metadata": {},
   "outputs": [],
   "source": [
    "# %%timeit\n",
    "# all(np.isin(np.array([0, 1, 0, 1, 1, 0, 0, 1, 0, 1]), find_array_borders(arr, False)))"
   ]
  },
  {
   "cell_type": "code",
   "execution_count": 16,
   "metadata": {},
   "outputs": [
    {
     "data": {
      "text/plain": [
       "True"
      ]
     },
     "execution_count": 16,
     "metadata": {},
     "output_type": "execute_result"
    }
   ],
   "source": [
    "# %%timeit\n",
    "[0, 1, 0, 1, 1, 0, 0, 1, 0, 1] in find_array_borders(arr)"
   ]
  },
  {
   "cell_type": "code",
   "execution_count": 17,
   "metadata": {},
   "outputs": [],
   "source": [
    "def find_num_matching_borders(tile_num: str, verbose=False):\n",
    "\n",
    "    total = 0\n",
    "\n",
    "    current_array_borders = find_b(tiles[tile_num])\n",
    "\n",
    "    if verbose:\n",
    "        print(\"Current\")\n",
    "        print(current_array_borders)\n",
    "\n",
    "    # for border in find_array_borders(arr):\n",
    "    for k, tile in tiles.items():\n",
    "\n",
    "        if k != tile_num:\n",
    "\n",
    "            for b in find_b(tile):\n",
    "\n",
    "                if b in current_array_borders:\n",
    "                    if verbose:\n",
    "                        print(\"Found\")\n",
    "                        print(k, b)\n",
    "\n",
    "                    total += 1\n",
    "\n",
    "    return total"
   ]
  },
  {
   "cell_type": "code",
   "execution_count": 18,
   "metadata": {},
   "outputs": [
    {
     "data": {
      "text/plain": [
       "12"
      ]
     },
     "execution_count": 18,
     "metadata": {},
     "output_type": "execute_result"
    }
   ],
   "source": [
    "find_num_matching_borders(\"2411\")"
   ]
  },
  {
   "cell_type": "code",
   "execution_count": 19,
   "metadata": {},
   "outputs": [],
   "source": [
    "unmatch = {k:v for k,v in tiles.items() if find_num_matching_borders(k) == 0}\n",
    "\n",
    "assert unmatch == {}"
   ]
  },
  {
   "cell_type": "code",
   "execution_count": 20,
   "metadata": {},
   "outputs": [],
   "source": [
    "l = [find_num_matching_borders(tn) for tn, t in tiles.items()]"
   ]
  },
  {
   "cell_type": "code",
   "execution_count": 21,
   "metadata": {},
   "outputs": [],
   "source": [
    "from collections import Counter"
   ]
  },
  {
   "cell_type": "code",
   "execution_count": 22,
   "metadata": {},
   "outputs": [
    {
     "data": {
      "text/plain": [
       "Counter({12: 100, 9: 40, 6: 4})"
      ]
     },
     "execution_count": 22,
     "metadata": {},
     "output_type": "execute_result"
    }
   ],
   "source": [
    "Counter(l)"
   ]
  },
  {
   "cell_type": "code",
   "execution_count": 23,
   "metadata": {},
   "outputs": [],
   "source": [
    "corners = unmatch = {k:v for k,v in tiles.items() if find_num_matching_borders(k) == 6}"
   ]
  },
  {
   "cell_type": "code",
   "execution_count": 24,
   "metadata": {},
   "outputs": [],
   "source": [
    "val = 1\n",
    "\n",
    "for x in [int(e) for e in corners.keys()]:\n",
    "    val *= x"
   ]
  },
  {
   "cell_type": "code",
   "execution_count": 25,
   "metadata": {},
   "outputs": [
    {
     "data": {
      "text/plain": [
       "63187742854073"
      ]
     },
     "execution_count": 25,
     "metadata": {},
     "output_type": "execute_result"
    }
   ],
   "source": [
    "val # 63187742854073"
   ]
  },
  {
   "cell_type": "markdown",
   "metadata": {},
   "source": [
    "## Part 2"
   ]
  },
  {
   "cell_type": "code",
   "execution_count": 26,
   "metadata": {},
   "outputs": [],
   "source": [
    "def get_flips(arr: np.ndarray):\n",
    "    \n",
    "    ars = []\n",
    "\n",
    "    for arrangement in (arr, np.flipud(arr), np.fliplr(arr)):\n",
    "\n",
    "        if arrangement.tolist() not in ars:\n",
    "\n",
    "            ars.append(arrangement.tolist())\n",
    "\n",
    "        for i in range(1, 4):\n",
    "\n",
    "            new = np.rot90(arrangement, i).tolist()\n",
    "\n",
    "            if new not in ars:\n",
    "\n",
    "                ars.append(new)\n",
    "\n",
    "\n",
    "    ars = np.array([np.array(e) for e in ars])\n",
    "    \n",
    "    return ars"
   ]
  },
  {
   "cell_type": "markdown",
   "metadata": {},
   "source": [
    "for a in get_flips(np.arange(0,4).reshape(2, -1)):\n",
    "    print(a)\n",
    "    print(type(a))"
   ]
  },
  {
   "cell_type": "code",
   "execution_count": 27,
   "metadata": {},
   "outputs": [],
   "source": [
    "def find_array_borders(arr, listify=True):\n",
    "\n",
    "    upper = list(arr[0, :])\n",
    "    lower = list(arr[-1, :])\n",
    "    right = list(arr[:, -1])\n",
    "    left = list(arr[:, 0])\n",
    "\n",
    "    if not listify:\n",
    "        upper = arr[0, :]\n",
    "        lower = arr[-1, :]\n",
    "        right = arr[:, -1]\n",
    "        left = arr[:, 0]\n",
    "\n",
    "    return {\"upper\": upper, \"lower\": lower, \"right\": right, \"left\": left}"
   ]
  },
  {
   "cell_type": "code",
   "execution_count": 28,
   "metadata": {},
   "outputs": [],
   "source": [
    "border_pairs = {\"right\": \"left\", \"left\": \"right\", \"lower\": \"upper\", \"upper\": \"lower\"}"
   ]
  },
  {
   "cell_type": "code",
   "execution_count": 29,
   "metadata": {},
   "outputs": [],
   "source": [
    "def find_match(arr: np.ndarray, border: str, verbose=False):\n",
    "\n",
    "    to_match = find_array_borders(arr)[border]\n",
    "\n",
    "    if verbose:\n",
    "        print(\"Current\")\n",
    "        print(to_match)\n",
    "\n",
    "    for k, tile in tiles_to_place.items():\n",
    "\n",
    "        for arrangement in get_flips(tile):\n",
    "\n",
    "            for border_name, border_value in find_array_borders(arrangement).items():\n",
    "\n",
    "                if (border_name == border_pairs[border]) and (border_value == to_match):\n",
    "\n",
    "                    if verbose:\n",
    "                        print(f\"Found {k}\")\n",
    "\n",
    "                    tiles_to_place.pop(k)\n",
    "\n",
    "                    return arrangement"
   ]
  },
  {
   "cell_type": "code",
   "execution_count": 30,
   "metadata": {},
   "outputs": [],
   "source": [
    "assert len(tiles) == 144"
   ]
  },
  {
   "cell_type": "code",
   "execution_count": 31,
   "metadata": {},
   "outputs": [],
   "source": [
    "tiles_to_place = tiles.copy()"
   ]
  },
  {
   "cell_type": "code",
   "execution_count": 32,
   "metadata": {},
   "outputs": [
    {
     "name": "stdout",
     "output_type": "stream",
     "text": [
      "144\n",
      "(10, 10)\n",
      "12\n"
     ]
    }
   ],
   "source": [
    "print(len(tiles_to_place))\n",
    "\n",
    "current = corners[\"3209\"]\n",
    "\n",
    "print(current.shape)\n",
    "\n",
    "tiles_to_place.pop(\"3209\")\n",
    "\n",
    "done = []\n",
    "\n",
    "while True:\n",
    "\n",
    "    done.append(current)\n",
    "\n",
    "    current = find_match(current, \"right\", False)  # lower + right -> upper left corner\n",
    "\n",
    "    if current is None:\n",
    "        break\n",
    "\n",
    "\n",
    "print(len(done))\n",
    "\n",
    "assert len(done) == 12"
   ]
  },
  {
   "cell_type": "code",
   "execution_count": 33,
   "metadata": {},
   "outputs": [],
   "source": [
    "upper_left_right = done.copy()"
   ]
  },
  {
   "cell_type": "code",
   "execution_count": 34,
   "metadata": {},
   "outputs": [
    {
     "name": "stdout",
     "output_type": "stream",
     "text": [
      "132\n",
      "(10, 10)\n",
      "12\n"
     ]
    }
   ],
   "source": [
    "current = corners[\"3209\"]\n",
    "\n",
    "print(len(tiles_to_place))\n",
    "\n",
    "print(current.shape)\n",
    "\n",
    "done = []\n",
    "\n",
    "while True:\n",
    "    \n",
    "    done.append(current)\n",
    "\n",
    "    current = find_match(current, \"lower\", False) # lower + right -> upper left corner\n",
    "\n",
    "    if current is None:\n",
    "        break\n",
    "        \n",
    "        \n",
    "print(len(done))\n",
    "\n",
    "assert len(done) == 12"
   ]
  },
  {
   "cell_type": "code",
   "execution_count": 35,
   "metadata": {},
   "outputs": [],
   "source": [
    "upper_left_down = done.copy()"
   ]
  },
  {
   "cell_type": "code",
   "execution_count": 36,
   "metadata": {},
   "outputs": [],
   "source": [
    "corners_left = corners.copy()"
   ]
  },
  {
   "cell_type": "code",
   "execution_count": 37,
   "metadata": {},
   "outputs": [],
   "source": [
    "seen = set()\n",
    "\n",
    "# starting corner\n",
    "seen.add(\"3209\")\n",
    "\n",
    "for k,v in corners_left.items():\n",
    "    \n",
    "    for a in get_flips(v):\n",
    "    \n",
    "        if np.all(a == upper_left_down[-1]) or np.all(a == upper_left_right[-1]):\n",
    "            seen.add(k)"
   ]
  },
  {
   "cell_type": "code",
   "execution_count": 38,
   "metadata": {},
   "outputs": [
    {
     "name": "stdout",
     "output_type": "stream",
     "text": [
      "aready removed 3701\n",
      "aready removed 3209\n",
      "aready removed 3803\n"
     ]
    },
    {
     "data": {
      "text/plain": [
       "{'1399': array([[0, 1, 1, 1, 0, 0, 0, 1, 0, 0],\n",
       "        [1, 0, 1, 0, 0, 0, 0, 0, 0, 1],\n",
       "        [0, 1, 1, 0, 0, 0, 0, 1, 0, 1],\n",
       "        [0, 0, 0, 1, 0, 0, 1, 0, 0, 0],\n",
       "        [1, 0, 1, 0, 1, 0, 0, 1, 1, 0],\n",
       "        [1, 0, 0, 0, 0, 0, 0, 0, 1, 0],\n",
       "        [1, 0, 0, 0, 0, 1, 0, 0, 1, 1],\n",
       "        [0, 0, 0, 0, 1, 0, 0, 0, 1, 0],\n",
       "        [1, 0, 0, 0, 0, 0, 1, 0, 0, 1],\n",
       "        [0, 0, 1, 0, 0, 1, 0, 1, 0, 1]])}"
      ]
     },
     "execution_count": 38,
     "metadata": {},
     "output_type": "execute_result"
    }
   ],
   "source": [
    "for corner in seen:\n",
    "    \n",
    "    corners_left.pop(corner)\n",
    "    try:\n",
    "        tiles_to_place.pop(corner)\n",
    "    except:\n",
    "        print(\"aready removed\", corner)\n",
    "    \n",
    "corners_left"
   ]
  },
  {
   "cell_type": "code",
   "execution_count": 39,
   "metadata": {},
   "outputs": [],
   "source": [
    "bottom_right_corner = corners_left[\"1399\"]\n",
    "\n",
    "tiles_to_place.pop(\"1399\");"
   ]
  },
  {
   "cell_type": "code",
   "execution_count": 40,
   "metadata": {},
   "outputs": [
    {
     "data": {
      "text/plain": [
       "array([[0, 1, 1, 1, 0, 0, 0, 1, 0, 0],\n",
       "       [1, 0, 1, 0, 0, 0, 0, 0, 0, 1],\n",
       "       [0, 1, 1, 0, 0, 0, 0, 1, 0, 1],\n",
       "       [0, 0, 0, 1, 0, 0, 1, 0, 0, 0],\n",
       "       [1, 0, 1, 0, 1, 0, 0, 1, 1, 0],\n",
       "       [1, 0, 0, 0, 0, 0, 0, 0, 1, 0],\n",
       "       [1, 0, 0, 0, 0, 1, 0, 0, 1, 1],\n",
       "       [0, 0, 0, 0, 1, 0, 0, 0, 1, 0],\n",
       "       [1, 0, 0, 0, 0, 0, 1, 0, 0, 1],\n",
       "       [0, 0, 1, 0, 0, 1, 0, 1, 0, 1]])"
      ]
     },
     "execution_count": 40,
     "metadata": {},
     "output_type": "execute_result"
    }
   ],
   "source": [
    "bottom_right_corner"
   ]
  },
  {
   "cell_type": "code",
   "execution_count": 41,
   "metadata": {},
   "outputs": [],
   "source": [
    "# tiles_to_place = bu.copy()\n",
    "# bu = tiles_to_place.copy()"
   ]
  },
  {
   "cell_type": "code",
   "execution_count": 42,
   "metadata": {},
   "outputs": [
    {
     "name": "stdout",
     "output_type": "stream",
     "text": [
      "120\n",
      "(10, 10)\n",
      "11\n"
     ]
    }
   ],
   "source": [
    "current = bottom_right_corner\n",
    "\n",
    "print(len(tiles_to_place))\n",
    "\n",
    "print(current.shape)\n",
    "\n",
    "done = []\n",
    "\n",
    "while True:\n",
    "    \n",
    "    done.append(current)\n",
    "\n",
    "    current = find_match(current, \"left\", False) # upper + left -> bottom right corner\n",
    "\n",
    "    if current is None:\n",
    "        break\n",
    "        \n",
    "        \n",
    "print(len(done))\n",
    "\n",
    "assert len(done) == 11"
   ]
  },
  {
   "cell_type": "code",
   "execution_count": 43,
   "metadata": {},
   "outputs": [],
   "source": [
    "bottom_right_left = done.copy()\n",
    "\n",
    "assert len(bottom_right_left) == 11"
   ]
  },
  {
   "cell_type": "code",
   "execution_count": 44,
   "metadata": {},
   "outputs": [
    {
     "name": "stdout",
     "output_type": "stream",
     "text": [
      "110\n",
      "(10, 10)\n",
      "11\n"
     ]
    }
   ],
   "source": [
    "current = bottom_right_corner\n",
    "\n",
    "print(len(tiles_to_place))\n",
    "\n",
    "print(current.shape)\n",
    "\n",
    "done = []\n",
    "\n",
    "while True:\n",
    "    \n",
    "    done.append(current)\n",
    "\n",
    "    current = find_match(current, \"upper\", False) # upper + left -> bottom right corner\n",
    "\n",
    "    if current is None:\n",
    "        break\n",
    "        \n",
    "        \n",
    "print(len(done))\n",
    "\n",
    "assert len(done) == 11"
   ]
  },
  {
   "cell_type": "code",
   "execution_count": 45,
   "metadata": {},
   "outputs": [],
   "source": [
    "bottom_right_up = done.copy()\n",
    "\n",
    "assert len(bottom_right_up) == 11"
   ]
  },
  {
   "cell_type": "code",
   "execution_count": 46,
   "metadata": {},
   "outputs": [
    {
     "data": {
      "text/plain": [
       "100"
      ]
     },
     "execution_count": 46,
     "metadata": {},
     "output_type": "execute_result"
    }
   ],
   "source": [
    "len(tiles_to_place)"
   ]
  },
  {
   "cell_type": "code",
   "execution_count": 47,
   "metadata": {},
   "outputs": [],
   "source": [
    "image = np.zeros((120, 120), dtype=\"int64\")"
   ]
  },
  {
   "cell_type": "code",
   "execution_count": 48,
   "metadata": {},
   "outputs": [
    {
     "data": {
      "text/plain": [
       "array([[0, 0, 0, ..., 0, 0, 0],\n",
       "       [0, 0, 0, ..., 0, 0, 0],\n",
       "       [0, 0, 0, ..., 0, 0, 0],\n",
       "       ...,\n",
       "       [0, 0, 0, ..., 0, 0, 0],\n",
       "       [0, 0, 0, ..., 0, 0, 0],\n",
       "       [0, 0, 0, ..., 0, 0, 0]])"
      ]
     },
     "execution_count": 48,
     "metadata": {},
     "output_type": "execute_result"
    }
   ],
   "source": [
    "image"
   ]
  },
  {
   "cell_type": "code",
   "execution_count": 49,
   "metadata": {},
   "outputs": [],
   "source": [
    "tile_size = 10"
   ]
  },
  {
   "cell_type": "code",
   "execution_count": 50,
   "metadata": {},
   "outputs": [
    {
     "data": {
      "text/plain": [
       "(10, 10)"
      ]
     },
     "execution_count": 50,
     "metadata": {},
     "output_type": "execute_result"
    }
   ],
   "source": [
    "image[0:10, 0:10].shape"
   ]
  },
  {
   "cell_type": "code",
   "execution_count": 51,
   "metadata": {},
   "outputs": [
    {
     "data": {
      "text/plain": [
       "(10, 10)"
      ]
     },
     "execution_count": 51,
     "metadata": {},
     "output_type": "execute_result"
    }
   ],
   "source": [
    "image[10:20, 0:10].shape"
   ]
  },
  {
   "cell_type": "code",
   "execution_count": 52,
   "metadata": {},
   "outputs": [
    {
     "data": {
      "image/png": "[encoded data removed]",
      "text/plain": [
       "<Figure size 1000x1000 with 1 Axes>"
      ]
     },
     "metadata": {
      "image/png": {
       "height": 800,
       "width": 802
      },
      "needs_background": "light"
     },
     "output_type": "display_data"
    }
   ],
   "source": [
    "current = 0\n",
    "\n",
    "im(image)\n",
    "plt.show()\n",
    "time.sleep(8)\n",
    "\n",
    "clear_output(wait=True)\n",
    "\n",
    "for tile in upper_left_down:\n",
    "\n",
    "    image[current : current + 10, :tile_size] = tile\n",
    "\n",
    "    im(image)\n",
    "    plt.show()\n",
    "    time.sleep(sleepy)\n",
    "    clear_output(wait=True)\n",
    "\n",
    "    current += tile_size\n",
    "\n",
    "current = 0\n",
    "\n",
    "for tile in upper_left_right:\n",
    "\n",
    "    image[:tile_size, current : current + 10] = tile\n",
    "\n",
    "    im(image)\n",
    "    plt.show()\n",
    "    time.sleep(sleepy)\n",
    "    clear_output(wait=True)\n",
    "\n",
    "    current += tile_size\n",
    "\n",
    "current = 0\n",
    "\n",
    "for tile in bottom_right_left:\n",
    "\n",
    "    if current == 0:\n",
    "        image[-10:, current - 10 :] = tile\n",
    "\n",
    "    else:\n",
    "        image[-10:, current - 10 : current] = tile\n",
    "\n",
    "    im(image)\n",
    "    plt.show()\n",
    "    time.sleep(sleepy)\n",
    "    clear_output(wait=True)\n",
    "\n",
    "    current -= tile_size\n",
    "\n",
    "current = 0\n",
    "\n",
    "for tile in bottom_right_up:\n",
    "\n",
    "    if current == 0:\n",
    "        image[current - 10 :, -10:] = tile\n",
    "\n",
    "    else:\n",
    "        image[current - 10 : current, -10:] = tile\n",
    "\n",
    "    # image[current - 10 : current, -10:] = tile\n",
    "\n",
    "    im(image)\n",
    "    plt.show()\n",
    "    time.sleep(sleepy)\n",
    "    clear_output(wait=True)\n",
    "\n",
    "    current -= tile_size\n",
    "\n",
    "\n",
    "# 0, 10, 20... 80\n",
    "\n",
    "\n",
    "for col in range(10, 101, 10):\n",
    "\n",
    "    # im(image)\n",
    "    # plt.show()\n",
    "\n",
    "    for row in range(10, 101, 10):\n",
    "\n",
    "        # im(image)\n",
    "        # plt.show()\n",
    "\n",
    "        coords = (row, row + 10, col, col + 10)\n",
    "\n",
    "        left_edge = image[coords[0] : coords[1], col - 1]\n",
    "\n",
    "        assert left_edge.shape[0] == 10\n",
    "\n",
    "        upper_edge = image[row - 1, coords[2] : coords[3]]\n",
    "\n",
    "        assert upper_edge.shape[0] == 10\n",
    "\n",
    "        seen = set()\n",
    "\n",
    "        found = False\n",
    "\n",
    "        for k, tile in tiles_to_place.items():\n",
    "\n",
    "            if k not in seen:\n",
    "\n",
    "                for arrangement in get_flips(tile):\n",
    "\n",
    "                    borders = find_array_borders(arrangement)\n",
    "\n",
    "                    if (borders[\"left\"] == left_edge.tolist()) and (\n",
    "                        borders[\"upper\"] == upper_edge.tolist()\n",
    "                    ):\n",
    "\n",
    "                        image[\n",
    "                            coords[0] : coords[1], coords[2] : coords[3]\n",
    "                        ] = arrangement\n",
    "\n",
    "                        im(image)\n",
    "                        plt.show()\n",
    "                        time.sleep(sleepy)\n",
    "\n",
    "                        found = True\n",
    "\n",
    "                        seen.add(k)\n",
    "\n",
    "        clear_output(wait=True)\n",
    "\n",
    "\n",
    "for col in range(0, 120, 10):\n",
    "\n",
    "    image[:, col] = 9\n",
    "    image[:, col - 1] = 9\n",
    "\n",
    "\n",
    "imr(image)\n",
    "plt.show()\n",
    "time.sleep(sleepy)\n",
    "clear_output(wait=True)\n",
    "\n",
    "\n",
    "for row in range(0, 120, 10):\n",
    "\n",
    "    image[row, :] = 9\n",
    "    image[row - 1, :] = 9\n",
    "\n",
    "\n",
    "imr(image)\n",
    "plt.show()\n",
    "time.sleep(sleepy)\n",
    "\n",
    "\n",
    "full = []\n",
    "for row in range(image.shape[0]):\n",
    "\n",
    "    c = [e for e in image[row] if e != 9]\n",
    "\n",
    "    if c:\n",
    "        full.append(c)\n",
    "\n",
    "f = np.asarray(full)\n",
    "\n",
    "print(f.shape)\n",
    "\n",
    "clear_output(wait=True)\n",
    "\n",
    "im(f)\n",
    "plt.show()\n",
    "time.sleep(sleepy)\n",
    "clear_output(wait=True)\n",
    "\n",
    "\n",
    "monster_len = \"\"\"\n",
    "#.###...#.##...#.##O###.\n",
    ".O##.#OO.###OO##..OOO##.\n",
    "..O#.O..O..O.#O##O##.###\n",
    "\"\"\".strip().replace(\n",
    "    \"\\n\", \"\"\n",
    ")\n",
    "\n",
    "monster_len = list(monster_len).count(\"O\")\n",
    "\n",
    "\n",
    "def get_monster_relative(coord: tuple):\n",
    "\n",
    "    row = coord[0]\n",
    "\n",
    "    col = coord[1]\n",
    "\n",
    "    return [\n",
    "        (row + 1, col + 1),\n",
    "        (row + 1, col + 4),\n",
    "        (row + 1, col + 7),\n",
    "        (row + 1, col + 10),\n",
    "        (row + 1, col + 13),\n",
    "        (row + 1, col + 16),\n",
    "        (row, col + 5),\n",
    "        (row, col + 6),\n",
    "        (row, col + 11),\n",
    "        (row, col + 12),\n",
    "        (row, col + 17),\n",
    "        (row, col + 18),\n",
    "        (row, col + 19),\n",
    "        (row - 1, col + 18),\n",
    "    ]\n",
    "\n",
    "\n",
    "\n",
    "arr_found = None\n",
    "\n",
    "monsters_final = None\n",
    "\n",
    "monster_coords = []\n",
    "\n",
    "for arrangement in get_flips(f):\n",
    "    \n",
    "    clear_output(wait=True)\n",
    "    im(arrangement)\n",
    "    plt.show()\n",
    "    time.sleep(sleepy)\n",
    "\n",
    "    it = np.nditer(arrangement, flags=[\"multi_index\"])\n",
    "\n",
    "    monsters = 0\n",
    "\n",
    "    for point in it:\n",
    "\n",
    "        if point == 1:\n",
    "\n",
    "            try:\n",
    "\n",
    "                vals = []\n",
    "\n",
    "                for coord in get_monster_relative(it.multi_index):\n",
    "\n",
    "                    if arrangement[coord] == 1:\n",
    "                        vals.append(True)\n",
    "                    elif arrangement[coord] == 0:\n",
    "                        vals.append(False)\n",
    "                    else:\n",
    "                        raise ValueError\n",
    "\n",
    "                if all(vals):\n",
    "                    # print(\"found\")\n",
    "                    monsters += 1\n",
    "                    \n",
    "                    to_show = arrangement.copy()\n",
    "                    \n",
    "                    to_show[it.multi_index] = 9\n",
    "                    \n",
    "                    monster_coords.append(it.multi_index)\n",
    "                    \n",
    "                    clear_output(wait=True)\n",
    "                    imr(to_show)\n",
    "                    plt.show()\n",
    "                    clear_output(wait=True)\n",
    "                    \n",
    "                    for coord in get_monster_relative(it.multi_index):\n",
    "                        \n",
    "                        monster_coords.append(coord)\n",
    "                        \n",
    "                        to_show[coord] = 9\n",
    "                        \n",
    "                        imr(to_show)\n",
    "                        plt.show()\n",
    "                        clear_output(wait=True)\n",
    "                        \n",
    "                        \n",
    "                    \n",
    "                    \n",
    "\n",
    "            except IndexError:\n",
    "                monsters = monsters\n",
    "\n",
    "    if monsters != 0:\n",
    "        print(monsters)\n",
    "        \n",
    "        monsters_final = monsters\n",
    "        arr_found = arrangement\n",
    "        \n",
    "        \n",
    "for p in monster_coords:\n",
    "    \n",
    "    arr_found[p] = 9\n",
    "\n",
    "clear_output(wait=True)\n",
    "imr(arr_found)\n",
    "plt.show()\n",
    "clear_output(wait=True)"
   ]
  },
  {
   "cell_type": "code",
   "execution_count": null,
   "metadata": {},
   "outputs": [],
   "source": []
  },
  {
   "cell_type": "code",
   "execution_count": null,
   "metadata": {},
   "outputs": [],
   "source": []
  },
  {
   "cell_type": "code",
   "execution_count": null,
   "metadata": {},
   "outputs": [],
   "source": []
  },
  {
   "cell_type": "code",
   "execution_count": null,
   "metadata": {},
   "outputs": [],
   "source": []
  },
  {
   "cell_type": "code",
   "execution_count": null,
   "metadata": {},
   "outputs": [],
   "source": []
  },
  {
   "cell_type": "code",
   "execution_count": null,
   "metadata": {},
   "outputs": [],
   "source": []
  },
  {
   "cell_type": "code",
   "execution_count": null,
   "metadata": {},
   "outputs": [],
   "source": []
  },
  {
   "cell_type": "code",
   "execution_count": null,
   "metadata": {},
   "outputs": [],
   "source": []
  },
  {
   "cell_type": "code",
   "execution_count": null,
   "metadata": {},
   "outputs": [],
   "source": []
  },
  {
   "cell_type": "code",
   "execution_count": null,
   "metadata": {},
   "outputs": [],
   "source": []
  },
  {
   "cell_type": "markdown",
   "metadata": {},
   "source": [
    "```\n",
    "#.###...#.##...#.##O###.\n",
    ".O##.#OO.###OO##..OOO##.\n",
    "..O#.O..O..O.#O##O##.###\n",
    "```\n"
   ]
  },
  {
   "cell_type": "code",
   "execution_count": null,
   "metadata": {},
   "outputs": [],
   "source": []
  },
  {
   "cell_type": "code",
   "execution_count": null,
   "metadata": {},
   "outputs": [],
   "source": []
  },
  {
   "cell_type": "code",
   "execution_count": null,
   "metadata": {},
   "outputs": [],
   "source": []
  },
  {
   "cell_type": "code",
   "execution_count": null,
   "metadata": {},
   "outputs": [],
   "source": [
    "np.unique(arr_found, return_counts=True)"
   ]
  },
  {
   "cell_type": "code",
   "execution_count": null,
   "metadata": {},
   "outputs": [],
   "source": [
    "2422 - (monsters_final * monster_len)"
   ]
  },
  {
   "cell_type": "code",
   "execution_count": null,
   "metadata": {},
   "outputs": [],
   "source": []
  },
  {
   "cell_type": "code",
   "execution_count": null,
   "metadata": {},
   "outputs": [],
   "source": []
  }
 ],
 "metadata": {
  "kernelspec": {
   "display_name": "testing",
   "language": "python",
   "name": "testing"
  },
  "language_info": {
   "codemirror_mode": {
    "name": "ipython",
    "version": 3
   },
   "file_extension": ".py",
   "mimetype": "text/x-python",
   "name": "python",
   "nbconvert_exporter": "python",
   "pygments_lexer": "ipython3",
   "version": "3.8.3"
  }
 },
 "nbformat": 4,
 "nbformat_minor": 4
}
