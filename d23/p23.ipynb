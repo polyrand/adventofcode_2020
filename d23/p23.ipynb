{
 "cells": [
  {
   "cell_type": "code",
   "execution_count": 66,
   "metadata": {},
   "outputs": [],
   "source": [
    "test_input = [int(e) for e in list(\"389125467\")]\n",
    "\n",
    "test_result = 67384529"
   ]
  },
  {
   "cell_type": "code",
   "execution_count": 67,
   "metadata": {},
   "outputs": [],
   "source": [
    "import itertools\n",
    "\n",
    "\n",
    "def flatten(x):\n",
    "    \n",
    "    res = []\n",
    "    \n",
    "    for e in x:\n",
    "        \n",
    "        if isinstance(e, int):\n",
    "            res.append(e)\n",
    "        elif isinstance(e, list):\n",
    "            for i in flatten(e):\n",
    "                res.append(i)\n",
    "        else:\n",
    "            print(\"shouldn't happen\")\n",
    "            \n",
    "    return res"
   ]
  },
  {
   "cell_type": "code",
   "execution_count": 68,
   "metadata": {},
   "outputs": [
    {
     "data": {
      "text/plain": [
       "[1, 2, 4, 5, 3]"
      ]
     },
     "execution_count": 68,
     "metadata": {},
     "output_type": "execute_result"
    }
   ],
   "source": [
    "flatten([1, 2, [4, 5], 3])"
   ]
  },
  {
   "cell_type": "code",
   "execution_count": 69,
   "metadata": {},
   "outputs": [],
   "source": [
    "cups = [int(e) for e in list(\"963275481\")]"
   ]
  },
  {
   "cell_type": "code",
   "execution_count": 70,
   "metadata": {},
   "outputs": [
    {
     "data": {
      "text/plain": [
       "[9, 6, 3, 2, 7, 5, 4, 8, 1]"
      ]
     },
     "execution_count": 70,
     "metadata": {},
     "output_type": "execute_result"
    }
   ],
   "source": [
    "cups"
   ]
  },
  {
   "cell_type": "markdown",
   "metadata": {},
   "source": [
    "Game = 100 turns"
   ]
  },
  {
   "cell_type": "code",
   "execution_count": 71,
   "metadata": {},
   "outputs": [],
   "source": [
    "n_turns = 100"
   ]
  },
  {
   "cell_type": "markdown",
   "metadata": {},
   "source": [
    "The crab picks up the three cups that are immediately clockwise of the current cup.\n",
    "\n",
    "They are removed from the circle; cup spacing is adjusted as necessary to maintain the circle."
   ]
  },
  {
   "cell_type": "code",
   "execution_count": 65,
   "metadata": {},
   "outputs": [
    {
     "data": {
      "text/plain": [
       "[3, 2, 7, 5, 4, 8, 1]"
      ]
     },
     "execution_count": 65,
     "metadata": {},
     "output_type": "execute_result"
    }
   ],
   "source": [
    "cups[cups.index(6)+1:]"
   ]
  },
  {
   "cell_type": "code",
   "execution_count": 94,
   "metadata": {},
   "outputs": [],
   "source": [
    "def pick_up_cups(idx, cups):\n",
    "\n",
    "    cups = cups.copy()\n",
    "\n",
    "    current = cups[idx]\n",
    "\n",
    "    picked_up = []\n",
    "\n",
    "    to_pick = idx + 1\n",
    "\n",
    "    for i in range(3):\n",
    "\n",
    "        if (to_pick >= len(cups)) or (cups[to_pick] == current):\n",
    "            to_pick = 0\n",
    "\n",
    "        # which_to_pick = cups[to_pick]\n",
    "\n",
    "        #         if which_to_pick == current:\n",
    "        #             # wrap\n",
    "        #             to_pick = 0\n",
    "\n",
    "        picked_up.append(cups.pop(to_pick))\n",
    "\n",
    "    #     adj = cups[1:4]\n",
    "\n",
    "    return current, picked_up, cups"
   ]
  },
  {
   "cell_type": "code",
   "execution_count": 95,
   "metadata": {},
   "outputs": [
    {
     "data": {
      "text/plain": [
       "[9, 6, 3, 2, 7, 5, 4, 8, 1]"
      ]
     },
     "execution_count": 95,
     "metadata": {},
     "output_type": "execute_result"
    }
   ],
   "source": [
    "cups"
   ]
  },
  {
   "cell_type": "code",
   "execution_count": 100,
   "metadata": {},
   "outputs": [
    {
     "data": {
      "text/plain": [
       "(4, [8, 1, 9], [6, 3, 2, 7, 5, 4])"
      ]
     },
     "execution_count": 100,
     "metadata": {},
     "output_type": "execute_result"
    }
   ],
   "source": [
    "pick_up_cups(6, cups)"
   ]
  },
  {
   "cell_type": "markdown",
   "metadata": {},
   "source": [
    "The crab selects a destination cup: the cup with a label equal to the current cup's label minus one. If this would select one of the cups that was just picked up, the crab will keep subtracting one until it finds a cup that wasn't just picked up. If at any point in this process the value goes below the lowest value on any cup's label, it wraps around to the highest value on any cup's label instead."
   ]
  },
  {
   "cell_type": "code",
   "execution_count": 128,
   "metadata": {},
   "outputs": [],
   "source": [
    "def choose_destination(chosen, picked_cups, cups):\n",
    "\n",
    "    destination_cup_label = chosen - 1\n",
    "\n",
    "    if destination_cup_label < min(cups):\n",
    "        destination_cup_label = max(cups)\n",
    "\n",
    "    while destination_cup_label in picked_cups:\n",
    "\n",
    "        new_val = destination_cup_label - 1\n",
    "\n",
    "        if new_val < min(cups):\n",
    "            new_val = max(cups)\n",
    "\n",
    "        destination_cup_label = new_val\n",
    "\n",
    "    return destination_cup_label"
   ]
  },
  {
   "cell_type": "markdown",
   "metadata": {},
   "source": [
    "The crab places the cups it just picked up so that they are immediately clockwise of the destination cup. They keep the same order as when they were picked up."
   ]
  },
  {
   "cell_type": "code",
   "execution_count": 129,
   "metadata": {},
   "outputs": [],
   "source": [
    "def insert_in_pos(l: list, pos: int, elems: list) -> list:\n",
    "    \n",
    "    l = l.copy()\n",
    "    l.insert(pos, elems)\n",
    "    \n",
    "\n",
    "    return list(flatten(l))"
   ]
  },
  {
   "cell_type": "code",
   "execution_count": 130,
   "metadata": {},
   "outputs": [
    {
     "data": {
      "text/plain": [
       "[1, 2, 4, 5, 3]"
      ]
     },
     "execution_count": 130,
     "metadata": {},
     "output_type": "execute_result"
    }
   ],
   "source": [
    "insert_in_pos([1,2,3], 2, [4,5])"
   ]
  },
  {
   "cell_type": "markdown",
   "metadata": {},
   "source": [
    "The crab selects a new current cup: the cup which is immediately clockwise of the current cup."
   ]
  },
  {
   "cell_type": "code",
   "execution_count": 568,
   "metadata": {},
   "outputs": [],
   "source": [
    "import itertools\n",
    "\n",
    "def getn(cups):\n",
    "\n",
    "    res = []\n",
    "    \n",
    "    seen = False\n",
    "\n",
    "    for x in itertools.cycle(cups):\n",
    "\n",
    "        if seen:\n",
    "            res.append(str(x))\n",
    "\n",
    "        if x == 1:\n",
    "            seen = True\n",
    "            \n",
    "        if len(res) == 8:\n",
    "            break\n",
    "            \n",
    "    return \"\".join(res)"
   ]
  },
  {
   "cell_type": "code",
   "execution_count": 569,
   "metadata": {},
   "outputs": [
    {
     "data": {
      "text/plain": [
       "[3, 8, 9, 1, 2, 5, 4, 6, 7]"
      ]
     },
     "execution_count": 569,
     "metadata": {},
     "output_type": "execute_result"
    }
   ],
   "source": [
    "test_input"
   ]
  },
  {
   "cell_type": "code",
   "execution_count": 584,
   "metadata": {},
   "outputs": [
    {
     "name": "stdout",
     "output_type": "stream",
     "text": [
      "CPU times: user 3.57 ms, sys: 36 µs, total: 3.61 ms\n",
      "Wall time: 3.79 ms\n"
     ]
    }
   ],
   "source": [
    "%%time\n",
    "game_cups = cups.copy()\n",
    "\n",
    "idx_start = 0\n",
    "\n",
    "verbose = False\n",
    "\n",
    "for i in range(n_turns):\n",
    "\n",
    "    chosen, picked, left = pick_up_cups(idx_start, game_cups)\n",
    "\n",
    "    dest = choose_destination(chosen, picked, game_cups)\n",
    "\n",
    "    dest_idx = left.index(dest) + 1\n",
    "\n",
    "    if verbose:\n",
    "        print(\n",
    "            f\"\"\"\n",
    "    -- Move {i} --\n",
    "        cups: {game_cups}\n",
    "        chosen: {chosen}\n",
    "        pick up: {picked}\n",
    "        destination: {dest}\n",
    "        dest_idx: {dest_idx}\n",
    "        \"\"\"\n",
    "        )\n",
    "\n",
    "    game_cups = insert_in_pos(left, dest_idx, picked)\n",
    "\n",
    "    prev_cup_idx = game_cups.index(chosen)\n",
    "\n",
    "    idx_start = prev_cup_idx + 1\n",
    "\n",
    "    if idx_start >= len(game_cups):\n",
    "        idx_start = 0"
   ]
  },
  {
   "cell_type": "code",
   "execution_count": 585,
   "metadata": {},
   "outputs": [
    {
     "data": {
      "text/plain": [
       "'95487632'"
      ]
     },
     "execution_count": 585,
     "metadata": {},
     "output_type": "execute_result"
    }
   ],
   "source": [
    "getn(game_cups) # 97632548"
   ]
  },
  {
   "cell_type": "markdown",
   "metadata": {},
   "source": [
    "## Part 2"
   ]
  },
  {
   "cell_type": "code",
   "execution_count": 1,
   "metadata": {},
   "outputs": [],
   "source": [
    "cups = [int(e) for e in list(\"963275481\")]\n",
    "\n",
    "extra = list(range(max(cups) + 1, 1_000_000 + 1))\n",
    "\n",
    "cups += extra"
   ]
  },
  {
   "cell_type": "markdown",
   "metadata": {},
   "source": [
    "Double linked list\n",
    "\n",
    "dict {num: next_num}"
   ]
  },
  {
   "cell_type": "code",
   "execution_count": 2,
   "metadata": {},
   "outputs": [],
   "source": [
    "class RotationList:\n",
    "    def __init__(self, values: list):\n",
    "\n",
    "        # self.d = dict(enumerate(values))\n",
    "\n",
    "        self.d = {}\n",
    "\n",
    "        for idx, val in enumerate(values):\n",
    "\n",
    "            n = idx + 1\n",
    "\n",
    "            if n >= len(values):\n",
    "                n = 0\n",
    "\n",
    "            self.d[val] = {\"prev\": values[idx - 1], \"next\": values[n]}\n",
    "\n",
    "        self.total_len = len(values)\n",
    "\n",
    "        self.max_val = max(values)\n",
    "        self.min_val = min(values)\n",
    "\n",
    "    def pick_up_cups(self, value):\n",
    "\n",
    "        n1 = self.d[value][\"next\"]\n",
    "        n2 = self.d[n1][\"next\"]\n",
    "        n3 = self.d[n2][\"next\"]\n",
    "\n",
    "        nn = self.d[n3][\"next\"]\n",
    "\n",
    "        self.d[value][\"next\"] = nn\n",
    "\n",
    "        return value, (n1, n2, n3)\n",
    "\n",
    "    def choose_destination(self, chosen, picked_cups):\n",
    "\n",
    "        destination_cup = chosen - 1\n",
    "\n",
    "        if destination_cup < self.min_val:\n",
    "            destination_cup = self.max_val\n",
    "\n",
    "        while destination_cup in picked_cups:\n",
    "\n",
    "            new_val = destination_cup - 1\n",
    "\n",
    "            if new_val < self.min_val:\n",
    "                new_val = self.max_val\n",
    "\n",
    "            destination_cup = new_val\n",
    "\n",
    "        return destination_cup\n",
    "\n",
    "    def insert_in_pos(self, pos: int, elems: list):\n",
    "\n",
    "        assert len(elems) == 3\n",
    "\n",
    "        old_nex = self.d[pos][\"next\"]\n",
    "        self.d[pos][\"next\"] = elems[0]\n",
    "        self.d[elems[-1]][\"next\"] = old_nex\n",
    "\n",
    "    def next_idx(self, prev_chosen):\n",
    "\n",
    "        return self.d[prev_chosen][\"next\"]\n",
    "\n",
    "    def score_part_2(self):\n",
    "\n",
    "        n1 = self.d[1][\"next\"]\n",
    "        n2 = self.d[n1][\"next\"]\n",
    "\n",
    "        return n1 * n2"
   ]
  },
  {
   "cell_type": "markdown",
   "metadata": {},
   "source": [
    "OO double linked list approach (lots of self mutations)"
   ]
  },
  {
   "cell_type": "code",
   "execution_count": 3,
   "metadata": {},
   "outputs": [],
   "source": [
    "game_cups = RotationList(cups.copy() + list(range(max(cups) + 1, 1000000 + 1)))"
   ]
  },
  {
   "cell_type": "code",
   "execution_count": 4,
   "metadata": {},
   "outputs": [],
   "source": [
    "n_turns = 10_000_000"
   ]
  },
  {
   "cell_type": "markdown",
   "metadata": {},
   "source": [
    "[Review](https://topaz.github.io/paste/#XQAAAQDGAgAAAAAAAAAyGUj/T32X5leZ5SDz2qdpTIjS9oXYfUdcfc/VCSARNAsWyShkROB2xn+j7UcC2v0l879pAkcPfa+DiiCE8r019XB0dWpdi6WkXAQXUljZ5IycPeN+r1XvKj5o20hnd1x1S7/vzVUd3buLgY2gljaXs1dqGM2DvjiN8YE1HVGinjUQQD5oYiGgImU3ZzFPBNHrb7SSJhmH0qm48zpNQ/KHCmll+KD8dYQhLWQyQTmCtSkY2y8lxTIsfP21IqhQgVQRK97ojghdiK7d6FWH/w3bChWIb0IKhzxTn5K2spuSwbqsnp/m5OR5Y8Js8oaAIGrmdGGqEq6FkdyggUncrLbb1q8BtzvjnVwG+SeJGPodczKzObJhqCsEsRfLa2djXbotjlCJOegrqXNNoJtv/qkxlw==)"
   ]
  },
  {
   "cell_type": "code",
   "execution_count": 5,
   "metadata": {},
   "outputs": [
    {
     "name": "stdout",
     "output_type": "stream",
     "text": [
      "0\n",
      "1000000\n",
      "2000000\n",
      "3000000\n",
      "4000000\n",
      "5000000\n",
      "6000000\n",
      "7000000\n",
      "8000000\n",
      "9000000\n",
      "412990492266\n"
     ]
    }
   ],
   "source": [
    "val = 9\n",
    "\n",
    "verbose = False\n",
    "\n",
    "for i in range(n_turns):\n",
    "\n",
    "    if i % 1_000_000 == 0:\n",
    "        print(i)\n",
    "\n",
    "    current, picked_up = game_cups.pick_up_cups(val)\n",
    "\n",
    "    dest = game_cups.choose_destination(current, picked_up)\n",
    "\n",
    "    game_cups.insert_in_pos(dest, picked_up)\n",
    "\n",
    "    val = game_cups.next_idx(current)\n",
    "\n",
    "\n",
    "print(\"Result\", game_cups.score_part_2())  # 412990492266"
   ]
  },
  {
   "cell_type": "code",
   "execution_count": null,
   "metadata": {},
   "outputs": [],
   "source": []
  }
 ],
 "metadata": {
  "kernelspec": {
   "display_name": "testing",
   "language": "python",
   "name": "testing"
  },
  "language_info": {
   "codemirror_mode": {
    "name": "ipython",
    "version": 3
   },
   "file_extension": ".py",
   "mimetype": "text/x-python",
   "name": "python",
   "nbconvert_exporter": "python",
   "pygments_lexer": "ipython3",
   "version": "3.8.3"
  }
 },
 "nbformat": 4,
 "nbformat_minor": 4
}
