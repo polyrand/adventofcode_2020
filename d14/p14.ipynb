{
 "cells": [
  {
   "cell_type": "code",
   "execution_count": 55,
   "metadata": {},
   "outputs": [],
   "source": [
    "import re\n",
    "from typing import List"
   ]
  },
  {
   "cell_type": "code",
   "execution_count": 15,
   "metadata": {},
   "outputs": [],
   "source": [
    "def b_x(n):\n",
    "    return list(bin(n).replace(\"0b\", \"\"))"
   ]
  },
  {
   "cell_type": "code",
   "execution_count": 49,
   "metadata": {},
   "outputs": [],
   "source": [
    "def b(n):\n",
    "    return [int(e) for e in \"{0:036b}\".format(int(n))]"
   ]
  },
  {
   "cell_type": "code",
   "execution_count": 53,
   "metadata": {},
   "outputs": [],
   "source": [
    "def b36(n):\n",
    "    return list(\"{0:036b}\".format(int(n)))"
   ]
  },
  {
   "cell_type": "code",
   "execution_count": 7,
   "metadata": {},
   "outputs": [
    {
     "data": {
      "text/plain": [
       "True"
      ]
     },
     "execution_count": 7,
     "metadata": {},
     "output_type": "execute_result"
    }
   ],
   "source": [
    "# [int(e) for e in list(\"{0:036b}\".format(11))] ==  bb(11)"
   ]
  },
  {
   "cell_type": "code",
   "execution_count": 17,
   "metadata": {},
   "outputs": [],
   "source": [
    "def bb(num):\n",
    "    return list(reversed([int(bool(num & (1 << n))) for n in range(36)]))  # np.asarray("
   ]
  },
  {
   "cell_type": "code",
   "execution_count": 18,
   "metadata": {
    "collapsed": true,
    "jupyter": {
     "outputs_hidden": true
    }
   },
   "outputs": [
    {
     "data": {
      "text/plain": [
       "[0,\n",
       " 0,\n",
       " 0,\n",
       " 0,\n",
       " 0,\n",
       " 0,\n",
       " 0,\n",
       " 0,\n",
       " 0,\n",
       " 0,\n",
       " 0,\n",
       " 0,\n",
       " 0,\n",
       " 0,\n",
       " 0,\n",
       " 0,\n",
       " 0,\n",
       " 0,\n",
       " 0,\n",
       " 0,\n",
       " 0,\n",
       " 0,\n",
       " 0,\n",
       " 0,\n",
       " 0,\n",
       " 0,\n",
       " 0,\n",
       " 0,\n",
       " 0,\n",
       " 0,\n",
       " 0,\n",
       " 0,\n",
       " 1,\n",
       " 0,\n",
       " 1,\n",
       " 1]"
      ]
     },
     "execution_count": 18,
     "metadata": {},
     "output_type": "execute_result"
    }
   ],
   "source": [
    "b(11)"
   ]
  },
  {
   "cell_type": "code",
   "execution_count": 19,
   "metadata": {},
   "outputs": [],
   "source": [
    "e = \"\"\"\n",
    "mask = 100X100X101011111X100000100X11010011\n",
    "mem[33323] = 349380\n",
    "mem[52742] = 116688965\n",
    "mem[4113] = 11499\n",
    "mem[15819] = 313303\n",
    "mem[23239] = 755579063\n",
    "\"\"\".strip()"
   ]
  },
  {
   "cell_type": "code",
   "execution_count": 44,
   "metadata": {},
   "outputs": [],
   "source": [
    "mask = re.search(r\"mask\\s=\\s([X|1|0]{36})\", e)"
   ]
  },
  {
   "cell_type": "code",
   "execution_count": 47,
   "metadata": {},
   "outputs": [
    {
     "data": {
      "text/plain": [
       "['1',\n",
       " '0',\n",
       " '0',\n",
       " 'X',\n",
       " '1',\n",
       " '0',\n",
       " '0',\n",
       " 'X',\n",
       " '1',\n",
       " '0',\n",
       " '1',\n",
       " '0',\n",
       " '1',\n",
       " '1',\n",
       " '1',\n",
       " '1',\n",
       " '1',\n",
       " 'X',\n",
       " '1',\n",
       " '0',\n",
       " '0',\n",
       " '0',\n",
       " '0',\n",
       " '0',\n",
       " '1',\n",
       " '0',\n",
       " '0',\n",
       " 'X',\n",
       " '1',\n",
       " '1',\n",
       " '0',\n",
       " '1',\n",
       " '0',\n",
       " '0',\n",
       " '1',\n",
       " '1']"
      ]
     },
     "execution_count": 47,
     "metadata": {},
     "output_type": "execute_result"
    }
   ],
   "source": [
    "list(mask.groups()[0])"
   ]
  },
  {
   "cell_type": "code",
   "execution_count": 36,
   "metadata": {},
   "outputs": [],
   "source": [
    "assert mask.groups()[0] == \"100X100X101011111X100000100X11010011\""
   ]
  },
  {
   "cell_type": "code",
   "execution_count": 38,
   "metadata": {},
   "outputs": [],
   "source": [
    "instruction = re.findall(r\"mem\\[(?P<position>\\d+)\\]\\s=\\s(?P<value>\\d+\\b)\", e)"
   ]
  },
  {
   "cell_type": "code",
   "execution_count": 67,
   "metadata": {},
   "outputs": [],
   "source": [
    "memory = {}"
   ]
  },
  {
   "cell_type": "code",
   "execution_count": 73,
   "metadata": {},
   "outputs": [],
   "source": [
    "def apply_mask_to_num(num: str, mask: str) -> int:\n",
    "    \n",
    "    mask: List[str] = list(mask)\n",
    "    \n",
    "    num: List[str] = b36(num)\n",
    "    \n",
    "    result = []\n",
    "    \n",
    "    for n, m in zip(num, mask):\n",
    "        \n",
    "        if m == \"X\":\n",
    "            result.append(n)\n",
    "        else:\n",
    "            result.append(m)\n",
    "            \n",
    "    binary_str = \"\".join(result)\n",
    "    \n",
    "    return int(binary_str, 2)"
   ]
  },
  {
   "cell_type": "code",
   "execution_count": 75,
   "metadata": {},
   "outputs": [
    {
     "data": {
      "text/plain": [
       "36691642579"
      ]
     },
     "execution_count": 75,
     "metadata": {},
     "output_type": "execute_result"
    }
   ],
   "source": [
    "apply_mask_to_num('349380', mask.groups()[0])"
   ]
  },
  {
   "cell_type": "code",
   "execution_count": 76,
   "metadata": {},
   "outputs": [],
   "source": [
    "n = 349380\n",
    "assert int(\"\".join(b36(str(349380))), 2) == 349380"
   ]
  },
  {
   "cell_type": "code",
   "execution_count": 88,
   "metadata": {},
   "outputs": [],
   "source": [
    "def process_group(group: str):\n",
    "    # mask = re.search(r\"mask\\s=\\s([X|1|0]{36})\", group)\n",
    "    mask = re.search(r\"\\s=\\s([X|1|0]{36})\", group)\n",
    "    \n",
    "    mask = mask.groups()[0]\n",
    "    \n",
    "    instructions = re.findall(r\"mem\\[(?P<position>\\d+)\\]\\s=\\s(?P<value>\\d+\\b)\", group)\n",
    "    \n",
    "    for loc, value in instructions:\n",
    "        \n",
    "        memory[loc] = apply_mask_to_num(value, mask)"
   ]
  },
  {
   "cell_type": "code",
   "execution_count": 89,
   "metadata": {},
   "outputs": [],
   "source": [
    "process_group(e)"
   ]
  },
  {
   "cell_type": "code",
   "execution_count": 90,
   "metadata": {},
   "outputs": [
    {
     "data": {
      "text/plain": [
       "{'33323': 36691642579,\n",
       " '52742': 36691642579,\n",
       " '4113': 36691380435,\n",
       " '15819': 36691642835,\n",
       " '23239': 36691380435}"
      ]
     },
     "execution_count": 90,
     "metadata": {},
     "output_type": "execute_result"
    }
   ],
   "source": [
    "memory"
   ]
  },
  {
   "cell_type": "code",
   "execution_count": 91,
   "metadata": {},
   "outputs": [],
   "source": [
    "with open(\"input.txt\") as f:\n",
    "    data = f.read()"
   ]
  },
  {
   "cell_type": "code",
   "execution_count": 92,
   "metadata": {},
   "outputs": [],
   "source": [
    "groups = data.split(\"mask\")[1:]"
   ]
  },
  {
   "cell_type": "code",
   "execution_count": 93,
   "metadata": {},
   "outputs": [],
   "source": [
    "memory = {}"
   ]
  },
  {
   "cell_type": "code",
   "execution_count": 94,
   "metadata": {},
   "outputs": [],
   "source": [
    "for g in groups:\n",
    "    process_group(g)"
   ]
  },
  {
   "cell_type": "code",
   "execution_count": 97,
   "metadata": {},
   "outputs": [
    {
     "data": {
      "text/plain": [
       "13556564111697"
      ]
     },
     "execution_count": 97,
     "metadata": {},
     "output_type": "execute_result"
    }
   ],
   "source": [
    "sum(memory.values())"
   ]
  },
  {
   "cell_type": "markdown",
   "metadata": {},
   "source": [
    "## Part 2"
   ]
  },
  {
   "cell_type": "code",
   "execution_count": 189,
   "metadata": {},
   "outputs": [],
   "source": [
    "from itertools import product, permutations"
   ]
  },
  {
   "cell_type": "code",
   "execution_count": 192,
   "metadata": {},
   "outputs": [
    {
     "data": {
      "text/plain": [
       "[('1', '1', '1'),\n",
       " ('1', '1', '0'),\n",
       " ('1', '0', '1'),\n",
       " ('1', '0', '0'),\n",
       " ('0', '1', '1'),\n",
       " ('0', '1', '0'),\n",
       " ('0', '0', '1'),\n",
       " ('0', '0', '0')]"
      ]
     },
     "execution_count": 192,
     "metadata": {},
     "output_type": "execute_result"
    }
   ],
   "source": [
    "list(product(\"10\", repeat=3))"
   ]
  },
  {
   "cell_type": "code",
   "execution_count": 107,
   "metadata": {},
   "outputs": [],
   "source": [
    "def apply_mask_to_num(num: str, mask: str) -> int:\n",
    "\n",
    "    mask: List[str] = list(mask)\n",
    "\n",
    "    num: List[str] = b36(num)\n",
    "\n",
    "    result = []\n",
    "\n",
    "    for n, m in zip(num, mask):\n",
    "\n",
    "        if m == \"0\":\n",
    "            result.append(n)\n",
    "        else:\n",
    "            result.append(m)\n",
    "\n",
    "    binary_str = \"\".join(result)\n",
    "    \n",
    "    return binary_str\n",
    "\n",
    "    return int(binary_str, 2)"
   ]
  },
  {
   "cell_type": "code",
   "execution_count": 195,
   "metadata": {},
   "outputs": [],
   "source": [
    "ts = apply_mask_to_num('349380', mask.groups()[0])\n",
    "\n",
    "tsl = list(ts)\n",
    "\n",
    "x_pos = [k for k,v in dict(enumerate(ts)).items() if v == \"X\"]"
   ]
  },
  {
   "cell_type": "code",
   "execution_count": 198,
   "metadata": {},
   "outputs": [
    {
     "data": {
      "text/plain": [
       "[3, 7, 17, 27]"
      ]
     },
     "execution_count": 198,
     "metadata": {},
     "output_type": "execute_result"
    }
   ],
   "source": [
    "x_pos"
   ]
  },
  {
   "cell_type": "code",
   "execution_count": 199,
   "metadata": {},
   "outputs": [
    {
     "name": "stdout",
     "output_type": "stream",
     "text": [
      "41255132631\n",
      "41255132375\n",
      "41254870487\n",
      "41254870231\n",
      "40986697175\n",
      "40986696919\n",
      "40986435031\n",
      "40986434775\n",
      "36960165335\n",
      "36960165079\n",
      "36959903191\n",
      "36959902935\n",
      "36691729879\n",
      "36691729623\n",
      "36691467735\n",
      "36691467479\n"
     ]
    }
   ],
   "source": [
    "x_pos\n",
    "\n",
    "n = len(x_pos)\n",
    "\n",
    "for repl in list(product(\"10\", repeat=n)):\n",
    "    \n",
    "    new_tsl = tsl.copy()\n",
    "    \n",
    "    for i in range(n):\n",
    "        new_tsl[x_pos[i]] = repl[i]\n",
    "        \n",
    "    print(int(\"\".join(new_tsl), 2))"
   ]
  },
  {
   "cell_type": "code",
   "execution_count": 173,
   "metadata": {},
   "outputs": [],
   "source": [
    "def generate_memory_addresses(orig_addr: str, mask: str):\n",
    "\n",
    "    ts = apply_mask_to_num(orig_addr, mask)\n",
    "\n",
    "    tsl = list(ts)\n",
    "\n",
    "    x_pos = [k for k, v in dict(enumerate(ts)).items() if v == \"X\"]\n",
    "\n",
    "    n = len(x_pos)\n",
    "    \n",
    "    for repl in list(product(\"10\", repeat=n)):\n",
    "\n",
    "        new_tsl = tsl.copy()\n",
    "\n",
    "        for i in range(n):\n",
    "            new_tsl[x_pos[i]] = repl[i]\n",
    "\n",
    "        yield int(\"\".join(new_tsl), 2)"
   ]
  },
  {
   "cell_type": "code",
   "execution_count": 178,
   "metadata": {},
   "outputs": [],
   "source": [
    "# list(generate_memory_addresses(\"34069\", mask.groups()[0]))"
   ]
  },
  {
   "cell_type": "code",
   "execution_count": 179,
   "metadata": {},
   "outputs": [],
   "source": [
    "memory = {}"
   ]
  },
  {
   "cell_type": "code",
   "execution_count": 180,
   "metadata": {},
   "outputs": [],
   "source": [
    "def process_group(group: str):\n",
    "    # mask = re.search(r\"mask\\s=\\s([X|1|0]{36})\", group)\n",
    "    mask = re.search(r\"\\s=\\s([X|1|0]{36})\", group)\n",
    "    \n",
    "    mask = mask.groups()[0]\n",
    "    \n",
    "    instructions = re.findall(r\"mem\\[(?P<position>\\d+)\\]\\s=\\s(?P<value>\\d+\\b)\", group)\n",
    "    \n",
    "    for loc, value in instructions:\n",
    "        \n",
    "        for new_loc in generate_memory_addresses(loc, mask):\n",
    "        \n",
    "            memory[new_loc] = int(value)"
   ]
  },
  {
   "cell_type": "code",
   "execution_count": 183,
   "metadata": {},
   "outputs": [],
   "source": [
    "for g in groups:\n",
    "    process_group(g)"
   ]
  },
  {
   "cell_type": "code",
   "execution_count": 184,
   "metadata": {},
   "outputs": [
    {
     "data": {
      "text/plain": [
       "4173715962894"
      ]
     },
     "execution_count": 184,
     "metadata": {},
     "output_type": "execute_result"
    }
   ],
   "source": [
    "sum(memory.values())"
   ]
  },
  {
   "cell_type": "code",
   "execution_count": null,
   "metadata": {},
   "outputs": [],
   "source": []
  }
 ],
 "metadata": {
  "kernelspec": {
   "display_name": "testing",
   "language": "python",
   "name": "testing"
  },
  "language_info": {
   "codemirror_mode": {
    "name": "ipython",
    "version": 3
   },
   "file_extension": ".py",
   "mimetype": "text/x-python",
   "name": "python",
   "nbconvert_exporter": "python",
   "pygments_lexer": "ipython3",
   "version": "3.8.3"
  }
 },
 "nbformat": 4,
 "nbformat_minor": 4
}
