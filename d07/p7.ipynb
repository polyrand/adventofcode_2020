{
 "cells": [
  {
   "cell_type": "code",
   "execution_count": 1,
   "metadata": {},
   "outputs": [],
   "source": [
    "with open(\"input.txt\") as f:\n",
    "    data = f.read().split(\"\\n\")"
   ]
  },
  {
   "cell_type": "markdown",
   "metadata": {},
   "source": [
    "No hay ningún color repetido"
   ]
  },
  {
   "cell_type": "code",
   "execution_count": 2,
   "metadata": {},
   "outputs": [],
   "source": [
    "assert len([e.split(\" bags \")[0] for e in data]) == len(set([e.split(\" bags \")[0] for e in data]))"
   ]
  },
  {
   "cell_type": "markdown",
   "metadata": {},
   "source": [
    "Todas las normas empiezan por \"contain\""
   ]
  },
  {
   "cell_type": "code",
   "execution_count": 3,
   "metadata": {},
   "outputs": [],
   "source": [
    "assert all([e.split(\" bags \")[1].startswith(\"contain\") for e in data])"
   ]
  },
  {
   "cell_type": "code",
   "execution_count": 4,
   "metadata": {},
   "outputs": [],
   "source": [
    "rules = dict([(e.split(\" bags contain \")[0], e.split(\" bags contain \")[1]) for e in data])"
   ]
  },
  {
   "cell_type": "code",
   "execution_count": 5,
   "metadata": {},
   "outputs": [],
   "source": [
    "# rules"
   ]
  },
  {
   "cell_type": "code",
   "execution_count": 6,
   "metadata": {},
   "outputs": [],
   "source": [
    "e = \"2 light lime bags, 1 faded green bag,\""
   ]
  },
  {
   "cell_type": "code",
   "execution_count": 7,
   "metadata": {},
   "outputs": [],
   "source": [
    "import re"
   ]
  },
  {
   "cell_type": "code",
   "execution_count": 8,
   "metadata": {},
   "outputs": [],
   "source": [
    "pat = r\"(?P<num>\\d)\\s(?P<color>\\w+\\s\\w+)\\sbag(s)?\"\n",
    "pat_no = \"no other\"\n",
    "\n",
    "match = re.finditer(pat, e)"
   ]
  },
  {
   "cell_type": "code",
   "execution_count": 9,
   "metadata": {},
   "outputs": [],
   "source": [
    "d = {}"
   ]
  },
  {
   "cell_type": "code",
   "execution_count": 10,
   "metadata": {},
   "outputs": [
    {
     "name": "stdout",
     "output_type": "stream",
     "text": [
      "{'num': 2, 'color': 'light lime'}\n",
      "{'num': 1, 'color': 'faded green'}\n"
     ]
    }
   ],
   "source": [
    "for i in match:\n",
    "    dd = i.groupdict()\n",
    "    dd[\"num\"] = int(dd[\"num\"])\n",
    "    \n",
    "    d[dd[\"color\"]] = int(dd[\"num\"])\n",
    "    print(dd)"
   ]
  },
  {
   "cell_type": "code",
   "execution_count": 11,
   "metadata": {},
   "outputs": [
    {
     "data": {
      "text/plain": [
       "{'light lime': 2, 'faded green': 1}"
      ]
     },
     "execution_count": 11,
     "metadata": {},
     "output_type": "execute_result"
    }
   ],
   "source": [
    "d"
   ]
  },
  {
   "cell_type": "code",
   "execution_count": 13,
   "metadata": {},
   "outputs": [],
   "source": [
    "assert pat_no in \"no other bags,\""
   ]
  },
  {
   "cell_type": "code",
   "execution_count": 18,
   "metadata": {},
   "outputs": [],
   "source": [
    "def process_rule(rule: str):\n",
    "    \n",
    "    if pat_no in rule:\n",
    "        return None\n",
    "    \n",
    "    matches = re.finditer(pat, rule)\n",
    "    \n",
    "    d = {}\n",
    "    \n",
    "    for match in matches:\n",
    "        dd = match.groupdict()\n",
    "\n",
    "        d[dd[\"color\"]] = int(dd[\"num\"])\n",
    "        \n",
    "    return d"
   ]
  },
  {
   "cell_type": "code",
   "execution_count": 19,
   "metadata": {},
   "outputs": [],
   "source": [
    "def process_rule_2(rule: str):\n",
    "    \n",
    "    if pat_no in rule:\n",
    "        return []\n",
    "    \n",
    "    matches = re.finditer(pat, rule)\n",
    "    \n",
    "    d = []\n",
    "    \n",
    "    for match in matches:\n",
    "        dd = match.groupdict()\n",
    "\n",
    "        d.append(dd[\"color\"])\n",
    "        \n",
    "    return d"
   ]
  },
  {
   "cell_type": "code",
   "execution_count": 20,
   "metadata": {},
   "outputs": [
    {
     "data": {
      "text/plain": [
       "{'light lime': 2, 'faded green': 1}"
      ]
     },
     "execution_count": 20,
     "metadata": {},
     "output_type": "execute_result"
    }
   ],
   "source": [
    "process_rule(\"2 light lime bags, 1 faded green bag,\")"
   ]
  },
  {
   "cell_type": "code",
   "execution_count": 21,
   "metadata": {},
   "outputs": [
    {
     "data": {
      "text/plain": [
       "['light lime', 'faded green']"
      ]
     },
     "execution_count": 21,
     "metadata": {},
     "output_type": "execute_result"
    }
   ],
   "source": [
    "process_rule_2(\"2 light lime bags, 1 faded green bag,\")"
   ]
  },
  {
   "cell_type": "code",
   "execution_count": 25,
   "metadata": {},
   "outputs": [],
   "source": [
    "rules_2 = {k: process_rule(v) for k, v in rules.items()}"
   ]
  },
  {
   "cell_type": "code",
   "execution_count": 26,
   "metadata": {},
   "outputs": [],
   "source": [
    "rules_3 = {k: process_rule_2(v) for k, v in rules.items()}"
   ]
  },
  {
   "cell_type": "code",
   "execution_count": 27,
   "metadata": {},
   "outputs": [],
   "source": [
    "# with_shiny_dict = {k:v for k, v in rules_2.items() if \"shiny gold\" in v.keys()}\n",
    "\n",
    "# with_shiny_list = list(with_shiny_dict.keys())\n",
    "\n",
    "# with_shiny_list"
   ]
  },
  {
   "cell_type": "code",
   "execution_count": 76,
   "metadata": {},
   "outputs": [],
   "source": [
    "def color_has_shiny(color: str):\n",
    "    \n",
    "    if not rules_3[color]:\n",
    "        return False\n",
    "    \n",
    "    if \"shiny gold\" in rules_3[color]:\n",
    "        return True\n",
    "    \n",
    "    for c in rules_3[color]:\n",
    "        if color_has_shiny(c):\n",
    "            return True"
   ]
  },
  {
   "cell_type": "code",
   "execution_count": 77,
   "metadata": {},
   "outputs": [],
   "source": [
    "cs = [color_has_shiny(k) for k,v in rules_3.items() if color_has_shiny(k)]"
   ]
  },
  {
   "cell_type": "code",
   "execution_count": 78,
   "metadata": {},
   "outputs": [
    {
     "data": {
      "text/plain": [
       "121"
      ]
     },
     "execution_count": 78,
     "metadata": {},
     "output_type": "execute_result"
    }
   ],
   "source": [
    "sum(cs)"
   ]
  },
  {
   "cell_type": "markdown",
   "metadata": {},
   "source": [
    "def color_has_shiny(color: str):\n",
    "    \n",
    "    if (rules_2[color] is None) or (None in rules_2[color].values()):\n",
    "        return\n",
    "    \n",
    "    if \"shiny gold\" in rules_2[color]:\n",
    "        return color\n",
    "    \n",
    "    for color in rules_2[color].keys():\n",
    "        # print(f\"recursive color: {color}, {rules_2[color]}\")\n",
    "        return color_has_shiny(color)"
   ]
  },
  {
   "cell_type": "markdown",
   "metadata": {},
   "source": [
    "shiny gold bags contain 2 dark red bags.\n",
    "dark red bags contain 2 dark orange bags.\n",
    "dark orange bags contain 2 dark yellow bags.\n",
    "dark yellow bags contain 2 dark green bags.\n",
    "dark green bags contain 2 dark blue bags.\n",
    "dark blue bags contain 2 dark violet bags.\n",
    "dark violet bags contain no other bags."
   ]
  },
  {
   "cell_type": "code",
   "execution_count": 79,
   "metadata": {},
   "outputs": [
    {
     "data": {
      "text/plain": [
       "126"
      ]
     },
     "execution_count": 79,
     "metadata": {},
     "output_type": "execute_result"
    }
   ],
   "source": [
    "2 + (2*2) + (2*2*2) + (2*2*2*2) + (2*2*2*2*2) + (2*2*2*2*2*2)"
   ]
  },
  {
   "cell_type": "code",
   "execution_count": 118,
   "metadata": {},
   "outputs": [],
   "source": [
    "rules_2[\"clear brown\"]"
   ]
  },
  {
   "cell_type": "code",
   "execution_count": 86,
   "metadata": {},
   "outputs": [
    {
     "data": {
      "text/plain": [
       "{'wavy coral': 1, 'faded gray': 1, 'vibrant lime': 3, 'mirrored fuchsia': 2}"
      ]
     },
     "execution_count": 86,
     "metadata": {},
     "output_type": "execute_result"
    }
   ],
   "source": [
    "rules_2['striped white']"
   ]
  },
  {
   "cell_type": "code",
   "execution_count": 195,
   "metadata": {},
   "outputs": [
    {
     "data": {
      "text/plain": [
       "{'clear brown': 5, 'plaid fuchsia': 5, 'bright teal': 4, 'striped white': 1}"
      ]
     },
     "execution_count": 195,
     "metadata": {},
     "output_type": "execute_result"
    }
   ],
   "source": [
    "rules_2[\"shiny gold\"]"
   ]
  },
  {
   "cell_type": "code",
   "execution_count": 204,
   "metadata": {},
   "outputs": [
    {
     "data": {
      "text/plain": [
       "{'dim olive': 4, 'plaid bronze': 3, 'clear brown': 3, 'vibrant lime': 5}"
      ]
     },
     "execution_count": 204,
     "metadata": {},
     "output_type": "execute_result"
    }
   ],
   "source": [
    "rules_2[\"clear beige\"]"
   ]
  },
  {
   "cell_type": "code",
   "execution_count": 208,
   "metadata": {},
   "outputs": [],
   "source": [
    "total = 0\n",
    "\n",
    "def compute(color: str, mult: int = 1):\n",
    "    \n",
    "    global total\n",
    "    \n",
    "    if not rules_2[color]:        \n",
    "        pass\n",
    "\n",
    "    else:\n",
    "        for col, count in rules_2[color].items():\n",
    "            total += count * mult\n",
    "\n",
    "            compute(col, count * mult)"
   ]
  },
  {
   "cell_type": "code",
   "execution_count": 206,
   "metadata": {},
   "outputs": [],
   "source": [
    "compute(\"shiny gold\")"
   ]
  },
  {
   "cell_type": "code",
   "execution_count": 207,
   "metadata": {},
   "outputs": [
    {
     "data": {
      "text/plain": [
       "3805"
      ]
     },
     "execution_count": 207,
     "metadata": {},
     "output_type": "execute_result"
    }
   ],
   "source": [
    "total"
   ]
  },
  {
   "cell_type": "code",
   "execution_count": 209,
   "metadata": {},
   "outputs": [],
   "source": [
    "compute(\"light cyan\")"
   ]
  },
  {
   "cell_type": "code",
   "execution_count": 210,
   "metadata": {},
   "outputs": [
    {
     "data": {
      "text/plain": [
       "138"
      ]
     },
     "execution_count": 210,
     "metadata": {},
     "output_type": "execute_result"
    }
   ],
   "source": [
    "total"
   ]
  },
  {
   "cell_type": "code",
   "execution_count": null,
   "metadata": {},
   "outputs": [],
   "source": []
  }
 ],
 "metadata": {
  "kernelspec": {
   "display_name": "testing",
   "language": "python",
   "name": "testing"
  },
  "language_info": {
   "codemirror_mode": {
    "name": "ipython",
    "version": 3
   },
   "file_extension": ".py",
   "mimetype": "text/x-python",
   "name": "python",
   "nbconvert_exporter": "python",
   "pygments_lexer": "ipython3",
   "version": "3.8.3"
  }
 },
 "nbformat": 4,
 "nbformat_minor": 4
}
