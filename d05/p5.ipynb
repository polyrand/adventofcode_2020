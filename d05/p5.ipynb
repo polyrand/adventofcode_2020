{
 "cells": [
  {
   "cell_type": "code",
   "execution_count": 77,
   "metadata": {},
   "outputs": [],
   "source": [
    "# BFFFBBFRRR: row 70, column 7, seat ID 567.\n",
    "# FFFBBBFRRR: row 14, column 7, seat ID 119.\n",
    "# BBFFBBFRLL: row 102, column 4, seat ID 820."
   ]
  },
  {
   "cell_type": "code",
   "execution_count": 6,
   "metadata": {},
   "outputs": [],
   "source": [
    "n_rows = list(range(128))\n",
    "n_seats = list(range(8))"
   ]
  },
  {
   "cell_type": "code",
   "execution_count": 8,
   "metadata": {},
   "outputs": [],
   "source": [
    "assert n_rows[-1] == 127\n",
    "assert n_seats[-1] == 7"
   ]
  },
  {
   "cell_type": "code",
   "execution_count": 9,
   "metadata": {},
   "outputs": [],
   "source": [
    "e1 = \"BFFFBBFRRR\""
   ]
  },
  {
   "cell_type": "code",
   "execution_count": 12,
   "metadata": {},
   "outputs": [
    {
     "data": {
      "text/plain": [
       "'BFFFBBF'"
      ]
     },
     "execution_count": 12,
     "metadata": {},
     "output_type": "execute_result"
    }
   ],
   "source": [
    "\"\".join(list(e1[:-3]))"
   ]
  },
  {
   "cell_type": "code",
   "execution_count": 25,
   "metadata": {},
   "outputs": [
    {
     "data": {
      "text/plain": [
       "'FFFBBF'"
      ]
     },
     "execution_count": 25,
     "metadata": {},
     "output_type": "execute_result"
    }
   ],
   "source": [
    "\"BFFFBBF\"[1:]"
   ]
  },
  {
   "cell_type": "code",
   "execution_count": 18,
   "metadata": {},
   "outputs": [],
   "source": [
    "assert n_rows[:int(len(n_rows)/2)] + n_rows[int(len(n_rows)/2):] == n_rows"
   ]
  },
  {
   "cell_type": "code",
   "execution_count": 57,
   "metadata": {},
   "outputs": [],
   "source": [
    "def get_row(code: str, curr_list=None):\n",
    "\n",
    "    if not curr_list:\n",
    "        curr_list = n_rows\n",
    "\n",
    "    # for letter in code:\n",
    "    if code[0] == \"F\":\n",
    "        # lower\n",
    "        new_list = curr_list[: int(len(curr_list) / 2)].copy()\n",
    "\n",
    "    elif code[0] == \"B\":\n",
    "        # upper\n",
    "        new_list = curr_list[int(len(curr_list) / 2) :].copy()\n",
    "\n",
    "    if len(new_list) == 1:\n",
    "        return new_list[0]\n",
    "\n",
    "    new_code = code[1:]\n",
    "    return get_row(code=new_code, curr_list=new_list)"
   ]
  },
  {
   "cell_type": "code",
   "execution_count": 58,
   "metadata": {},
   "outputs": [
    {
     "data": {
      "text/plain": [
       "70"
      ]
     },
     "execution_count": 58,
     "metadata": {},
     "output_type": "execute_result"
    }
   ],
   "source": [
    "get_row(\"BFFFBBF\")"
   ]
  },
  {
   "cell_type": "code",
   "execution_count": 72,
   "metadata": {},
   "outputs": [],
   "source": [
    "def get_seat(code: str, curr_list=None):\n",
    "\n",
    "    if not curr_list:\n",
    "        curr_list = n_seats\n",
    "\n",
    "    # for letter in code:\n",
    "    if code[0] == \"L\":\n",
    "        # lower\n",
    "        new_list = curr_list[: int(len(curr_list) / 2)].copy()\n",
    "\n",
    "    elif code[0] == \"R\":\n",
    "        # upper\n",
    "        new_list = curr_list[int(len(curr_list) / 2) :].copy()\n",
    "\n",
    "    if len(new_list) == 1:\n",
    "        return new_list[0]\n",
    "\n",
    "    new_code = code[1:]\n",
    "    return get_seat(code=new_code, curr_list=new_list)"
   ]
  },
  {
   "cell_type": "code",
   "execution_count": 73,
   "metadata": {},
   "outputs": [
    {
     "data": {
      "text/plain": [
       "7"
      ]
     },
     "execution_count": 73,
     "metadata": {},
     "output_type": "execute_result"
    }
   ],
   "source": [
    "get_seat(\"RRR\")"
   ]
  },
  {
   "cell_type": "code",
   "execution_count": 74,
   "metadata": {},
   "outputs": [],
   "source": [
    "def get_id(code: str):\n",
    "    \n",
    "    code_row = code[:-3]\n",
    "    \n",
    "    code_seat = code[-3:]\n",
    "    \n",
    "    row = get_row(code_row)\n",
    "    \n",
    "    seat = get_seat(code_seat)\n",
    "    \n",
    "    id_num = row * 8 + seat\n",
    "    \n",
    "    return id_num"
   ]
  },
  {
   "cell_type": "code",
   "execution_count": 76,
   "metadata": {},
   "outputs": [],
   "source": [
    "assert get_id(\"BFFFBBFRRR\") == 567\n",
    "assert get_id(\"FFFBBBFRRR\") == 119\n",
    "assert get_id(\"BBFFBBFRLL\") == 820"
   ]
  },
  {
   "cell_type": "code",
   "execution_count": 78,
   "metadata": {},
   "outputs": [],
   "source": [
    "with open(\"input.txt\") as f:\n",
    "    data = f.read().split(\"\\n\")"
   ]
  },
  {
   "cell_type": "code",
   "execution_count": 80,
   "metadata": {},
   "outputs": [
    {
     "data": {
      "text/plain": [
       "'BBBFFBBLRL'"
      ]
     },
     "execution_count": 80,
     "metadata": {},
     "output_type": "execute_result"
    }
   ],
   "source": [
    "max(data, key=get_id)"
   ]
  },
  {
   "cell_type": "code",
   "execution_count": 81,
   "metadata": {},
   "outputs": [
    {
     "data": {
      "text/plain": [
       "922"
      ]
     },
     "execution_count": 81,
     "metadata": {},
     "output_type": "execute_result"
    }
   ],
   "source": [
    "max([get_id(c) for c in data])"
   ]
  },
  {
   "cell_type": "code",
   "execution_count": 89,
   "metadata": {},
   "outputs": [],
   "source": [
    "ids_original = [get_id(c) for c in data]"
   ]
  },
  {
   "cell_type": "code",
   "execution_count": 90,
   "metadata": {},
   "outputs": [],
   "source": [
    "ids_sorted = sorted(ids_original)"
   ]
  },
  {
   "cell_type": "code",
   "execution_count": 94,
   "metadata": {},
   "outputs": [
    {
     "name": "stdout",
     "output_type": "stream",
     "text": [
      "699 748\n",
      "Solution: 747\n"
     ]
    }
   ],
   "source": [
    "for idx, num in enumerate(ids_sorted):\n",
    "    \n",
    "    if (idx == 0):\n",
    "        continue\n",
    "        \n",
    "    if ids_sorted[idx] - ids_sorted[idx-1] == 2:\n",
    "        print(idx, num)\n",
    "        \n",
    "        print(f\"Solution: {num-1}\")\n",
    "    \n",
    "    \n",
    "    "
   ]
  },
  {
   "cell_type": "code",
   "execution_count": 93,
   "metadata": {},
   "outputs": [
    {
     "data": {
      "text/plain": [
       "[745, 746, 748, 749]"
      ]
     },
     "execution_count": 93,
     "metadata": {},
     "output_type": "execute_result"
    }
   ],
   "source": [
    "ids_sorted[697:701]"
   ]
  },
  {
   "cell_type": "code",
   "execution_count": null,
   "metadata": {},
   "outputs": [],
   "source": []
  }
 ],
 "metadata": {
  "kernelspec": {
   "display_name": "testing",
   "language": "python",
   "name": "testing"
  },
  "language_info": {
   "codemirror_mode": {
    "name": "ipython",
    "version": 3
   },
   "file_extension": ".py",
   "mimetype": "text/x-python",
   "name": "python",
   "nbconvert_exporter": "python",
   "pygments_lexer": "ipython3",
   "version": "3.8.3"
  }
 },
 "nbformat": 4,
 "nbformat_minor": 4
}
