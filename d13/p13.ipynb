{
 "cells": [
  {
   "cell_type": "code",
   "execution_count": 5,
   "metadata": {},
   "outputs": [],
   "source": [
    "with open(\"input.txt\") as f:\n",
    "    data = f.read().split(\"\\n\")"
   ]
  },
  {
   "cell_type": "code",
   "execution_count": 6,
   "metadata": {},
   "outputs": [],
   "source": [
    "epoch = int(data[0])"
   ]
  },
  {
   "cell_type": "code",
   "execution_count": 7,
   "metadata": {},
   "outputs": [
    {
     "data": {
      "text/plain": [
       "1000001"
      ]
     },
     "execution_count": 7,
     "metadata": {},
     "output_type": "execute_result"
    }
   ],
   "source": [
    "epoch"
   ]
  },
  {
   "cell_type": "code",
   "execution_count": 8,
   "metadata": {},
   "outputs": [
    {
     "data": {
      "text/plain": [
       "'29,x,x,x,x,x,x,x,x,x,x,x,x,x,x,x,x,x,x,41,x,x,x,x,x,x,x,x,x,577,x,x,x,x,x,x,x,x,x,x,x,x,13,17,x,x,x,x,19,x,x,x,23,x,x,x,x,x,x,x,601,x,x,x,x,x,x,x,x,x,x,x,x,x,x,x,x,x,x,x,x,x,x,x,x,x,x,x,x,x,x,x,x,x,x,x,x,37'"
      ]
     },
     "execution_count": 8,
     "metadata": {},
     "output_type": "execute_result"
    }
   ],
   "source": [
    "data[1]"
   ]
  },
  {
   "cell_type": "code",
   "execution_count": 9,
   "metadata": {},
   "outputs": [],
   "source": [
    "buses = [int(e) for e in data[1].split(\",\") if e != \"x\"]"
   ]
  },
  {
   "cell_type": "code",
   "execution_count": 10,
   "metadata": {},
   "outputs": [
    {
     "data": {
      "text/plain": [
       "[29, 41, 577, 13, 17, 19, 23, 601, 37]"
      ]
     },
     "execution_count": 10,
     "metadata": {},
     "output_type": "execute_result"
    }
   ],
   "source": [
    "buses"
   ]
  },
  {
   "cell_type": "code",
   "execution_count": 11,
   "metadata": {},
   "outputs": [
    {
     "name": "stdout",
     "output_type": "stream",
     "text": [
      "23\n",
      "11\n",
      "60\n",
      "2\n",
      "10\n",
      "12\n",
      "7\n",
      "538\n",
      "2\n"
     ]
    }
   ],
   "source": [
    "for b in buses:\n",
    "    print(epoch%b)"
   ]
  },
  {
   "cell_type": "code",
   "execution_count": 12,
   "metadata": {},
   "outputs": [],
   "source": [
    "def find_max_mult(num, to):\n",
    "\n",
    "    current = 0\n",
    "    i = 1\n",
    "\n",
    "    while current <= to:\n",
    "\n",
    "        current = num * i\n",
    "\n",
    "        i += 1\n",
    "\n",
    "    return current"
   ]
  },
  {
   "cell_type": "code",
   "execution_count": 13,
   "metadata": {},
   "outputs": [],
   "source": [
    "mults = [(b, find_max_mult(b, epoch)) for b in buses]"
   ]
  },
  {
   "cell_type": "code",
   "execution_count": 14,
   "metadata": {},
   "outputs": [
    {
     "data": {
      "text/plain": [
       "(29, 1000007)"
      ]
     },
     "execution_count": 14,
     "metadata": {},
     "output_type": "execute_result"
    }
   ],
   "source": [
    "min(mults, key=lambda x: x[1])"
   ]
  },
  {
   "cell_type": "code",
   "execution_count": 15,
   "metadata": {},
   "outputs": [
    {
     "data": {
      "text/plain": [
       "[(29, 1000007),\n",
       " (41, 1000031),\n",
       " (577, 1000518),\n",
       " (13, 1000012),\n",
       " (17, 1000008),\n",
       " (19, 1000008),\n",
       " (23, 1000017),\n",
       " (601, 1000064),\n",
       " (37, 1000036)]"
      ]
     },
     "execution_count": 15,
     "metadata": {},
     "output_type": "execute_result"
    }
   ],
   "source": [
    "mults"
   ]
  },
  {
   "cell_type": "code",
   "execution_count": 16,
   "metadata": {},
   "outputs": [
    {
     "data": {
      "text/plain": [
       "174"
      ]
     },
     "execution_count": 16,
     "metadata": {},
     "output_type": "execute_result"
    }
   ],
   "source": [
    "29 * (1000007 - epoch)"
   ]
  },
  {
   "cell_type": "code",
   "execution_count": 17,
   "metadata": {},
   "outputs": [],
   "source": [
    "times = dict(enumerate(data[1].split(\",\")))"
   ]
  },
  {
   "cell_type": "code",
   "execution_count": 18,
   "metadata": {},
   "outputs": [],
   "source": [
    "tt = {int(v): k for k, v in times.items() if v != \"x\"}"
   ]
  },
  {
   "cell_type": "code",
   "execution_count": 19,
   "metadata": {},
   "outputs": [],
   "source": [
    "ttt = list(tt.items())"
   ]
  },
  {
   "cell_type": "code",
   "execution_count": 20,
   "metadata": {},
   "outputs": [
    {
     "data": {
      "text/plain": [
       "{29: 0, 41: 19, 577: 29, 13: 42, 17: 43, 19: 48, 23: 52, 601: 60, 37: 97}"
      ]
     },
     "execution_count": 20,
     "metadata": {},
     "output_type": "execute_result"
    }
   ],
   "source": [
    "tt"
   ]
  },
  {
   "cell_type": "code",
   "execution_count": 21,
   "metadata": {},
   "outputs": [
    {
     "data": {
      "text/plain": [
       "[(29, 0),\n",
       " (41, 19),\n",
       " (577, 29),\n",
       " (13, 42),\n",
       " (17, 43),\n",
       " (19, 48),\n",
       " (23, 52),\n",
       " (601, 60),\n",
       " (37, 97)]"
      ]
     },
     "execution_count": 21,
     "metadata": {},
     "output_type": "execute_result"
    }
   ],
   "source": [
    "ttt"
   ]
  },
  {
   "cell_type": "code",
   "execution_count": 22,
   "metadata": {},
   "outputs": [
    {
     "data": {
      "text/plain": [
       "9"
      ]
     },
     "execution_count": 22,
     "metadata": {},
     "output_type": "execute_result"
    }
   ],
   "source": [
    "len(ttt)"
   ]
  },
  {
   "cell_type": "code",
   "execution_count": 23,
   "metadata": {},
   "outputs": [],
   "source": [
    "def find_mults_of(num):\n",
    "\n",
    "    i = 1\n",
    "\n",
    "    while True:\n",
    "\n",
    "        yield num * i\n",
    "        i += 1"
   ]
  },
  {
   "cell_type": "code",
   "execution_count": 24,
   "metadata": {},
   "outputs": [],
   "source": [
    "def check_mult_exists(num, epoch, diff, diff_to):\n",
    "\n",
    "    for mult in find_mults_of(num):\n",
    "\n",
    "        if mult - diff == diff_to:\n",
    "            \n",
    "            return True\n",
    "\n",
    "        elif mult - diff > diff_to:\n",
    "\n",
    "            return False\n",
    "        \n",
    "        else:\n",
    "            continue"
   ]
  },
  {
   "cell_type": "code",
   "execution_count": 61,
   "metadata": {},
   "outputs": [
    {
     "data": {
      "text/plain": [
       "{29: 0, 41: 19, 577: 29, 13: 42, 17: 43, 19: 48, 23: 52, 601: 60, 37: 97}"
      ]
     },
     "execution_count": 61,
     "metadata": {},
     "output_type": "execute_result"
    }
   ],
   "source": [
    "tt"
   ]
  },
  {
   "cell_type": "code",
   "execution_count": 67,
   "metadata": {},
   "outputs": [
    {
     "ename": "KeyboardInterrupt",
     "evalue": "",
     "output_type": "error",
     "traceback": [
      "\u001b[0;31m---------------------------------------------------------------------------\u001b[0m",
      "\u001b[0;31mKeyboardInterrupt\u001b[0m                         Traceback (most recent call last)",
      "\u001b[0;32m<ipython-input-67-49716087d34a>\u001b[0m in \u001b[0;36m<module>\u001b[0;34m\u001b[0m\n\u001b[1;32m      2\u001b[0m     if (\n\u001b[1;32m      3\u001b[0m         \u001b[0;31m# (num - tt[29] % 29 == 0)\u001b[0m\u001b[0;34m\u001b[0m\u001b[0;34m\u001b[0m\u001b[0;34m\u001b[0m\u001b[0m\n\u001b[0;32m----> 4\u001b[0;31m         \u001b[0;34m(\u001b[0m\u001b[0mnum\u001b[0m \u001b[0;34m+\u001b[0m \u001b[0mtt\u001b[0m\u001b[0;34m[\u001b[0m\u001b[0;36m41\u001b[0m\u001b[0;34m]\u001b[0m \u001b[0;34m%\u001b[0m \u001b[0;36m41\u001b[0m \u001b[0;34m==\u001b[0m \u001b[0;36m0\u001b[0m\u001b[0;34m)\u001b[0m\u001b[0;34m\u001b[0m\u001b[0;34m\u001b[0m\u001b[0m\n\u001b[0m\u001b[1;32m      5\u001b[0m         \u001b[0;32mand\u001b[0m \u001b[0;34m(\u001b[0m\u001b[0mnum\u001b[0m \u001b[0;34m+\u001b[0m \u001b[0mtt\u001b[0m\u001b[0;34m[\u001b[0m\u001b[0;36m577\u001b[0m\u001b[0;34m]\u001b[0m \u001b[0;34m%\u001b[0m \u001b[0;36m577\u001b[0m \u001b[0;34m==\u001b[0m \u001b[0;36m0\u001b[0m\u001b[0;34m)\u001b[0m\u001b[0;34m\u001b[0m\u001b[0;34m\u001b[0m\u001b[0m\n\u001b[1;32m      6\u001b[0m         \u001b[0;32mand\u001b[0m \u001b[0;34m(\u001b[0m\u001b[0mnum\u001b[0m \u001b[0;34m+\u001b[0m \u001b[0mtt\u001b[0m\u001b[0;34m[\u001b[0m\u001b[0;36m13\u001b[0m\u001b[0;34m]\u001b[0m \u001b[0;34m%\u001b[0m \u001b[0;36m13\u001b[0m \u001b[0;34m==\u001b[0m \u001b[0;36m0\u001b[0m\u001b[0;34m)\u001b[0m\u001b[0;34m\u001b[0m\u001b[0;34m\u001b[0m\u001b[0m\n",
      "\u001b[0;31mKeyboardInterrupt\u001b[0m: "
     ]
    }
   ],
   "source": [
    "for num in find_mults_of(29):\n",
    "    if (\n",
    "        # (num - tt[29] % 29 == 0)\n",
    "        (num + tt[41] % 41 == 0)\n",
    "        and (num + tt[577] % 577 == 0)\n",
    "        and (num + tt[13] % 13 == 0)\n",
    "        and (num + tt[17] % 17 == 0)\n",
    "        and (num + tt[19] % 19 == 0)\n",
    "        and (num + tt[23] % 23 == 0)\n",
    "        and (num + tt[601] % 601 == 0)\n",
    "        and (num + tt[37] % 37 == 0)\n",
    "    ):\n",
    "        print(f\"epoch: {num}\")"
   ]
  },
  {
   "cell_type": "markdown",
   "metadata": {},
   "source": [
    "https://topaz.github.io/paste/#XQAAAQDrAQAAAAAAAAARiAinOloyihUu1b5x+73YwmpOl2G0L3PuEQPXiO3gBNVXod4NnFOiocbPfqFlOUDj4C0xggeOKoR+Ro2i/QPgQ4oYPEYS8R3Gp6juP9HdOeGPbDvXpOZ1TWtDap9oMclY77nr4lwBeSphR9kI77Ct9tD1Jmy5lnQOFGrB6/Pw4naHHFnaZFFUi5/9kZXhHOjRsBdgQyyBQmyB0tKWMVyNWi6/eWGHM4uSa6aNkMawOhVndGwPO5xyellliw/Em+pGCbvxdrstXyVZWIsGKXfErUWMI/LsLQlreQSKpJLqlIzYfkeOJZyV0jwk5YKQlD3gTmZgF6KtywICGK+xRsoMnDncZlBRFssldPWS7kikdkQd1EbaOsBINL/950LX8LS70SUg9n4Y/UaVCq1eGMrdYNe+AoGSNZ3eZ31RkeyowsTw//DhjKA="
   ]
  },
  {
   "cell_type": "code",
   "execution_count": 63,
   "metadata": {},
   "outputs": [
    {
     "name": "stdout",
     "output_type": "stream",
     "text": [
      "780601154795940\n"
     ]
    }
   ],
   "source": [
    "with open(\"input.txt\") as f:\n",
    "    data = f.readlines()\n",
    "available = list(map(lambda x: x if x == \"x\" else int(x), data[1].strip().split(\",\")))\n",
    "idmap = {key: val for val, key in filter(lambda x: x[1] != \"x\", enumerate(available))}\n",
    "idlist = [id for id in idmap]\n",
    "\n",
    "step = idlist[0]\n",
    "start = 0\n",
    "for id in idlist[1:]:\n",
    "    delta = idmap[id]\n",
    "    for i in range(start, step * id, step):\n",
    "        if not (i + delta) % id:\n",
    "            print()\n",
    "            step = step * id\n",
    "            start = i\n",
    "print(start)"
   ]
  },
  {
   "cell_type": "code",
   "execution_count": 66,
   "metadata": {},
   "outputs": [
    {
     "data": {
      "text/plain": [
       "[29, 41, 577, 13, 17, 19, 23, 601, 37]"
      ]
     },
     "execution_count": 66,
     "metadata": {},
     "output_type": "execute_result"
    }
   ],
   "source": [
    "idlist"
   ]
  },
  {
   "cell_type": "code",
   "execution_count": null,
   "metadata": {},
   "outputs": [],
   "source": []
  }
 ],
 "metadata": {
  "kernelspec": {
   "display_name": "testing",
   "language": "python",
   "name": "testing"
  },
  "language_info": {
   "codemirror_mode": {
    "name": "ipython",
    "version": 3
   },
   "file_extension": ".py",
   "mimetype": "text/x-python",
   "name": "python",
   "nbconvert_exporter": "python",
   "pygments_lexer": "ipython3",
   "version": "3.8.3"
  }
 },
 "nbformat": 4,
 "nbformat_minor": 4
}
