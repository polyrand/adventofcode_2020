{
 "cells": [
  {
   "cell_type": "code",
   "execution_count": 85,
   "metadata": {},
   "outputs": [],
   "source": [
    "with open(\"input.txt\") as f:\n",
    "    data = f.read().split(\"\\n\")"
   ]
  },
  {
   "cell_type": "code",
   "execution_count": 86,
   "metadata": {},
   "outputs": [
    {
     "data": {
      "text/plain": [
       "91"
      ]
     },
     "execution_count": 86,
     "metadata": {},
     "output_type": "execute_result"
    }
   ],
   "source": [
    "len(data)"
   ]
  },
  {
   "cell_type": "code",
   "execution_count": 87,
   "metadata": {},
   "outputs": [],
   "source": [
    "import numpy as np"
   ]
  },
  {
   "cell_type": "code",
   "execution_count": 88,
   "metadata": {},
   "outputs": [],
   "source": [
    "seats = np.asarray([list(e) for e in data])"
   ]
  },
  {
   "cell_type": "code",
   "execution_count": 9,
   "metadata": {},
   "outputs": [
    {
     "data": {
      "text/plain": [
       "'LLLLLLLLLLL.LLLLLLLLLLLL.LLLLL.LLLLLLLLLLLLL.LLLLLLLLL.LLL.LLLLLLLLLL.LLLLLLL.LLLLLLLLLLLLLLLLLLL'"
      ]
     },
     "execution_count": 9,
     "metadata": {},
     "output_type": "execute_result"
    }
   ],
   "source": [
    "data[0]"
   ]
  },
  {
   "cell_type": "code",
   "execution_count": 17,
   "metadata": {},
   "outputs": [
    {
     "data": {
      "text/plain": [
       "array([['L', 'L', 'L', ..., 'L', 'L', 'L'],\n",
       "       ['L', 'L', 'L', ..., 'L', 'L', 'L'],\n",
       "       ['L', 'L', 'L', ..., 'L', 'L', 'L'],\n",
       "       ...,\n",
       "       ['L', 'L', 'L', ..., 'L', 'L', 'L'],\n",
       "       ['L', 'L', 'L', ..., 'L', 'L', 'L'],\n",
       "       ['L', 'L', 'L', ..., 'L', 'L', 'L']], dtype='<U1')"
      ]
     },
     "execution_count": 17,
     "metadata": {},
     "output_type": "execute_result"
    }
   ],
   "source": [
    "a"
   ]
  },
  {
   "cell_type": "code",
   "execution_count": 18,
   "metadata": {},
   "outputs": [
    {
     "data": {
      "text/plain": [
       "(91, 97)"
      ]
     },
     "execution_count": 18,
     "metadata": {},
     "output_type": "execute_result"
    }
   ],
   "source": [
    "a.shape"
   ]
  },
  {
   "cell_type": "code",
   "execution_count": 41,
   "metadata": {},
   "outputs": [],
   "source": [
    "a = np.random.randint(0, 10, (12, 12))"
   ]
  },
  {
   "cell_type": "code",
   "execution_count": 43,
   "metadata": {},
   "outputs": [
    {
     "data": {
      "text/plain": [
       "array([[8, 7, 0, 3, 9, 1, 8, 0, 0, 5, 7, 8],\n",
       "       [6, 6, 9, 4, 0, 8, 3, 6, 6, 3, 7, 0],\n",
       "       [3, 8, 9, 3, 0, 2, 2, 9, 0, 6, 8, 8],\n",
       "       [1, 4, 2, 3, 6, 1, 2, 8, 1, 3, 0, 5],\n",
       "       [0, 0, 2, 1, 2, 9, 8, 7, 8, 0, 2, 3],\n",
       "       [0, 1, 2, 1, 9, 4, 4, 9, 3, 5, 8, 6],\n",
       "       [6, 4, 4, 8, 3, 9, 5, 8, 2, 8, 7, 7],\n",
       "       [6, 0, 4, 6, 5, 8, 9, 7, 5, 8, 7, 8],\n",
       "       [6, 5, 1, 8, 9, 7, 2, 4, 2, 9, 0, 0],\n",
       "       [2, 8, 4, 9, 8, 7, 5, 7, 6, 4, 8, 5],\n",
       "       [4, 0, 8, 8, 9, 9, 6, 3, 9, 0, 1, 5],\n",
       "       [4, 1, 4, 8, 9, 7, 0, 4, 5, 5, 5, 4]])"
      ]
     },
     "execution_count": 43,
     "metadata": {},
     "output_type": "execute_result"
    }
   ],
   "source": [
    "a"
   ]
  },
  {
   "cell_type": "code",
   "execution_count": 70,
   "metadata": {},
   "outputs": [],
   "source": [
    "# list((a[0, 0], a[0, 1], a[0, 2], a[1, 0], a[1, 2], a[2, 0], a[2, 1], a[2, 2])) # a[1, 1], "
   ]
  },
  {
   "cell_type": "code",
   "execution_count": 57,
   "metadata": {},
   "outputs": [],
   "source": [
    "row = 1\n",
    "col = 1"
   ]
  },
  {
   "cell_type": "code",
   "execution_count": 59,
   "metadata": {},
   "outputs": [
    {
     "data": {
      "text/plain": [
       "[8, 7, 0, 6, 9, 3, 8, 9]"
      ]
     },
     "execution_count": 59,
     "metadata": {},
     "output_type": "execute_result"
    }
   ],
   "source": [
    "[\n",
    "    a[i, j]\n",
    "    for i in range(row - 1, row + 2)\n",
    "    for j in range(col - 1, col + 2)\n",
    "    if (i,j) != (row, col)\n",
    "]  # a[1, 1],"
   ]
  },
  {
   "cell_type": "code",
   "execution_count": 60,
   "metadata": {},
   "outputs": [],
   "source": [
    "row = 0\n",
    "col = 2"
   ]
  },
  {
   "cell_type": "code",
   "execution_count": 65,
   "metadata": {},
   "outputs": [],
   "source": [
    "row = 1\n",
    "col = 1"
   ]
  },
  {
   "cell_type": "code",
   "execution_count": 146,
   "metadata": {},
   "outputs": [],
   "source": [
    "def surround(row, col, seats):\n",
    "    return np.array(\n",
    "        [\n",
    "            seats[i, j]\n",
    "            for i in range(row - 1, row + 2)\n",
    "            if seats.shape[0] > i >= 0\n",
    "            for j in range(col - 1, col + 2)\n",
    "            if seats.shape[1] > j >= 0\n",
    "            if (i, j) != (row, col)\n",
    "        ]\n",
    "    )"
   ]
  },
  {
   "cell_type": "code",
   "execution_count": 148,
   "metadata": {},
   "outputs": [
    {
     "data": {
      "text/plain": [
       "array(['L', 'L', 'L', 'L', 'L'], dtype='<U1')"
      ]
     },
     "execution_count": 148,
     "metadata": {},
     "output_type": "execute_result"
    }
   ],
   "source": [
    "surround(0, 2, seats)"
   ]
  },
  {
   "cell_type": "code",
   "execution_count": 149,
   "metadata": {},
   "outputs": [],
   "source": [
    "def process_location(row, col, seats):\n",
    "    \n",
    "    seat = seats[row, col]\n",
    "    \n",
    "    if (seat == \"L\") and (\"#\" not in surround(row, col, seats)):\n",
    "        return \"#\"\n",
    "    \n",
    "    elif (seat == \"#\") and (np.count_nonzero(surround(row, col, seats) == \"#\") >= 4):\n",
    "        return \"L\"\n",
    "    \n",
    "    else:\n",
    "        return seat"
   ]
  },
  {
   "cell_type": "code",
   "execution_count": 150,
   "metadata": {},
   "outputs": [
    {
     "data": {
      "text/plain": [
       "'#'"
      ]
     },
     "execution_count": 150,
     "metadata": {},
     "output_type": "execute_result"
    }
   ],
   "source": [
    "process_location(1, 1, seats)"
   ]
  },
  {
   "cell_type": "code",
   "execution_count": 162,
   "metadata": {},
   "outputs": [],
   "source": [
    "result = seats.copy()\n",
    "result_new = np.empty((result.shape), dtype=\"<U1\")\n",
    "\n",
    "while True:\n",
    "\n",
    "    for i in range(result.shape[0]):\n",
    "        for j in range(result.shape[1]):\n",
    "            result_new[i, j] = process_location(i, j, result)\n",
    "\n",
    "    if np.array_equal(result, result_new):\n",
    "        break\n",
    "\n",
    "    result = result_new.copy()"
   ]
  },
  {
   "cell_type": "code",
   "execution_count": 164,
   "metadata": {},
   "outputs": [
    {
     "data": {
      "text/plain": [
       "array([['#', 'L', '#', ..., '#', 'L', '#'],\n",
       "       ['L', 'L', 'L', ..., 'L', 'L', 'L'],\n",
       "       ['#', 'L', '#', ..., '#', 'L', '#'],\n",
       "       ...,\n",
       "       ['#', 'L', '#', ..., '#', 'L', '#'],\n",
       "       ['L', 'L', 'L', ..., 'L', 'L', 'L'],\n",
       "       ['#', 'L', '#', ..., '#', 'L', '#']], dtype='<U1')"
      ]
     },
     "execution_count": 164,
     "metadata": {},
     "output_type": "execute_result"
    }
   ],
   "source": [
    "result_new"
   ]
  },
  {
   "cell_type": "code",
   "execution_count": 169,
   "metadata": {},
   "outputs": [
    {
     "data": {
      "text/plain": [
       "2296"
      ]
     },
     "execution_count": 169,
     "metadata": {},
     "output_type": "execute_result"
    }
   ],
   "source": [
    "np.count_nonzero(result == \"#\")"
   ]
  },
  {
   "cell_type": "markdown",
   "metadata": {},
   "source": [
    "## Part 2"
   ]
  },
  {
   "cell_type": "markdown",
   "metadata": {
    "jupyter": {
     "source_hidden": true
    }
   },
   "source": [
    "def walk_up(row, col, seats):\n",
    "    \n",
    "    try:\n",
    "\n",
    "        if seats[row - 1, col] == \".\":\n",
    "            return walk_up(row - 1, col, seats)\n",
    "\n",
    "        return seats[row - 1, col]\n",
    "    except:\n",
    "        return \".\"\n",
    "\n",
    "\n",
    "def walk_down(row, col, seats):\n",
    "    \n",
    "    try:\n",
    "\n",
    "        if seats[row + 1, col] == \".\":\n",
    "            return walk_down(row + 1, col, seats)\n",
    "\n",
    "        return seats[row + 1, col]\n",
    "    except:\n",
    "        return \".\"\n",
    "\n",
    "\n",
    "def walk_right(row, col, seats):\n",
    "    \n",
    "    try:\n",
    "\n",
    "        if seats[row, col + 1] == \".\":\n",
    "            return walk_right(row, col + 1, seats)\n",
    "\n",
    "        return seats[row, col + 1]\n",
    "    except:\n",
    "        return \".\"\n",
    "\n",
    "\n",
    "def walk_left(row, col, seats):\n",
    "    \n",
    "    try:\n",
    "\n",
    "        if seats[row, col - 1] == \".\":\n",
    "            return walk_left(row, col - 1, seats)\n",
    "\n",
    "        return seats[row, col - 1]\n",
    "    except:\n",
    "        return \".\"\n",
    "\n",
    "\n",
    "def walk_diag_upright(row, col, seats):\n",
    "    \n",
    "    try:\n",
    "\n",
    "        if seats[row - 1, col + 1] == \".\":\n",
    "            return walk_diag_upright(row - 1, col + 1, seats)\n",
    "\n",
    "        return seats[row, col - 1]\n",
    "    except:\n",
    "        return \".\"\n",
    "\n",
    "\n",
    "def walk_diag_upleft(row, col, seats):\n",
    "    \n",
    "    try:\n",
    "\n",
    "        if seats[row - 1, col - 1] == \".\":\n",
    "            return walk_diag_upleft(row + 1, col - 1, seats)\n",
    "\n",
    "        return seats[row, col - 1]\n",
    "    except:\n",
    "        return \".\"\n",
    "\n",
    "\n",
    "def walk_diag_downright(row, col, seats):\n",
    "    \n",
    "    try:\n",
    "\n",
    "        if seats[row + 1, col + 1] == \".\":\n",
    "            return walk_diag_downright(row + 1, col + 1, seats)\n",
    "\n",
    "        return seats[row, col - 1]\n",
    "    except:\n",
    "        return \".\"\n",
    "\n",
    "\n",
    "def walk_diag_downleft(row, col, seats):\n",
    "    \n",
    "    try:\n",
    "\n",
    "        if seats[row + 1, col - 1] == \".\":\n",
    "            return walk_diag_downleft(row + 1, col - 1, seats)\n",
    "\n",
    "        return seats[row, col - 1]\n",
    "    except:\n",
    "        return \".\""
   ]
  },
  {
   "cell_type": "code",
   "execution_count": 349,
   "metadata": {},
   "outputs": [],
   "source": [
    "def walk(row: int, col: int, seats, direction: str):\n",
    "\n",
    "    if direction == \"up\":\n",
    "        row -= 1\n",
    "        col = col\n",
    "\n",
    "    elif direction == \"down\":\n",
    "        row += 1\n",
    "        col = col\n",
    "\n",
    "    elif direction == \"right\":\n",
    "        row = row\n",
    "        col += 1\n",
    "\n",
    "    elif direction == \"left\":\n",
    "        row = row\n",
    "        col -= 1\n",
    "\n",
    "    elif direction == \"diag_upleft\":\n",
    "        row -= 1\n",
    "        col -= 1\n",
    "\n",
    "    elif direction == \"diag_upright\":\n",
    "        row -= 1\n",
    "        col += 1\n",
    "\n",
    "    elif direction == \"diag_downleft\":\n",
    "        row += 1\n",
    "        col -= 1\n",
    "\n",
    "    elif direction == \"diag_downright\":\n",
    "        row += 1\n",
    "        col += 1\n",
    "\n",
    "    if (row < 0) or (col < 0):\n",
    "        return\n",
    "\n",
    "    if (row >= seats.shape[0]) or (col >= seats.shape[1]):\n",
    "        return\n",
    "\n",
    "    if seats[row, col] == \".\":\n",
    "        return walk(row, col, seats, direction)\n",
    "\n",
    "    return seats[row, col]"
   ]
  },
  {
   "cell_type": "code",
   "execution_count": 350,
   "metadata": {},
   "outputs": [],
   "source": [
    "def surround(row, col, seats):\n",
    "    res = np.array(\n",
    "        [\n",
    "            walk(row, col, seats, direction=\"up\"),\n",
    "            walk(row, col, seats, direction=\"down\"),\n",
    "            walk(row, col, seats, direction=\"right\"),\n",
    "            walk(row, col, seats, direction=\"left\"),\n",
    "            walk(row, col, seats, direction=\"diag_upleft\"),\n",
    "            walk(row, col, seats, direction=\"diag_upright\"),\n",
    "            walk(row, col, seats, direction=\"diag_downleft\"),\n",
    "            walk(row, col, seats, direction=\"diag_downright\"),\n",
    "        ]\n",
    "    )\n",
    "\n",
    "    return res[res != None]"
   ]
  },
  {
   "cell_type": "markdown",
   "metadata": {},
   "source": [
    "def surround(row, col, seats):\n",
    "    return np.array(\n",
    "        [\n",
    "            walk_up(row, col, seats),\n",
    "            walk_down(row, col, seats),\n",
    "            walk_right(row, col, seats),\n",
    "            walk_left(row, col, seats),\n",
    "            walk_diag_upright(row, col, seats),\n",
    "            walk_diag_upleft(row, col, seats),\n",
    "            walk_diag_downright(row, col, seats),\n",
    "            walk_diag_downleft(row, col, seats),\n",
    "        ]\n",
    "    )"
   ]
  },
  {
   "cell_type": "code",
   "execution_count": 351,
   "metadata": {},
   "outputs": [
    {
     "data": {
      "text/plain": [
       "2"
      ]
     },
     "execution_count": 351,
     "metadata": {},
     "output_type": "execute_result"
    }
   ],
   "source": [
    "a[3,2]"
   ]
  },
  {
   "cell_type": "code",
   "execution_count": 352,
   "metadata": {},
   "outputs": [
    {
     "data": {
      "text/plain": [
       "array(['L', 'L', 'L'], dtype=object)"
      ]
     },
     "execution_count": 352,
     "metadata": {},
     "output_type": "execute_result"
    }
   ],
   "source": [
    "surround(0, 0, seats)"
   ]
  },
  {
   "cell_type": "code",
   "execution_count": 353,
   "metadata": {},
   "outputs": [],
   "source": [
    "def process_location(row, col, seats):\n",
    "    \n",
    "    seat = seats[row, col]\n",
    "    \n",
    "    if (seat == \"L\") and (\"#\" not in surround(row, col, seats)):\n",
    "        return \"#\"\n",
    "    \n",
    "    elif (seat == \"#\") and (np.count_nonzero(surround(row, col, seats) == \"#\") >= 5):\n",
    "        return \"L\"\n",
    "    \n",
    "    else:\n",
    "        return seat"
   ]
  },
  {
   "cell_type": "code",
   "execution_count": 354,
   "metadata": {},
   "outputs": [
    {
     "data": {
      "text/plain": [
       "'#'"
      ]
     },
     "execution_count": 354,
     "metadata": {},
     "output_type": "execute_result"
    }
   ],
   "source": [
    "process_location(1, 1, seats)"
   ]
  },
  {
   "cell_type": "code",
   "execution_count": 363,
   "metadata": {},
   "outputs": [],
   "source": [
    "result = seats.copy()\n",
    "result_new = np.empty((result.shape), dtype=\"<U1\")\n",
    "\n",
    "while True:\n",
    "\n",
    "    for i in range(result.shape[0]):\n",
    "        for j in range(result.shape[1]):\n",
    "            result_new[i, j] = process_location(i, j, result)\n",
    "\n",
    "    if np.array_equal(result, result_new):\n",
    "        break\n",
    "\n",
    "    result = result_new.copy()"
   ]
  },
  {
   "cell_type": "code",
   "execution_count": 364,
   "metadata": {},
   "outputs": [
    {
     "data": {
      "text/plain": [
       "2089"
      ]
     },
     "execution_count": 364,
     "metadata": {},
     "output_type": "execute_result"
    }
   ],
   "source": [
    "np.count_nonzero(result == \"#\")"
   ]
  },
  {
   "cell_type": "code",
   "execution_count": 355,
   "metadata": {},
   "outputs": [],
   "source": [
    "ex = \"\"\"\n",
    "L.LL.LL.LL\n",
    "LLLLLLL.LL\n",
    "L.L.L..L..\n",
    "LLLL.LL.LL\n",
    "L.LL.LL.LL\n",
    "L.LLLLL.LL\n",
    "..L.L.....\n",
    "LLLLLLLLLL\n",
    "L.LLLLLL.L\n",
    "L.LLLLL.LL\n",
    "\"\"\".strip().split(\"\\n\")\n",
    "\n",
    "ex1 = np.asarray([list(e) for e in ex])"
   ]
  },
  {
   "cell_type": "code",
   "execution_count": 356,
   "metadata": {},
   "outputs": [],
   "source": [
    "result = ex1.copy()\n",
    "result_new = np.empty((ex1.shape), dtype=\"<U1\")\n",
    "\n",
    "\n",
    "for i in range(result.shape[0]):\n",
    "    for j in range(result.shape[1]):\n",
    "        result_new[i, j] = process_location(i, j, result)\n",
    "\n",
    "    # result = result_new.copy()"
   ]
  },
  {
   "cell_type": "code",
   "execution_count": 357,
   "metadata": {},
   "outputs": [
    {
     "data": {
      "text/plain": [
       "True"
      ]
     },
     "execution_count": 357,
     "metadata": {},
     "output_type": "execute_result"
    }
   ],
   "source": [
    "e2 = \"\"\"\n",
    "#.##.##.##\n",
    "#######.##\n",
    "#.#.#..#..\n",
    "####.##.##\n",
    "#.##.##.##\n",
    "#.#####.##\n",
    "..#.#.....\n",
    "##########\n",
    "#.######.#\n",
    "#.#####.##\n",
    "\"\"\".strip().split(\"\\n\")\n",
    "\n",
    "ex2 = np.asarray([list(e) for e in e2])\n",
    "\n",
    "np.array_equal(ex2, result_new)"
   ]
  },
  {
   "cell_type": "code",
   "execution_count": 358,
   "metadata": {},
   "outputs": [],
   "source": [
    "result = ex2.copy()\n",
    "result_new = np.empty((ex2.shape), dtype=\"<U1\")\n",
    "\n",
    "\n",
    "for i in range(result.shape[0]):\n",
    "    for j in range(result.shape[1]):\n",
    "        result_new[i, j] = process_location(i, j, result)\n",
    "\n",
    "\n",
    "\n",
    "    # result = result_new.copy()"
   ]
  },
  {
   "cell_type": "code",
   "execution_count": 359,
   "metadata": {},
   "outputs": [
    {
     "data": {
      "text/plain": [
       "True"
      ]
     },
     "execution_count": 359,
     "metadata": {},
     "output_type": "execute_result"
    }
   ],
   "source": [
    "e3 = \"\"\"\n",
    "#.LL.LL.L#\n",
    "#LLLLLL.LL\n",
    "L.L.L..L..\n",
    "LLLL.LL.LL\n",
    "L.LL.LL.LL\n",
    "L.LLLLL.LL\n",
    "..L.L.....\n",
    "LLLLLLLLL#\n",
    "#.LLLLLL.L\n",
    "#.LLLLL.L#\n",
    "\"\"\".strip().split(\"\\n\")\n",
    "\n",
    "ex3 = np.asarray([list(e) for e in e3])\n",
    "\n",
    "np.array_equal(ex3, result_new)"
   ]
  },
  {
   "cell_type": "code",
   "execution_count": null,
   "metadata": {},
   "outputs": [],
   "source": []
  }
 ],
 "metadata": {
  "kernelspec": {
   "display_name": "testing",
   "language": "python",
   "name": "testing"
  },
  "language_info": {
   "codemirror_mode": {
    "name": "ipython",
    "version": 3
   },
   "file_extension": ".py",
   "mimetype": "text/x-python",
   "name": "python",
   "nbconvert_exporter": "python",
   "pygments_lexer": "ipython3",
   "version": "3.8.3"
  }
 },
 "nbformat": 4,
 "nbformat_minor": 4
}
