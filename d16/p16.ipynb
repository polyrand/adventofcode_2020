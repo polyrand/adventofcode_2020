{
 "cells": [
  {
   "cell_type": "code",
   "execution_count": null,
   "metadata": {},
   "outputs": [],
   "source": [
    "from typing import List\n",
    "from itertools import permutations\n",
    "from itertools import islice"
   ]
  },
  {
   "cell_type": "code",
   "execution_count": null,
   "metadata": {},
   "outputs": [],
   "source": [
    "with open(\"input.txt\") as f:\n",
    "    data = f.read()"
   ]
  },
  {
   "cell_type": "code",
   "execution_count": 3,
   "metadata": {},
   "outputs": [],
   "source": [
    "fields = data.split(\"\\n\\n\")[0]\n",
    "my_ticket = data.split(\"\\n\\n\")[1]\n",
    "tickets = data.split(\"\\n\\n\")[2]"
   ]
  },
  {
   "cell_type": "code",
   "execution_count": 4,
   "metadata": {},
   "outputs": [],
   "source": [
    "e = fields.split(\"\\n\")[0]"
   ]
  },
  {
   "cell_type": "code",
   "execution_count": 5,
   "metadata": {},
   "outputs": [
    {
     "data": {
      "text/plain": [
       "['departure location: 34-724 or 735-974',\n",
       " 'departure station: 40-521 or 534-950',\n",
       " 'departure platform: 40-329 or 353-973',\n",
       " 'departure track: 37-258 or 268-964',\n",
       " 'departure date: 32-650 or 665-964',\n",
       " 'departure time: 39-373 or 398-950',\n",
       " 'arrival location: 42-431 or 447-952',\n",
       " 'arrival station: 36-536 or 552-972',\n",
       " 'arrival platform: 45-666 or 678-952',\n",
       " 'arrival track: 49-836 or 852-952',\n",
       " 'class: 35-600 or 623-953',\n",
       " 'duration: 50-920 or 929-950',\n",
       " 'price: 35-853 or 870-973',\n",
       " 'route: 34-309 or 318-965',\n",
       " 'row: 42-267 or 292-962',\n",
       " 'seat: 46-632 or 642-954',\n",
       " 'train: 47-746 or 754-960',\n",
       " 'type: 32-406 or 423-963',\n",
       " 'wagon: 37-797 or 810-973',\n",
       " 'zone: 35-766 or 784-952']"
      ]
     },
     "execution_count": 5,
     "metadata": {},
     "output_type": "execute_result"
    }
   ],
   "source": [
    "fields.split(\"\\n\")"
   ]
  },
  {
   "cell_type": "code",
   "execution_count": 6,
   "metadata": {},
   "outputs": [],
   "source": [
    "i_00 = int(e.split(\": \")[1].split(\" or \")[0].split(\"-\")[0])\n",
    "i_01 = int(e.split(\": \")[1].split(\" or \")[0].split(\"-\")[1])\n",
    "i_10 = int(e.split(\": \")[1].split(\" or \")[1].split(\"-\")[0])\n",
    "i_11 = int(e.split(\": \")[1].split(\" or \")[1].split(\"-\")[1])\n",
    "name = e.split(\": \")[0]"
   ]
  },
  {
   "cell_type": "markdown",
   "metadata": {},
   "source": [
    "## Part 1"
   ]
  },
  {
   "cell_type": "code",
   "execution_count": 7,
   "metadata": {},
   "outputs": [],
   "source": [
    "def get_field_set(field: str):\n",
    "    i_00 = int(field.split(\": \")[1].split(\" or \")[0].split(\"-\")[0])\n",
    "    i_01 = int(field.split(\": \")[1].split(\" or \")[0].split(\"-\")[1])\n",
    "    i_10 = int(field.split(\": \")[1].split(\" or \")[1].split(\"-\")[0])\n",
    "    i_11 = int(field.split(\": \")[1].split(\" or \")[1].split(\"-\")[1])\n",
    "    name = field.split(\": \")[0]\n",
    "\n",
    "    return set(range(i_00, i_01 + 1)).union(set(range(i_10, i_11)))"
   ]
  },
  {
   "cell_type": "code",
   "execution_count": 8,
   "metadata": {},
   "outputs": [],
   "source": [
    "all_possible = set.union(*[get_field_set(e) for e in fields.split(\"\\n\")])"
   ]
  },
  {
   "cell_type": "code",
   "execution_count": 9,
   "metadata": {},
   "outputs": [],
   "source": [
    "# [get_field_data(e) for e in fields.split(\"\\n\")]"
   ]
  },
  {
   "cell_type": "code",
   "execution_count": 10,
   "metadata": {},
   "outputs": [
    {
     "data": {
      "text/plain": [
       "24021"
      ]
     },
     "execution_count": 10,
     "metadata": {},
     "output_type": "execute_result"
    }
   ],
   "source": [
    "sum(\n",
    "    (\n",
    "        int(e)\n",
    "        for e in \",\".join(tickets.split(\"\\n\")[1:]).split(\",\")\n",
    "        if int(e) not in all_possible\n",
    "    )\n",
    ")"
   ]
  },
  {
   "cell_type": "markdown",
   "metadata": {},
   "source": [
    "## Part 2"
   ]
  },
  {
   "cell_type": "code",
   "execution_count": 11,
   "metadata": {},
   "outputs": [],
   "source": [
    "tickets_i = []\n",
    "\n",
    "for t in tickets.split(\"\\n\")[1:]:\n",
    "    \n",
    "    tickets_i.append([int(e) for e in t.split(\",\")])"
   ]
  },
  {
   "cell_type": "code",
   "execution_count": 12,
   "metadata": {},
   "outputs": [],
   "source": [
    "def ticket_is_valid(ticket: List[int]):\n",
    "    \n",
    "    return all((num in all_possible for num in ticket))"
   ]
  },
  {
   "cell_type": "code",
   "execution_count": 13,
   "metadata": {},
   "outputs": [],
   "source": [
    "tickets_valid = [t for t in tickets_i if ticket_is_valid(t)]"
   ]
  },
  {
   "cell_type": "code",
   "execution_count": 14,
   "metadata": {},
   "outputs": [],
   "source": [
    "assert len(tickets_i) != len(tickets_valid)"
   ]
  },
  {
   "cell_type": "code",
   "execution_count": 15,
   "metadata": {},
   "outputs": [
    {
     "data": {
      "text/plain": [
       "20"
      ]
     },
     "execution_count": 15,
     "metadata": {},
     "output_type": "execute_result"
    }
   ],
   "source": [
    "len(tickets_valid[0])"
   ]
  },
  {
   "cell_type": "code",
   "execution_count": 16,
   "metadata": {},
   "outputs": [],
   "source": [
    "def get_field_name(field: str):\n",
    "\n",
    "    return field.split(\": \")[0]"
   ]
  },
  {
   "cell_type": "code",
   "execution_count": 17,
   "metadata": {},
   "outputs": [],
   "source": [
    "fields_possible = {get_field_name(e): get_field_set(e) for e in fields.split(\"\\n\")}"
   ]
  },
  {
   "cell_type": "code",
   "execution_count": 18,
   "metadata": {},
   "outputs": [],
   "source": [
    "def get_possible_fields_num(num: int):\n",
    "    \n",
    "    fields = set()\n",
    "    \n",
    "    for k,v in fields_possible.items():\n",
    "        if num in v:\n",
    "            fields.add(k)\n",
    "            \n",
    "    return fields"
   ]
  },
  {
   "cell_type": "code",
   "execution_count": 19,
   "metadata": {},
   "outputs": [],
   "source": [
    "possibilities = {}\n",
    "\n",
    "for i in range(len(tickets_valid[0])):\n",
    "    \n",
    "    possible = []\n",
    "    \n",
    "    for t in tickets_valid:\n",
    "        \n",
    "        possible.append(get_possible_fields_num(t[i]))\n",
    "    \n",
    "    possibilities[f\"field_{i}\"] = set.intersection(*possible)"
   ]
  },
  {
   "cell_type": "markdown",
   "metadata": {
    "jupyter": {
     "outputs_hidden": true
    }
   },
   "source": [
    "{\n",
    "    k: possibilities[k]\n",
    "    for k in sorted(possibilities, key=lambda x: len(possibilities[x]))\n",
    "}"
   ]
  },
  {
   "cell_type": "code",
   "execution_count": 20,
   "metadata": {},
   "outputs": [],
   "source": [
    "len_order = [\n",
    "    e.split(\"_\")[1] for e in sorted(possibilities, key=lambda x: len(possibilities[x]))\n",
    "]"
   ]
  },
  {
   "cell_type": "code",
   "execution_count": 21,
   "metadata": {},
   "outputs": [
    {
     "data": {
      "text/plain": [
       "['4',\n",
       " '9',\n",
       " '7',\n",
       " '15',\n",
       " '18',\n",
       " '5',\n",
       " '2',\n",
       " '14',\n",
       " '6',\n",
       " '10',\n",
       " '16',\n",
       " '13',\n",
       " '19',\n",
       " '11',\n",
       " '8',\n",
       " '1',\n",
       " '0',\n",
       " '17',\n",
       " '12',\n",
       " '3']"
      ]
     },
     "execution_count": 21,
     "metadata": {},
     "output_type": "execute_result"
    }
   ],
   "source": [
    "len_order"
   ]
  },
  {
   "cell_type": "code",
   "execution_count": 22,
   "metadata": {},
   "outputs": [],
   "source": [
    "field_names = [get_field_name(e) for e in fields.split(\"\\n\")]"
   ]
  },
  {
   "cell_type": "code",
   "execution_count": 23,
   "metadata": {},
   "outputs": [],
   "source": [
    "# print(\"\\n\".join([f\"and p[{x}] in possibilities['field_{x}']\" for x in len_order[1:]]))"
   ]
  },
  {
   "cell_type": "markdown",
   "metadata": {},
   "source": [
    "for p in permutations(field_names, 20):\n",
    "\n",
    "    if (\n",
    "        p[4] in possibilities[\"field_4\"]\n",
    "        and p[9] in possibilities[\"field_9\"]\n",
    "        and p[7] in possibilities[\"field_7\"]\n",
    "        and p[15] in possibilities[\"field_15\"]\n",
    "        and p[18] in possibilities[\"field_18\"]\n",
    "        and p[5] in possibilities[\"field_5\"]\n",
    "        and p[2] in possibilities[\"field_2\"]\n",
    "        and p[14] in possibilities[\"field_14\"]\n",
    "        and p[6] in possibilities[\"field_6\"]\n",
    "        and p[10] in possibilities[\"field_10\"]\n",
    "        and p[16] in possibilities[\"field_16\"]\n",
    "        and p[13] in possibilities[\"field_13\"]\n",
    "        and p[19] in possibilities[\"field_19\"]\n",
    "        and p[11] in possibilities[\"field_11\"]\n",
    "        and p[8] in possibilities[\"field_8\"]\n",
    "        and p[1] in possibilities[\"field_1\"]\n",
    "        and p[0] in possibilities[\"field_0\"]\n",
    "        and p[17] in possibilities[\"field_17\"]\n",
    "        and p[12] in possibilities[\"field_12\"]\n",
    "        and p[3] in possibilities[\"field_3\"]\n",
    "    ):\n",
    "        \n",
    "        print(p)\n",
    "        \n",
    "        break"
   ]
  },
  {
   "cell_type": "code",
   "execution_count": 24,
   "metadata": {},
   "outputs": [],
   "source": [
    "sorted_fields = {\n",
    "    k: possibilities[k]\n",
    "    for k in sorted(possibilities, key=lambda x: len(possibilities[x]))\n",
    "}"
   ]
  },
  {
   "cell_type": "code",
   "execution_count": 25,
   "metadata": {},
   "outputs": [],
   "source": [
    "sorted_fields;"
   ]
  },
  {
   "cell_type": "code",
   "execution_count": 26,
   "metadata": {},
   "outputs": [],
   "source": [
    "already_selected = set()\n",
    "\n",
    "new = {}\n",
    "\n",
    "for k, v in sorted_fields.items():\n",
    "    if len(v) == 1:\n",
    "        value = list(v)[0]\n",
    "        new[k] = value\n",
    "        already_selected.add(value)\n",
    "\n",
    "    else:\n",
    "        to_consider = set.symmetric_difference(v, already_selected)\n",
    "        if len(to_consider) == 1:\n",
    "            value = list(to_consider)[0]\n",
    "            new[k] = value\n",
    "            already_selected.add(value)\n",
    "        else:\n",
    "            new[k] = to_consider"
   ]
  },
  {
   "cell_type": "code",
   "execution_count": 27,
   "metadata": {},
   "outputs": [
    {
     "data": {
      "text/plain": [
       "{'field_4': 'price',\n",
       " 'field_9': 'train',\n",
       " 'field_7': 'type',\n",
       " 'field_15': 'arrival station',\n",
       " 'field_18': 'zone',\n",
       " 'field_5': 'arrival track',\n",
       " 'field_2': 'arrival platform',\n",
       " 'field_14': 'route',\n",
       " 'field_6': 'departure time',\n",
       " 'field_10': 'departure platform',\n",
       " 'field_16': 'departure station',\n",
       " 'field_13': 'departure track',\n",
       " 'field_19': 'departure location',\n",
       " 'field_11': 'departure date',\n",
       " 'field_8': 'arrival location',\n",
       " 'field_1': 'seat',\n",
       " 'field_0': 'class',\n",
       " 'field_17': 'wagon',\n",
       " 'field_12': 'duration',\n",
       " 'field_3': 'row'}"
      ]
     },
     "execution_count": 27,
     "metadata": {},
     "output_type": "execute_result"
    }
   ],
   "source": [
    "new"
   ]
  },
  {
   "cell_type": "code",
   "execution_count": 28,
   "metadata": {},
   "outputs": [],
   "source": [
    "sorted_selected = dict(sorted(new.items(), key = lambda x: int(x[0][6:])))"
   ]
  },
  {
   "cell_type": "code",
   "execution_count": 29,
   "metadata": {},
   "outputs": [],
   "source": [
    "departure_selected = {k:v for k,v in sorted_selected.items() if \"departure\" in v}"
   ]
  },
  {
   "cell_type": "code",
   "execution_count": 30,
   "metadata": {},
   "outputs": [
    {
     "data": {
      "text/plain": [
       "[6, 10, 11, 13, 16, 19]"
      ]
     },
     "execution_count": 30,
     "metadata": {},
     "output_type": "execute_result"
    }
   ],
   "source": [
    "field_nums_sum = [int(k[6:]) for k in departure_selected]\n",
    "\n",
    "field_nums_sum"
   ]
  },
  {
   "cell_type": "code",
   "execution_count": 31,
   "metadata": {},
   "outputs": [
    {
     "data": {
      "text/plain": [
       "[113,\n",
       " 53,\n",
       " 97,\n",
       " 59,\n",
       " 139,\n",
       " 73,\n",
       " 89,\n",
       " 109,\n",
       " 67,\n",
       " 71,\n",
       " 79,\n",
       " 127,\n",
       " 149,\n",
       " 107,\n",
       " 137,\n",
       " 83,\n",
       " 131,\n",
       " 101,\n",
       " 61,\n",
       " 103]"
      ]
     },
     "execution_count": 31,
     "metadata": {},
     "output_type": "execute_result"
    }
   ],
   "source": [
    "my_ticket_values = [int(e) for e in my_ticket.split(\"\\n\")[1].split(\",\")]\n",
    "\n",
    "my_ticket_values"
   ]
  },
  {
   "cell_type": "code",
   "execution_count": 32,
   "metadata": {},
   "outputs": [],
   "source": [
    "value = 1\n",
    "\n",
    "\n",
    "for v in [my_ticket_values[x] for x in field_nums_sum]:\n",
    "    \n",
    "    value *= v"
   ]
  },
  {
   "cell_type": "code",
   "execution_count": 33,
   "metadata": {},
   "outputs": [
    {
     "data": {
      "text/plain": [
       "1289178686687"
      ]
     },
     "execution_count": 33,
     "metadata": {},
     "output_type": "execute_result"
    }
   ],
   "source": [
    "value"
   ]
  }
 ],
 "metadata": {
  "kernelspec": {
   "display_name": "testing",
   "language": "python",
   "name": "testing"
  },
  "language_info": {
   "codemirror_mode": {
    "name": "ipython",
    "version": 3
   },
   "file_extension": ".py",
   "mimetype": "text/x-python",
   "name": "python",
   "nbconvert_exporter": "python",
   "pygments_lexer": "ipython3",
   "version": "3.8.3"
  }
 },
 "nbformat": 4,
 "nbformat_minor": 4
}
