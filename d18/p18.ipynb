{
 "cells": [
  {
   "cell_type": "code",
   "execution_count": 1,
   "metadata": {},
   "outputs": [],
   "source": [
    "import re\n",
    "from collections import deque"
   ]
  },
  {
   "cell_type": "code",
   "execution_count": 2,
   "metadata": {},
   "outputs": [],
   "source": [
    "# adapted from: https://csl.name/post/vm/\n",
    "\n",
    "\n",
    "class Stack(deque):\n",
    "\n",
    "    push = deque.append\n",
    "\n",
    "    def peek(self):\n",
    "        return self[-1]"
   ]
  },
  {
   "cell_type": "code",
   "execution_count": 3,
   "metadata": {},
   "outputs": [],
   "source": [
    "class Interpreter:\n",
    "    def __init__(self, code: list):\n",
    "\n",
    "        self.values_stack = Stack()\n",
    "        self.operations_stack = Stack()\n",
    "        self.instruction_pointer = 0\n",
    "        self.code = code\n",
    "        self.op_map = {\n",
    "            \"*\": self.mul,\n",
    "            \"+\": self.plus,\n",
    "        }\n",
    "\n",
    "    def run(self):\n",
    "        while self.instruction_pointer < len(self.code):\n",
    "            token = self.code[self.instruction_pointer]\n",
    "            self.instruction_pointer += 1\n",
    "            self.do(token)\n",
    "\n",
    "    def do(self, token):\n",
    "\n",
    "        # print(f\"Doing token {token}\")\n",
    "\n",
    "        if token in self.op_map:\n",
    "            self.operations_stack.push(token)\n",
    "\n",
    "        elif isinstance(token, int):\n",
    "            self.values_stack.push(token)\n",
    "\n",
    "        else:\n",
    "            raise RuntimeError(f\"Unknown opcode: '{token}'\")\n",
    "\n",
    "        self.should_calculate()\n",
    "\n",
    "    def should_calculate(self):\n",
    "\n",
    "        # print(\"Values:\", self.values_stack)\n",
    "        # print(\"Ops:\", self.operations_stack)\n",
    "\n",
    "        if len(self.values_stack) == 2:\n",
    "\n",
    "            # print(\"Calculating...\")\n",
    "            assert len(self.operations_stack) == 1\n",
    "\n",
    "            op = self.operations_stack.pop()\n",
    "\n",
    "            self.op_map[op]()\n",
    "\n",
    "            # print(\"New values:\", self.values_stack)\n",
    "\n",
    "    def plus(self):\n",
    "        v1 = self.values_stack.pop()\n",
    "        v2 = self.values_stack.pop()\n",
    "        self.values_stack.push(v1 + v2)\n",
    "\n",
    "    def mul(self):\n",
    "        v1 = self.values_stack.pop()\n",
    "        v2 = self.values_stack.pop()\n",
    "        # print(v1,v2)\n",
    "        self.values_stack.push(v1 * v2)\n",
    "\n",
    "    def result(self):\n",
    "        assert len(self.values_stack) == 1\n",
    "        return self.values_stack.pop()"
   ]
  },
  {
   "cell_type": "code",
   "execution_count": 153,
   "metadata": {},
   "outputs": [],
   "source": [
    "def parse_code(code: str):\n",
    "\n",
    "    str_tokens = code.split(\" \")  # list(code.replace(\" \", \"\"))\n",
    "\n",
    "    tokens = []\n",
    "\n",
    "    for t in str_tokens:\n",
    "        if t in {\"*\", \"+\"}:\n",
    "            tokens.append(t)\n",
    "        else:\n",
    "            tokens.append(int(t))\n",
    "\n",
    "    return tokens"
   ]
  },
  {
   "cell_type": "code",
   "execution_count": 155,
   "metadata": {},
   "outputs": [
    {
     "data": {
      "text/plain": [
       "[1, '+', 2, '+', 3, '*', 5]"
      ]
     },
     "execution_count": 155,
     "metadata": {},
     "output_type": "execute_result"
    }
   ],
   "source": [
    "code = parse_code(\"1 + 2 + 3 * 5\")\n",
    "code"
   ]
  },
  {
   "cell_type": "code",
   "execution_count": 58,
   "metadata": {},
   "outputs": [],
   "source": [
    "i = Interpreter(code)"
   ]
  },
  {
   "cell_type": "code",
   "execution_count": 59,
   "metadata": {},
   "outputs": [],
   "source": [
    "i.run()"
   ]
  },
  {
   "cell_type": "code",
   "execution_count": 60,
   "metadata": {},
   "outputs": [
    {
     "data": {
      "text/plain": [
       "30"
      ]
     },
     "execution_count": 60,
     "metadata": {},
     "output_type": "execute_result"
    }
   ],
   "source": [
    "i.result()"
   ]
  },
  {
   "cell_type": "code",
   "execution_count": 61,
   "metadata": {},
   "outputs": [],
   "source": [
    "def interpret_code(code: str):\n",
    "    \n",
    "    code = parse_code(code)\n",
    "    \n",
    "    i = Interpreter(code)\n",
    "    \n",
    "    try:\n",
    "        i.run()\n",
    "    except:\n",
    "        print(i.code)\n",
    "    \n",
    "    return i.result()"
   ]
  },
  {
   "cell_type": "code",
   "execution_count": 62,
   "metadata": {},
   "outputs": [
    {
     "data": {
      "text/plain": [
       "<re.Match object; span=(13, 20), match='(4 + 4)'>"
      ]
     },
     "execution_count": 62,
     "metadata": {},
     "output_type": "execute_result"
    }
   ],
   "source": [
    "orig = \"1 + 2 + (1 + (4 + 4)) + (1 + (4 + 4))\"\n",
    "m = re.search(r\"\\(([^\\(|\\)]*)\\)\", orig)\n",
    "m"
   ]
  },
  {
   "cell_type": "code",
   "execution_count": 63,
   "metadata": {},
   "outputs": [
    {
     "data": {
      "text/plain": [
       "'4 + 4'"
      ]
     },
     "execution_count": 63,
     "metadata": {},
     "output_type": "execute_result"
    }
   ],
   "source": [
    "m.group(1)"
   ]
  },
  {
   "cell_type": "code",
   "execution_count": 64,
   "metadata": {},
   "outputs": [
    {
     "name": "stdout",
     "output_type": "stream",
     "text": [
      "(13, 20)\n"
     ]
    },
    {
     "data": {
      "text/plain": [
       "'4 + 4'"
      ]
     },
     "execution_count": 64,
     "metadata": {},
     "output_type": "execute_result"
    }
   ],
   "source": [
    "print(m.span())\n",
    "expr = m.group(1)\n",
    "expr"
   ]
  },
  {
   "cell_type": "code",
   "execution_count": 65,
   "metadata": {},
   "outputs": [
    {
     "data": {
      "text/plain": [
       "8"
      ]
     },
     "execution_count": 65,
     "metadata": {},
     "output_type": "execute_result"
    }
   ],
   "source": [
    "interpret_code(expr)"
   ]
  },
  {
   "cell_type": "code",
   "execution_count": 66,
   "metadata": {},
   "outputs": [],
   "source": [
    "from typing import Tuple"
   ]
  },
  {
   "cell_type": "code",
   "execution_count": 67,
   "metadata": {},
   "outputs": [],
   "source": [
    "def find_paren_group(code: str) -> Tuple[str, Tuple[int, int]]:\n",
    "\n",
    "    m = re.search(r\"\\(([^\\(|\\)]*)\\)\", code)\n",
    "\n",
    "    expr = m.group(1)\n",
    "\n",
    "    return expr, m.span()"
   ]
  },
  {
   "cell_type": "code",
   "execution_count": 68,
   "metadata": {},
   "outputs": [],
   "source": [
    "def replace_str(orig, span, new):\n",
    "    \n",
    "    return str(orig[:span[0]]) + str(new) + str(orig[span[1]:])"
   ]
  },
  {
   "cell_type": "code",
   "execution_count": 84,
   "metadata": {},
   "outputs": [],
   "source": [
    "def remove_paren(code: str):\n",
    "    \n",
    "    while \"(\" in code or \")\" in code:\n",
    "        \n",
    "        expr, span = find_paren_group(code)\n",
    "        # print(expr, span)\n",
    "        \n",
    "        value = interpret_code(expr)\n",
    "        \n",
    "        code = replace_str(code, span, value)\n",
    "        \n",
    "    return code"
   ]
  },
  {
   "cell_type": "code",
   "execution_count": 85,
   "metadata": {},
   "outputs": [],
   "source": [
    "def do(code: str):\n",
    "    code = remove_paren(code)\n",
    "    \n",
    "    return interpret_code(code)"
   ]
  },
  {
   "cell_type": "markdown",
   "metadata": {},
   "source": [
    "**Examples given**"
   ]
  },
  {
   "cell_type": "code",
   "execution_count": 88,
   "metadata": {},
   "outputs": [],
   "source": [
    "assert do(\"5 * 9 * (7 * 3 * 3 + 9 * 3 + (8 + 6 * 4))\") == 12240\n",
    "assert do(\"2 * 3 + (4 * 5)\") == 26\n",
    "assert do(\"5 + (8 * 3 + 9 + 3 * 4 * 3)\") == 437\n",
    "assert do(\"((2 + 4 * 9) * (6 + 9 * 8 + 6) + 6) + 2 + 4 * 2\") == 13632"
   ]
  },
  {
   "cell_type": "code",
   "execution_count": 92,
   "metadata": {},
   "outputs": [],
   "source": [
    "with open(\"input.txt\") as f:\n",
    "    data = f.read().split(\"\\n\")"
   ]
  },
  {
   "cell_type": "code",
   "execution_count": 95,
   "metadata": {},
   "outputs": [
    {
     "data": {
      "text/plain": [
       "11076907812171"
      ]
     },
     "execution_count": 95,
     "metadata": {},
     "output_type": "execute_result"
    }
   ],
   "source": [
    "sum([do(x) for x in data])"
   ]
  },
  {
   "cell_type": "markdown",
   "metadata": {},
   "source": [
    "## Part 2"
   ]
  },
  {
   "cell_type": "code",
   "execution_count": 146,
   "metadata": {},
   "outputs": [],
   "source": [
    "class Interpreter:\n",
    "    def __init__(self, code: list):\n",
    "\n",
    "        self.values_stack = Stack()\n",
    "        self.operations_stack = Stack()\n",
    "        self.instruction_pointer = 0\n",
    "        self.code = code\n",
    "\n",
    "        self.op_map = {\"*\": self.mul, \"+\": self.plus}\n",
    "        self.op_precendence = {\"+\": 1, \"*\": 0}\n",
    "\n",
    "    def run(self):\n",
    "        while self.instruction_pointer < len(self.code):\n",
    "            token = self.code[self.instruction_pointer]\n",
    "            self.instruction_pointer += 1\n",
    "            self.do(token)\n",
    "\n",
    "    def do(self, token):\n",
    "\n",
    "        # print(f\"Doing token {token}\")\n",
    "\n",
    "        if token in self.op_map:\n",
    "            if len(self.operations_stack) == 0:\n",
    "                self.operations_stack.push(token)\n",
    "            else:\n",
    "                # print(\"doing while\")\n",
    "                \n",
    "                while (len(self.operations_stack) > 0) and (\n",
    "                    self.op_precendence[self.operations_stack.peek()]\n",
    "                    > self.op_precendence[token]\n",
    "                ):\n",
    "                    \n",
    "                    # print(f\"Ops: {self.operations_stack}\")\n",
    "                    self.process()\n",
    "\n",
    "                    \n",
    "                # print(f\"finished process, pushing token {token}\")\n",
    "\n",
    "                self.operations_stack.push(token)\n",
    "\n",
    "        elif isinstance(token, int):\n",
    "            self.values_stack.push(token)\n",
    "\n",
    "        else:\n",
    "            raise RuntimeError(f\"Unknown opcode: '{token}'\")\n",
    "\n",
    "        # self.should_calculate()\n",
    "\n",
    "    def process(self):\n",
    "\n",
    "        # print(\"Values:\", self.values_stack)\n",
    "        # print(\"Ops:\", self.operations_stack)\n",
    "\n",
    "        op = self.operations_stack.pop()\n",
    "\n",
    "        self.op_map[op]()\n",
    "\n",
    "        # print(\"New values:\", self.values_stack)\n",
    "\n",
    "    def plus(self):\n",
    "        v1 = self.values_stack.pop()\n",
    "        v2 = self.values_stack.pop()\n",
    "        # print(v1, v2)\n",
    "        self.values_stack.push(v1 + v2)\n",
    "\n",
    "    def mul(self):\n",
    "        v1 = self.values_stack.pop()\n",
    "        v2 = self.values_stack.pop()\n",
    "        # print(v1, v2)\n",
    "        self.values_stack.push(v1 * v2)\n",
    "\n",
    "    def result(self):\n",
    "        while len(self.values_stack) > 1:\n",
    "            self.process()\n",
    "\n",
    "        return self.values_stack.pop()"
   ]
  },
  {
   "cell_type": "code",
   "execution_count": 147,
   "metadata": {},
   "outputs": [],
   "source": [
    "def interpret_code(code: str):\n",
    "\n",
    "    code = parse_code(code)\n",
    "\n",
    "    i = Interpreter(code)\n",
    "\n",
    "    try:\n",
    "        i.run()\n",
    "    except:\n",
    "        print(i.code)\n",
    "        raise\n",
    "\n",
    "    return i.result()"
   ]
  },
  {
   "cell_type": "code",
   "execution_count": 150,
   "metadata": {},
   "outputs": [
    {
     "data": {
      "text/plain": [
       "144"
      ]
     },
     "execution_count": 150,
     "metadata": {},
     "output_type": "execute_result"
    }
   ],
   "source": [
    "interpret_code(\"1 + 2 * 4 * 5 + 1 * 2\")"
   ]
  },
  {
   "cell_type": "markdown",
   "metadata": {},
   "source": [
    "**Examples given**"
   ]
  },
  {
   "cell_type": "code",
   "execution_count": 151,
   "metadata": {},
   "outputs": [],
   "source": [
    "examples = [\n",
    "    (\"1 + (2 * 3) + (4 * (5 + 6))\", 51),\n",
    "    (\"2 * 3 + (4 * 5)\", 46),\n",
    "    (\"5 + (8 * 3 + 9 + 3 * 4 * 3)\", 1445),\n",
    "    (\"5 * 9 * (7 * 3 * 3 + 9 * 3 + (8 + 6 * 4))\", 669060),\n",
    "    (\"((2 + 4 * 9) * (6 + 9 * 8 + 6) + 6) + 2 + 4 * 2\", 23340),\n",
    "]\n",
    "\n",
    "\n",
    "for code, result in examples:\n",
    "    assert do(code) == result"
   ]
  },
  {
   "cell_type": "code",
   "execution_count": 152,
   "metadata": {},
   "outputs": [
    {
     "data": {
      "text/plain": [
       "283729053022731"
      ]
     },
     "execution_count": 152,
     "metadata": {},
     "output_type": "execute_result"
    }
   ],
   "source": [
    "sum([do(x) for x in data])"
   ]
  },
  {
   "cell_type": "code",
   "execution_count": null,
   "metadata": {},
   "outputs": [],
   "source": []
  }
 ],
 "metadata": {
  "kernelspec": {
   "display_name": "testing",
   "language": "python",
   "name": "testing"
  },
  "language_info": {
   "codemirror_mode": {
    "name": "ipython",
    "version": 3
   },
   "file_extension": ".py",
   "mimetype": "text/x-python",
   "name": "python",
   "nbconvert_exporter": "python",
   "pygments_lexer": "ipython3",
   "version": "3.8.3"
  }
 },
 "nbformat": 4,
 "nbformat_minor": 4
}
