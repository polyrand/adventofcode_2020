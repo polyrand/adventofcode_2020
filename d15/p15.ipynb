{
 "cells": [
  {
   "cell_type": "code",
   "execution_count": 1,
   "metadata": {},
   "outputs": [],
   "source": [
    "data = \"14,3,1,0,9,5\""
   ]
  },
  {
   "cell_type": "code",
   "execution_count": 2,
   "metadata": {},
   "outputs": [],
   "source": [
    "starting_numbers = [int(e) for e in data.split(\",\")]"
   ]
  },
  {
   "cell_type": "code",
   "execution_count": 3,
   "metadata": {},
   "outputs": [
    {
     "data": {
      "text/plain": [
       "[14, 3, 1, 0, 9, 5]"
      ]
     },
     "execution_count": 3,
     "metadata": {},
     "output_type": "execute_result"
    }
   ],
   "source": [
    "starting_numbers"
   ]
  },
  {
   "cell_type": "code",
   "execution_count": 4,
   "metadata": {},
   "outputs": [],
   "source": [
    "from collections import deque, defaultdict\n",
    "from functools import partial"
   ]
  },
  {
   "cell_type": "markdown",
   "metadata": {},
   "source": [
    "## Part 1"
   ]
  },
  {
   "cell_type": "code",
   "execution_count": 5,
   "metadata": {},
   "outputs": [
    {
     "name": "stdout",
     "output_type": "stream",
     "text": [
      "deque([5, 9, 0, 1, 3, 14])\n",
      "{0, 1, 3, 9, 14}\n"
     ]
    }
   ],
   "source": [
    "q = deque()\n",
    "\n",
    "seen = set()\n",
    "\n",
    "for n in starting_numbers:\n",
    "    q.appendleft(n)\n",
    "    seen.add(n)\n",
    "    \n",
    "    \n",
    "seen.remove(q[0])\n",
    "    \n",
    "print(q)\n",
    "print(seen)\n",
    "\n",
    "while len(q) < 2020:\n",
    "\n",
    "    last_number = q[0]\n",
    "\n",
    "    # print(f\"Last number: {last_number}\")\n",
    "\n",
    "    if last_number not in seen:\n",
    "        q.appendleft(0)\n",
    "        seen.add(last_number)\n",
    "        seen.add(0)\n",
    "        # print(q)\n",
    "\n",
    "    else:\n",
    "        last_time_1 = q.index(last_number)\n",
    "        # print(last_number, q, last_time_1)\n",
    "\n",
    "        last_time_2 = q.index(last_number, last_time_1 + 1)\n",
    "        # print(q)\n",
    "        \n",
    "        \n",
    "\n",
    "        new_number = (len(q) - last_time_1) - (len(q) - last_time_2)\n",
    "\n",
    "        q.appendleft(new_number)"
   ]
  },
  {
   "cell_type": "code",
   "execution_count": 6,
   "metadata": {},
   "outputs": [
    {
     "data": {
      "text/plain": [
       "614"
      ]
     },
     "execution_count": 6,
     "metadata": {},
     "output_type": "execute_result"
    }
   ],
   "source": [
    "q[0]"
   ]
  },
  {
   "cell_type": "code",
   "execution_count": 17,
   "metadata": {},
   "outputs": [],
   "source": [
    "ql = list(reversed(q))"
   ]
  },
  {
   "cell_type": "markdown",
   "metadata": {},
   "source": [
    "## Part 2"
   ]
  },
  {
   "cell_type": "code",
   "execution_count": 20,
   "metadata": {},
   "outputs": [],
   "source": [
    "limited = partial(deque, maxlen=2)\n",
    "\n",
    "q = defaultdict(limited)\n",
    "seen = set()\n",
    "\n",
    "for turn, num in enumerate(starting_numbers):\n",
    "    q[num].appendleft(turn + 1)\n",
    "    seen.add(num)\n",
    "\n",
    "seen.remove(starting_numbers[-1])\n",
    "\n",
    "turn = len(starting_numbers) + 1\n",
    "\n",
    "last_number = 5\n",
    "\n",
    "while turn != 30000001:\n",
    "\n",
    "    # print(f\"Last number: {last_number}\")\n",
    "\n",
    "    if last_number in seen:\n",
    "\n",
    "        last_times = q[last_number]\n",
    "        # print(last_number, last_time_1, turn)\n",
    "\n",
    "        new_number = last_times[0] - last_times[1]\n",
    "        # print(new_number)\n",
    "\n",
    "        q[new_number].appendleft(turn)\n",
    "        seen.add(last_number)\n",
    "\n",
    "        last_number = new_number\n",
    "\n",
    "    else:\n",
    "        q[0].appendleft(turn)\n",
    "        seen.add(last_number)\n",
    "        last_number = 0\n",
    "\n",
    "    turn += 1"
   ]
  },
  {
   "cell_type": "code",
   "execution_count": 23,
   "metadata": {},
   "outputs": [
    {
     "data": {
      "text/plain": [
       "1065"
      ]
     },
     "execution_count": 23,
     "metadata": {},
     "output_type": "execute_result"
    }
   ],
   "source": [
    "print(last_number)"
   ]
  }
 ],
 "metadata": {
  "kernelspec": {
   "display_name": "testing",
   "language": "python",
   "name": "testing"
  },
  "language_info": {
   "codemirror_mode": {
    "name": "ipython",
    "version": 3
   },
   "file_extension": ".py",
   "mimetype": "text/x-python",
   "name": "python",
   "nbconvert_exporter": "python",
   "pygments_lexer": "ipython3",
   "version": "3.8.3"
  }
 },
 "nbformat": 4,
 "nbformat_minor": 4
}
