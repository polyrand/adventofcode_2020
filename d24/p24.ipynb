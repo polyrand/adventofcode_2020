{
 "cells": [
  {
   "cell_type": "code",
   "execution_count": 14,
   "metadata": {},
   "outputs": [],
   "source": [
    "test_input = \"\"\"\n",
    "sesenwnenenewseeswwswswwnenewsewsw\n",
    "neeenesenwnwwswnenewnwwsewnenwseswesw\n",
    "seswneswswsenwwnwse\n",
    "nwnwneseeswswnenewneswwnewseswneseene\n",
    "swweswneswnenwsewnwneneseenw\n",
    "eesenwseswswnenwswnwnwsewwnwsene\n",
    "sewnenenenesenwsewnenwwwse\n",
    "wenwwweseeeweswwwnwwe\n",
    "wsweesenenewnwwnwsenewsenwwsesesenwne\n",
    "neeswseenwwswnwswswnw\n",
    "nenwswwsewswnenenewsenwsenwnesesenew\n",
    "enewnwewneswsewnwswenweswnenwsenwsw\n",
    "sweneswneswneneenwnewenewwneswswnese\n",
    "swwesenesewenwneswnwwneseswwne\n",
    "enesenwswwswneneswsenwnewswseenwsese\n",
    "wnwnesenesenenwwnenwsewesewsesesew\n",
    "nenewswnwewswnenesenwnesewesw\n",
    "eneswnwswnwsenenwnwnwwseeswneewsenese\n",
    "neswnwewnwnwseenwseesewsenwsweewe\n",
    "wseweeenwnesenwwwswnew\n",
    "\"\"\".strip()"
   ]
  },
  {
   "cell_type": "code",
   "execution_count": 15,
   "metadata": {},
   "outputs": [],
   "source": [
    "e = test_input.splitlines()[0]"
   ]
  },
  {
   "cell_type": "code",
   "execution_count": 16,
   "metadata": {},
   "outputs": [],
   "source": [
    "with open(\"input.txt\") as f:\n",
    "    \n",
    "    my_data = f.read()"
   ]
  },
  {
   "cell_type": "markdown",
   "metadata": {},
   "source": [
    "e, se, sw, w, nw, and ne"
   ]
  },
  {
   "cell_type": "code",
   "execution_count": 17,
   "metadata": {},
   "outputs": [],
   "source": [
    "def tokenize(mov: str):\n",
    "\n",
    "    seen = set()\n",
    "\n",
    "    res = []\n",
    "\n",
    "    for idx, char in enumerate(mov):\n",
    "\n",
    "        if idx in seen:\n",
    "            continue\n",
    "\n",
    "        if char in {\"s\", \"n\"}:\n",
    "\n",
    "            p = f\"{char}{mov[idx+1]}\"\n",
    "\n",
    "            res.append(p)\n",
    "\n",
    "            seen.add(idx)\n",
    "            seen.add(idx + 1)\n",
    "\n",
    "        else:\n",
    "            assert char in {\"e\", \"w\"}\n",
    "            res.append(char)\n",
    "            seen.add(idx)\n",
    "\n",
    "    return res"
   ]
  },
  {
   "cell_type": "code",
   "execution_count": 18,
   "metadata": {},
   "outputs": [
    {
     "data": {
      "text/plain": [
       "['se',\n",
       " 'se',\n",
       " 'nw',\n",
       " 'ne',\n",
       " 'ne',\n",
       " 'ne',\n",
       " 'w',\n",
       " 'se',\n",
       " 'e',\n",
       " 'sw',\n",
       " 'w',\n",
       " 'sw',\n",
       " 'sw',\n",
       " 'w',\n",
       " 'ne',\n",
       " 'ne',\n",
       " 'w',\n",
       " 'se',\n",
       " 'w',\n",
       " 'sw']"
      ]
     },
     "execution_count": 18,
     "metadata": {},
     "output_type": "execute_result"
    }
   ],
   "source": [
    "tokenize(e)"
   ]
  },
  {
   "cell_type": "code",
   "execution_count": 19,
   "metadata": {},
   "outputs": [],
   "source": [
    "coord_change = {\n",
    "    \"e\": (1, 0),\n",
    "    \"ne\": (1, 1),\n",
    "    \"nw\": (0, 1),\n",
    "    \"se\": (0, -1),\n",
    "    \"sw\": (-1, -1),\n",
    "    \"w\": (-1, 0),\n",
    "}"
   ]
  },
  {
   "cell_type": "code",
   "execution_count": 20,
   "metadata": {},
   "outputs": [],
   "source": [
    "def tuple_add(a: tuple, b: tuple):\n",
    "\n",
    "    x = a[0] + b[0]\n",
    "    y = a[1] + b[1]\n",
    "\n",
    "    return (x, y)"
   ]
  },
  {
   "cell_type": "code",
   "execution_count": 21,
   "metadata": {},
   "outputs": [],
   "source": [
    "data = my_data"
   ]
  },
  {
   "cell_type": "code",
   "execution_count": 22,
   "metadata": {},
   "outputs": [],
   "source": [
    "visited = []\n",
    "\n",
    "for movement in data.splitlines():\n",
    "\n",
    "    movs = tokenize(movement)\n",
    "\n",
    "    reference_tile = (0, 0)\n",
    "\n",
    "    for m in movs:\n",
    "        action_to_do = coord_change[m]\n",
    "        \n",
    "        reference_tile = tuple_add(reference_tile, action_to_do)\n",
    "\n",
    "#         x = reference_tile[0] + action_to_do[0]\n",
    "#         y = reference_tile[1] + action_to_do[1]\n",
    "\n",
    "#         reference_tile = (x, y)\n",
    "        \n",
    "    visited.append(reference_tile)"
   ]
  },
  {
   "cell_type": "code",
   "execution_count": 23,
   "metadata": {},
   "outputs": [],
   "source": [
    "from collections import Counter"
   ]
  },
  {
   "cell_type": "code",
   "execution_count": 25,
   "metadata": {},
   "outputs": [
    {
     "name": "stdout",
     "output_type": "stream",
     "text": [
      "465\n"
     ]
    }
   ],
   "source": [
    "answer_part_1 = len([k for k, v in Counter(visited).items() if v % 2 != 0])  # 465\n",
    "\n",
    "print(answer_part_1)  # 465"
   ]
  },
  {
   "cell_type": "markdown",
   "metadata": {},
   "source": [
    "## Part 2"
   ]
  },
  {
   "cell_type": "code",
   "execution_count": 29,
   "metadata": {},
   "outputs": [],
   "source": [
    "from collections import defaultdict\n",
    "import itertools\n",
    "from enum import Enum, auto"
   ]
  },
  {
   "cell_type": "code",
   "execution_count": 30,
   "metadata": {},
   "outputs": [],
   "source": [
    "class Colors(Enum):\n",
    "\n",
    "    WHITE = auto()\n",
    "\n",
    "    BLACK = auto()"
   ]
  },
  {
   "cell_type": "code",
   "execution_count": 31,
   "metadata": {},
   "outputs": [],
   "source": [
    "# tiles = defaultdict(lambda: \"white\")\n",
    "tiles = defaultdict(lambda: Colors.WHITE)\n",
    "\n",
    "nums = []\n",
    "\n",
    "for k, v in Counter(visited).items():\n",
    "\n",
    "    if v % 2 != 0:\n",
    "        tiles[(k)] = Colors.BLACK\n",
    "    else:\n",
    "        tiles[(k)] = Colors.WHITE\n",
    "        \n",
    "    nums.append(k[0])\n",
    "    nums.append(k[1])"
   ]
  },
  {
   "cell_type": "code",
   "execution_count": 33,
   "metadata": {},
   "outputs": [],
   "source": [
    "assert Counter(tiles.values())[Colors.BLACK] == answer_part_1"
   ]
  },
  {
   "cell_type": "code",
   "execution_count": 16,
   "metadata": {},
   "outputs": [
    {
     "data": {
      "text/plain": [
       "(-16, 16)"
      ]
     },
     "execution_count": 16,
     "metadata": {},
     "output_type": "execute_result"
    }
   ],
   "source": [
    "min(nums), max(nums)"
   ]
  },
  {
   "cell_type": "code",
   "execution_count": 34,
   "metadata": {},
   "outputs": [],
   "source": [
    "def get_six_ajd(tile: tuple, current_tiles: dict):\n",
    "\n",
    "    for k, c in coord_change.items():\n",
    "        # nc = tuple_add(tile, c)\n",
    "        # print(k, nc)\n",
    "\n",
    "        yield current_tiles[tuple_add(tile, c)]"
   ]
  },
  {
   "cell_type": "code",
   "execution_count": 39,
   "metadata": {},
   "outputs": [
    {
     "data": {
      "text/plain": [
       "[<Colors.BLACK: 2>,\n",
       " <Colors.WHITE: 1>,\n",
       " <Colors.WHITE: 1>,\n",
       " <Colors.BLACK: 2>,\n",
       " <Colors.WHITE: 1>,\n",
       " <Colors.BLACK: 2>]"
      ]
     },
     "execution_count": 39,
     "metadata": {},
     "output_type": "execute_result"
    }
   ],
   "source": [
    "list(get_six_ajd((-2, -2), tiles))"
   ]
  },
  {
   "cell_type": "code",
   "execution_count": 37,
   "metadata": {},
   "outputs": [],
   "source": [
    "a = list(get_six_ajd((-2, -5), tiles))\n",
    "\n",
    "a = Counter(a)\n",
    "\n",
    "assert Colors.BLACK in a"
   ]
  },
  {
   "cell_type": "code",
   "execution_count": 40,
   "metadata": {},
   "outputs": [
    {
     "name": "stdout",
     "output_type": "stream",
     "text": [
      "0\n",
      "10\n",
      "20\n",
      "30\n",
      "40\n",
      "50\n",
      "60\n",
      "70\n",
      "80\n",
      "90\n"
     ]
    }
   ],
   "source": [
    "tiles_old = tiles.copy()\n",
    "tiles_new = tiles.copy()\n",
    "\n",
    "current_min = min(nums) - 1\n",
    "\n",
    "current_max = max(nums) + 1\n",
    "\n",
    "for day in range(100):\n",
    "\n",
    "    if day % 10 == 0:\n",
    "        print(day)\n",
    "\n",
    "    tiles_to_check = itertools.product(range(current_min, current_max + 1), repeat=2)\n",
    "\n",
    "    for t in tiles_to_check:\n",
    "\n",
    "        color = tiles_old[t]\n",
    "\n",
    "        if color == Colors.BLACK:\n",
    "\n",
    "            adjs = Counter(get_six_ajd(t, tiles_old))\n",
    "\n",
    "            # adjs = Counter(adjs)\n",
    "            if (Colors.BLACK not in adjs) or (adjs[Colors.BLACK] > 2):\n",
    "                tiles_new[t] = Colors.WHITE\n",
    "            else:\n",
    "                tiles_new[t] = Colors.BLACK\n",
    "\n",
    "        elif color == Colors.WHITE:\n",
    "\n",
    "            adjs = Counter(get_six_ajd(t, tiles_old))\n",
    "\n",
    "            if (Colors.BLACK in adjs) and (adjs[Colors.BLACK] == 2):\n",
    "                tiles_new[t] = Colors.BLACK\n",
    "            else:\n",
    "                tiles_new[t] = Colors.WHITE\n",
    "\n",
    "        else:\n",
    "            raise ValueError\n",
    "\n",
    "    # print(f\"Day {day}. Prev black\", Counter(tiles_old.values())[Colors.BLACK])\n",
    "    # print(f\"Day {day}. Current black\", Counter(tiles_new.values())[Colors.BLACK])\n",
    "\n",
    "    tiles_old = tiles_new.copy()\n",
    "    tiles_new = tiles_old.copy()\n",
    "\n",
    "    current_min -= 1\n",
    "    current_max += 1"
   ]
  },
  {
   "cell_type": "code",
   "execution_count": 41,
   "metadata": {},
   "outputs": [
    {
     "name": "stdout",
     "output_type": "stream",
     "text": [
      "done\n"
     ]
    }
   ],
   "source": [
    "print(\"done\") # 4078"
   ]
  },
  {
   "cell_type": "code",
   "execution_count": 42,
   "metadata": {},
   "outputs": [
    {
     "data": {
      "text/plain": [
       "(4078, 4078)"
      ]
     },
     "execution_count": 42,
     "metadata": {},
     "output_type": "execute_result"
    }
   ],
   "source": [
    "Counter(tiles_old.values())[Colors.BLACK], Counter(tiles_new.values())[Colors.BLACK]"
   ]
  },
  {
   "cell_type": "code",
   "execution_count": null,
   "metadata": {},
   "outputs": [],
   "source": []
  }
 ],
 "metadata": {
  "kernelspec": {
   "display_name": "testing",
   "language": "python",
   "name": "testing"
  },
  "language_info": {
   "codemirror_mode": {
    "name": "ipython",
    "version": 3
   },
   "file_extension": ".py",
   "mimetype": "text/x-python",
   "name": "python",
   "nbconvert_exporter": "python",
   "pygments_lexer": "ipython3",
   "version": "3.8.3"
  }
 },
 "nbformat": 4,
 "nbformat_minor": 4
}
