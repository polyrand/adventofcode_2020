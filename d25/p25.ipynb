{
 "cells": [
  {
   "cell_type": "code",
   "execution_count": 1,
   "metadata": {},
   "outputs": [],
   "source": [
    "div = 20201227"
   ]
  },
  {
   "cell_type": "code",
   "execution_count": 2,
   "metadata": {},
   "outputs": [],
   "source": [
    "def key(loop_size, subj_num=7):\n",
    "\n",
    "    value = 1\n",
    "\n",
    "    for _ in range(loop_size):\n",
    "\n",
    "        value *= subj_num\n",
    "\n",
    "        value %= div\n",
    "\n",
    "    return value"
   ]
  },
  {
   "cell_type": "markdown",
   "metadata": {},
   "source": [
    "Statements"
   ]
  },
  {
   "cell_type": "code",
   "execution_count": 3,
   "metadata": {},
   "outputs": [],
   "source": [
    "assert key(8) == 5764801\n",
    "assert key(11) == 17807724"
   ]
  },
  {
   "cell_type": "code",
   "execution_count": 4,
   "metadata": {},
   "outputs": [],
   "source": [
    "assert key(8, 17807724) == 14897079\n",
    "assert key(11, 5764801) == 14897079"
   ]
  },
  {
   "cell_type": "markdown",
   "metadata": {},
   "source": [
    "My input"
   ]
  },
  {
   "cell_type": "code",
   "execution_count": 5,
   "metadata": {},
   "outputs": [],
   "source": [
    "door_pub = 8987316\n",
    "card_pub = 14681524"
   ]
  },
  {
   "cell_type": "code",
   "execution_count": 6,
   "metadata": {},
   "outputs": [
    {
     "name": "stdout",
     "output_type": "stream",
     "text": [
      "door_loop=2541700\n",
      "Key=8987316\n",
      "card_loop=4208732\n",
      "Key=14681524\n"
     ]
    }
   ],
   "source": [
    "value = 1\n",
    "\n",
    "i = 0\n",
    "\n",
    "card_loop_size = None\n",
    "\n",
    "door_loop_size = None\n",
    "\n",
    "while not (card_loop_size and door_loop_size):\n",
    "\n",
    "    value *= 7\n",
    "\n",
    "    value %= 20201227\n",
    "\n",
    "    if value == card_pub:\n",
    "        print(f\"card_loop={i + 1}\")\n",
    "        print(f\"Key={value}\")\n",
    "        card_loop_size = i + 1\n",
    "\n",
    "    if value == door_pub:\n",
    "        print(f\"door_loop={i + 1}\")\n",
    "        print(f\"Key={value}\")\n",
    "        door_loop_size = i + 1\n",
    "\n",
    "    i += 1"
   ]
  },
  {
   "cell_type": "code",
   "execution_count": 7,
   "metadata": {},
   "outputs": [
    {
     "data": {
      "text/plain": [
       "(4208732, 2541700)"
      ]
     },
     "execution_count": 7,
     "metadata": {},
     "output_type": "execute_result"
    }
   ],
   "source": [
    "card_loop_size, door_loop_size"
   ]
  },
  {
   "cell_type": "code",
   "execution_count": 8,
   "metadata": {},
   "outputs": [],
   "source": [
    "assert key(door_loop_size) == door_pub\n",
    "assert key(card_loop_size) == card_pub"
   ]
  },
  {
   "cell_type": "code",
   "execution_count": 9,
   "metadata": {},
   "outputs": [
    {
     "name": "stdout",
     "output_type": "stream",
     "text": [
      "15217943\n",
      "15217943\n",
      "Keys match, result = 15217943\n"
     ]
    }
   ],
   "source": [
    "card_priv = key(card_loop_size, door_pub)\n",
    "print(card_priv)\n",
    "\n",
    "door_priv = key(door_loop_size, card_pub)\n",
    "print(door_priv)\n",
    "\n",
    "\n",
    "assert card_priv == door_priv\n",
    "\n",
    "print(f\"Keys match, result = {card_priv}\") # 15217943"
   ]
  }
 ],
 "metadata": {
  "kernelspec": {
   "display_name": "testing",
   "language": "python",
   "name": "testing"
  },
  "language_info": {
   "codemirror_mode": {
    "name": "ipython",
    "version": 3
   },
   "file_extension": ".py",
   "mimetype": "text/x-python",
   "name": "python",
   "nbconvert_exporter": "python",
   "pygments_lexer": "ipython3",
   "version": "3.8.3"
  }
 },
 "nbformat": 4,
 "nbformat_minor": 4
}
