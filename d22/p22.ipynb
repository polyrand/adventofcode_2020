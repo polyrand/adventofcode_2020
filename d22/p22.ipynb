{
 "cells": [
  {
   "cell_type": "markdown",
   "metadata": {},
   "source": [
    "## Part 1"
   ]
  },
  {
   "cell_type": "code",
   "execution_count": 1,
   "metadata": {},
   "outputs": [],
   "source": [
    "from collections import deque"
   ]
  },
  {
   "cell_type": "code",
   "execution_count": 2,
   "metadata": {},
   "outputs": [],
   "source": [
    "with open(\"input.txt\") as f:\n",
    "    data = f.read().split(\"\\n\\n\")"
   ]
  },
  {
   "cell_type": "code",
   "execution_count": 3,
   "metadata": {},
   "outputs": [],
   "source": [
    "def create_player_data(player: str) -> tuple:\n",
    "    \n",
    "    player = player.split(\"\\n\")\n",
    "    \n",
    "    player_num = player[0][-2]\n",
    "    \n",
    "    cards  = [int(e) for e in player[1:]]\n",
    "    \n",
    "    return player_num, cards"
   ]
  },
  {
   "cell_type": "code",
   "execution_count": 4,
   "metadata": {},
   "outputs": [
    {
     "data": {
      "text/plain": [
       "['Player 1:\\n28\\n13\\n25\\n16\\n38\\n3\\n14\\n6\\n29\\n2\\n47\\n20\\n35\\n43\\n30\\n39\\n21\\n42\\n50\\n48\\n23\\n11\\n34\\n24\\n41',\n",
       " 'Player 2:\\n27\\n37\\n9\\n10\\n17\\n31\\n19\\n33\\n40\\n12\\n32\\n1\\n18\\n36\\n49\\n46\\n26\\n4\\n45\\n8\\n15\\n5\\n44\\n22\\n7']"
      ]
     },
     "execution_count": 4,
     "metadata": {},
     "output_type": "execute_result"
    }
   ],
   "source": [
    "data"
   ]
  },
  {
   "cell_type": "code",
   "execution_count": 7,
   "metadata": {},
   "outputs": [],
   "source": [
    "class Player(deque):\n",
    "    def draw_card(self):\n",
    "\n",
    "        return self.popleft()\n",
    "\n",
    "\n",
    "    def add_cards(self, cards):\n",
    "\n",
    "        for card in cards:\n",
    "\n",
    "            self.append(card)\n",
    "\n",
    "        return self"
   ]
  },
  {
   "cell_type": "code",
   "execution_count": 8,
   "metadata": {},
   "outputs": [
    {
     "data": {
      "text/plain": [
       "Player([1, 2, 3, 4, 5, 6])"
      ]
     },
     "execution_count": 8,
     "metadata": {},
     "output_type": "execute_result"
    }
   ],
   "source": [
    "Player([1, 2, 3]).add_cards([4, 5, 6])"
   ]
  },
  {
   "cell_type": "code",
   "execution_count": 12,
   "metadata": {},
   "outputs": [],
   "source": [
    "player_1 = Player(create_player_data(data[0])[1])\n",
    "\n",
    "player_1.num = 1\n",
    "\n",
    "player_2 = Player(create_player_data(data[1])[1])\n",
    "\n",
    "player_2.num = 2"
   ]
  },
  {
   "cell_type": "code",
   "execution_count": 13,
   "metadata": {},
   "outputs": [
    {
     "data": {
      "text/plain": [
       "50"
      ]
     },
     "execution_count": 13,
     "metadata": {},
     "output_type": "execute_result"
    }
   ],
   "source": [
    "len(player_1) + len(player_2)"
   ]
  },
  {
   "cell_type": "code",
   "execution_count": 14,
   "metadata": {},
   "outputs": [],
   "source": [
    "class Game:\n",
    "    def __init__(self, player_1: Player, player_2: Player):\n",
    "\n",
    "        self.player_1 = player_1\n",
    "        self.player_2 = player_2\n",
    "\n",
    "        self.winner = None\n",
    "\n",
    "    def do_round(self):\n",
    "\n",
    "        card_1 = self.player_1.draw_card()\n",
    "\n",
    "        card_2 = self.player_2.draw_card()\n",
    "\n",
    "        if card_1 > card_2:\n",
    "\n",
    "            self.player_1.add_cards([card_1, card_2])\n",
    "\n",
    "        elif card_2 > card_1:\n",
    "\n",
    "            self.player_2.add_cards([card_2, card_1])\n",
    "            \n",
    "        else:\n",
    "            \n",
    "            raise ValueError(f\"{card1, card_2}\")\n",
    "\n",
    "    def check_any_player_finished(self):\n",
    "\n",
    "        if len(self.player_1) == 0:\n",
    "\n",
    "            self.winner = self.player_2\n",
    "\n",
    "            return True\n",
    "\n",
    "        elif len(self.player_2) == 0:\n",
    "\n",
    "            self.winner = self.player_1\n",
    "\n",
    "            return True\n",
    "\n",
    "        else:\n",
    "\n",
    "            return False\n",
    "\n",
    "    def play(self):\n",
    "\n",
    "        while not self.check_any_player_finished():\n",
    "\n",
    "            self.do_round()\n",
    "\n",
    "        print(f\"Winner's score: {self.calculate_score(self.winner)}\")\n",
    "        \n",
    "        return self.winner.num\n",
    "\n",
    "    def calculate_score(self, player):\n",
    "\n",
    "        assert self.winner\n",
    "\n",
    "        score = 0\n",
    "\n",
    "        for idx, value in enumerate(list(reversed(player)), start=1):\n",
    "\n",
    "            val = idx * value\n",
    "\n",
    "            score += val\n",
    "\n",
    "        return score"
   ]
  },
  {
   "cell_type": "code",
   "execution_count": 15,
   "metadata": {},
   "outputs": [],
   "source": [
    "g = Game(player_1, player_2)"
   ]
  },
  {
   "cell_type": "code",
   "execution_count": 16,
   "metadata": {},
   "outputs": [],
   "source": [
    "# enumerate(list(reversed(g.winner))="
   ]
  },
  {
   "cell_type": "code",
   "execution_count": 17,
   "metadata": {},
   "outputs": [
    {
     "name": "stdout",
     "output_type": "stream",
     "text": [
      "Winner's score: 33694\n"
     ]
    },
    {
     "data": {
      "text/plain": [
       "1"
      ]
     },
     "execution_count": 17,
     "metadata": {},
     "output_type": "execute_result"
    }
   ],
   "source": [
    "g.play() # 33694"
   ]
  },
  {
   "cell_type": "markdown",
   "metadata": {},
   "source": [
    "## Part 2"
   ]
  },
  {
   "cell_type": "code",
   "execution_count": 21,
   "metadata": {},
   "outputs": [],
   "source": [
    "from collections import deque\n",
    "from itertools import cycle"
   ]
  },
  {
   "cell_type": "code",
   "execution_count": 22,
   "metadata": {},
   "outputs": [],
   "source": [
    "with open(\"input.txt\") as f:\n",
    "    data = f.read().split(\"\\n\\n\")"
   ]
  },
  {
   "cell_type": "code",
   "execution_count": 23,
   "metadata": {},
   "outputs": [],
   "source": [
    "def create_player_data(player: str) -> tuple:\n",
    "    \n",
    "    player = player.split(\"\\n\")\n",
    "    \n",
    "    player_num = player[0][-2]\n",
    "    \n",
    "    cards  = [int(e) for e in player[1:]]\n",
    "    \n",
    "    return player_num, cards"
   ]
  },
  {
   "cell_type": "code",
   "execution_count": 24,
   "metadata": {},
   "outputs": [
    {
     "data": {
      "text/plain": [
       "['Player 1:\\n28\\n13\\n25\\n16\\n38\\n3\\n14\\n6\\n29\\n2\\n47\\n20\\n35\\n43\\n30\\n39\\n21\\n42\\n50\\n48\\n23\\n11\\n34\\n24\\n41',\n",
       " 'Player 2:\\n27\\n37\\n9\\n10\\n17\\n31\\n19\\n33\\n40\\n12\\n32\\n1\\n18\\n36\\n49\\n46\\n26\\n4\\n45\\n8\\n15\\n5\\n44\\n22\\n7']"
      ]
     },
     "execution_count": 24,
     "metadata": {},
     "output_type": "execute_result"
    }
   ],
   "source": [
    "data"
   ]
  },
  {
   "cell_type": "code",
   "execution_count": 25,
   "metadata": {},
   "outputs": [],
   "source": [
    "class Player(deque):\n",
    "    def draw_card(self):\n",
    "\n",
    "        return self.popleft()\n",
    "\n",
    "    def add_cards(self, cards):\n",
    "\n",
    "        for card in cards:\n",
    "\n",
    "            self.append(card)\n",
    "\n",
    "        return self"
   ]
  },
  {
   "cell_type": "code",
   "execution_count": 26,
   "metadata": {},
   "outputs": [],
   "source": [
    "player_1 = Player(create_player_data(data[0])[1])\n",
    "\n",
    "player_1.num = 1\n",
    "\n",
    "player_2 = Player(create_player_data(data[1])[1])\n",
    "\n",
    "player_2.num = 2"
   ]
  },
  {
   "cell_type": "code",
   "execution_count": 27,
   "metadata": {},
   "outputs": [
    {
     "data": {
      "text/plain": [
       "50"
      ]
     },
     "execution_count": 27,
     "metadata": {},
     "output_type": "execute_result"
    }
   ],
   "source": [
    "len(player_1) + len(player_2)"
   ]
  },
  {
   "cell_type": "code",
   "execution_count": 30,
   "metadata": {},
   "outputs": [],
   "source": [
    "class Game:\n",
    "    def __init__(\n",
    "        self,\n",
    "        player_1: Player,\n",
    "        player_2: Player,\n",
    "        is_sub: bool = False,\n",
    "        verbose: bool = False,\n",
    "    ):\n",
    "\n",
    "        self.player_1 = player_1\n",
    "        self.player_2 = player_2\n",
    "\n",
    "        self.winner = None\n",
    "\n",
    "        self.is_sub = is_sub\n",
    "\n",
    "        self.verbose = verbose\n",
    "\n",
    "        self.configurations_seen = set()\n",
    "\n",
    "    def do_round(self):\n",
    "\n",
    "        # Probably faster than using lists\n",
    "        configuration = tuple(\n",
    "            zip(self.player_1, cycle(self.player_2))\n",
    "            if len(self.player_1) > len(self.player_2)\n",
    "            else zip(cycle(self.player_1), self.player_2)\n",
    "        )\n",
    "\n",
    "        # [list(self.player_1), list(self.player_2)]\n",
    "\n",
    "        if configuration in self.configurations_seen:\n",
    "\n",
    "            if self.verbose:\n",
    "                print(\"Found previous configuration\")\n",
    "                # print(configuration, \"\\n\")\n",
    "                # print(self.configurations_seen)\n",
    "\n",
    "            self.winner = self.player_1\n",
    "\n",
    "            # make player 2 empty so that check_any_player_finished = True\n",
    "            self.player_2 = Player([])\n",
    "\n",
    "            return\n",
    "\n",
    "        else:\n",
    "\n",
    "            self.configurations_seen.add(configuration)\n",
    "\n",
    "        card_1 = self.player_1.draw_card()\n",
    "\n",
    "        card_2 = self.player_2.draw_card()\n",
    "\n",
    "        if self.should_jump_into_subgame(card_1, card_2):\n",
    "\n",
    "            new_player_1 = Player(list(self.player_1.copy())[:card_1])\n",
    "\n",
    "            new_player_1.num = 1\n",
    "\n",
    "            new_player_2 = Player(list(self.player_2.copy())[:card_2])\n",
    "\n",
    "            new_player_2.num = 2\n",
    "\n",
    "            if self.verbose:\n",
    "\n",
    "                print(f\"\\n\\nPlaying subgame {card_1}, {card_2}\")\n",
    "\n",
    "                print(new_player_1)\n",
    "\n",
    "                print(new_player_2)\n",
    "\n",
    "            new_game = self.__class__(new_player_1, new_player_2, is_sub=True)\n",
    "\n",
    "            sub_winner = new_game.play()\n",
    "\n",
    "            if self.verbose:\n",
    "\n",
    "                print(f\"Sub winner:\", sub_winner)\n",
    "\n",
    "            if sub_winner == 1:\n",
    "\n",
    "                self.player_1.add_cards([card_1, card_2])\n",
    "\n",
    "            elif sub_winner == 2:\n",
    "\n",
    "                self.player_2.add_cards([card_2, card_1])\n",
    "\n",
    "            return\n",
    "\n",
    "        if card_1 > card_2:\n",
    "\n",
    "            self.player_1.add_cards([card_1, card_2])\n",
    "\n",
    "            return\n",
    "\n",
    "        elif card_2 > card_1:\n",
    "\n",
    "            self.player_2.add_cards([card_2, card_1])\n",
    "\n",
    "            return\n",
    "\n",
    "        else:\n",
    "\n",
    "            raise ValueError(f\"{card1, card_2}\")\n",
    "\n",
    "    def check_any_player_finished(self):\n",
    "\n",
    "        if len(self.player_1) == 0:\n",
    "\n",
    "            self.winner = self.player_2\n",
    "\n",
    "            return True\n",
    "\n",
    "        elif len(self.player_2) == 0:\n",
    "\n",
    "            self.winner = self.player_1\n",
    "\n",
    "            return True\n",
    "\n",
    "        else:\n",
    "\n",
    "            return False\n",
    "\n",
    "    def play(self):\n",
    "\n",
    "        while not self.check_any_player_finished():\n",
    "\n",
    "            self.do_round()\n",
    "\n",
    "        if self.is_sub is False:\n",
    "\n",
    "            print(f\"Winner's score: {self.calculate_score(self.winner)}\")\n",
    "\n",
    "        return self.winner.num\n",
    "\n",
    "    def should_jump_into_subgame(self, card_player_1, card_player_2):\n",
    "\n",
    "        if self.verbose:\n",
    "\n",
    "            print(f\"==\\nCard player 1 {card_player_1}\")\n",
    "\n",
    "            print(f\"Len player 1: {len(self.player_1)}\")\n",
    "\n",
    "            print(f\"Card player 2 {card_player_2}\")\n",
    "\n",
    "            print(f\"Len player 2: {len(self.player_2)}\\n==\\n\")\n",
    "\n",
    "        if (len(self.player_1) == 0) or (len(self.player_2) == 0):\n",
    "\n",
    "            return False\n",
    "\n",
    "        if (len(self.player_1) >= card_player_1) and (\n",
    "            len(self.player_2) >= card_player_2\n",
    "        ):\n",
    "\n",
    "            return True\n",
    "\n",
    "        return False\n",
    "\n",
    "    def calculate_score(self, player):\n",
    "\n",
    "        assert self.winner\n",
    "\n",
    "        score = 0\n",
    "\n",
    "        for idx, value in enumerate(list(reversed(player)), start=1):\n",
    "\n",
    "            val = idx * value\n",
    "\n",
    "            score += val\n",
    "\n",
    "        return score"
   ]
  },
  {
   "cell_type": "code",
   "execution_count": 31,
   "metadata": {},
   "outputs": [],
   "source": [
    "player_1 = Player(create_player_data(data[0])[1])\n",
    "\n",
    "player_1.num = 1\n",
    "\n",
    "player_2 = Player(create_player_data(data[1])[1])\n",
    "\n",
    "player_2.num = 2"
   ]
  },
  {
   "cell_type": "code",
   "execution_count": 32,
   "metadata": {},
   "outputs": [],
   "source": [
    "g = Game(player_1, player_2)"
   ]
  },
  {
   "cell_type": "code",
   "execution_count": 33,
   "metadata": {},
   "outputs": [
    {
     "name": "stdout",
     "output_type": "stream",
     "text": [
      "Winner's score: 31835\n"
     ]
    },
    {
     "data": {
      "text/plain": [
       "1"
      ]
     },
     "execution_count": 33,
     "metadata": {},
     "output_type": "execute_result"
    }
   ],
   "source": [
    "g.play() # 31835"
   ]
  },
  {
   "cell_type": "code",
   "execution_count": null,
   "metadata": {},
   "outputs": [],
   "source": []
  }
 ],
 "metadata": {
  "kernelspec": {
   "display_name": "testing",
   "language": "python",
   "name": "testing"
  },
  "language_info": {
   "codemirror_mode": {
    "name": "ipython",
    "version": 3
   },
   "file_extension": ".py",
   "mimetype": "text/x-python",
   "name": "python",
   "nbconvert_exporter": "python",
   "pygments_lexer": "ipython3",
   "version": "3.8.3"
  }
 },
 "nbformat": 4,
 "nbformat_minor": 4
}
